{
 "cells": [
  {
   "cell_type": "markdown",
   "metadata": {},
   "source": [
    "# Multispectral Rendering\n",
    "\n",
    "This notebook demonstrates how to solve the Radiative Transfer using SHDOM and render multispectral images. \n",
    "\n",
    "The images rendered are at several wavelengths for which a mie tables were previously calculated.\n",
    "\n",
    "---\n",
    "\n",
    "Related tutorials: \n",
    " - Make Mie Table.ipynb - how to create mie tables\n",
    " - Radiance Rendering [Single Image].ipynb - how to create a single monochromatic image\n",
    " - Radiance Rendering [Multiview].ipynb - how to create multiview images\n",
    "\n",
    "---\n",
    "\n",
    "The source Fortran code was created by Frank Evans and it is part of the SHDOM package: http://nit.colorado.edu/shdom.html\n",
    "\n",
    "The python wrapper was created by Aviad Levis, Technion Inst. of Technology 2019: https://github.com/aviadlevis/pyshdom"
   ]
  },
  {
   "cell_type": "code",
   "execution_count": 1,
   "metadata": {},
   "outputs": [],
   "source": [
    "\"\"\"\n",
    "Imports necessary for this notebook\n",
    "\"\"\"\n",
    "import os \n",
    "import matplotlib.pyplot as plt\n",
    "import numpy as np\n",
    "import shdom"
   ]
  },
  {
   "cell_type": "code",
   "execution_count": 2,
   "metadata": {
    "ExecuteTime": {
     "end_time": "2019-05-21T08:51:07.851224Z",
     "start_time": "2019-05-21T08:51:05.166440Z"
    }
   },
   "outputs": [
    {
     "name": "stdout",
     "output_type": "stream",
     "text": [
      "Reading mie table from file: ../mie_tables/polydisperse/Water_672nm.scat\n",
      "Reading mie table from file: ../mie_tables/polydisperse/Water_550nm.scat\n",
      "Reading mie table from file: ../mie_tables/polydisperse/Water_445nm.scat\n"
     ]
    }
   ],
   "source": [
    "\"\"\" \n",
    "Load mie tables at several wavelengths and generate an RteSolverArray.\n",
    "Spectral solar fluxes at each wavelength are calculated based on extraterrestrial solar spectrum at 1AU\n",
    "\n",
    "Note:\n",
    "These mie tables need to be calculated prior to running this cell\n",
    "\"\"\"\n",
    "wavelengths = [0.672, 0.550, 0.445]\n",
    "mie_table_paths = ['../mie_tables/polydisperse/Water_{}nm.scat'.format(shdom.int_round(wavelength)) \\\n",
    "                   for wavelength in wavelengths]\n",
    "                                                                       \n",
    "solar_spectrum = shdom.SolarSpectrum('../ancillary_data/SpectralSolar_MODWehrli_1985_WMO.npz')\n",
    "solar_fluxes = solar_spectrum.get_monochrome_solar_flux(wavelengths)\n",
    "solar_fluxes = solar_fluxes / max(solar_fluxes)\n",
    "\n",
    "\n",
    "temperatures = np.array([292.220, 292.040, 291.860, 291.680, 291.500, 291.320, 291.140, 290.960, 290.780, \n",
    "                         290.600, 290.420, 290.240, 290.060, 289.880, 289.700, 289.920, 290.140, 290.360, \n",
    "                         290.580, 290.800, 291.020, 291.240, 291.460, 291.680, 291.900])\n",
    "air_molecules_grid = shdom.Grid(z=np.linspace(0.0, 20.0, len(temperatures)))\n",
    "temperature_profile = shdom.GridData(air_molecules_grid, temperatures)\n",
    "\n",
    "# Generate multi-spectral scatterers for both droplets and air molecules\n",
    "droplets = shdom.MicrophysicalScatterer()\n",
    "droplets.load_from_csv('../synthetic_cloud_fields/jpl_les/rico32x36x25.txt', veff=0.1)\n",
    "air = shdom.MultispectralScatterer()\n",
    "\n",
    "for wavelength, table_path in zip(wavelengths, mie_table_paths):\n",
    "    \n",
    "    # Molecular Rayleigh scattering\n",
    "    rayleigh = shdom.Rayleigh(wavelength)\n",
    "    rayleigh.set_profile(temperature_profile)\n",
    "    air.add_scatterer(rayleigh.get_scatterer())\n",
    "    \n",
    "    # Droplet Mie scattering\n",
    "    mie = shdom.MiePolydisperse()\n",
    "    mie.read_table(table_path)\n",
    "    droplets.add_mie(mie)\n",
    "    \n",
    "# Generate an atmospheric medium with both scatterers\n",
    "atmospheric_grid = droplets.grid + air.grid\n",
    "atmosphere = shdom.Medium(atmospheric_grid)\n",
    "atmosphere.add_scatterer(droplets, name='cloud')\n",
    "atmosphere.add_scatterer(air, name='air')\n",
    "\n",
    "# Generate a solver array for a multispectral solution\n",
    "rte_solvers = shdom.RteSolverArray()\n",
    "\n",
    "for wavelength, solar_flux in zip(wavelengths, solar_fluxes):\n",
    "    numerical_params = shdom.NumericalParameters()\n",
    "    scene_params = shdom.SceneParameters(\n",
    "        wavelength=wavelength,\n",
    "        source=shdom.SolarSource(azimuth=0, zenith=180, flux=solar_flux)\n",
    "    ) \n",
    "    rte_solver = shdom.RteSolver(scene_params, numerical_params)\n",
    "    rte_solver.set_medium(atmosphere)\n",
    "    rte_solvers.add_solver(rte_solver)"
   ]
  },
  {
   "cell_type": "code",
   "execution_count": 3,
   "metadata": {
    "ExecuteTime": {
     "end_time": "2019-05-21T08:51:23.131301Z",
     "start_time": "2019-05-21T08:51:07.853333Z"
    }
   },
   "outputs": [],
   "source": [
    "\"\"\"\n",
    "Solve the Radiative Transfer for the domain using SHDOM: SOLVE_RTE procedure (shdomsub1.f).\n",
    "The outputs are the source function (J) and radiance field (I) which are stored in \n",
    "the shdom.RteSolver object. These are subsequently used for the rendering of an image.\n",
    "\"\"\"\n",
    "rte_solvers.solve(maxiter=100)"
   ]
  },
  {
   "cell_type": "code",
   "execution_count": 4,
   "metadata": {
    "ExecuteTime": {
     "end_time": "2019-05-21T08:53:32.061812Z",
     "start_time": "2019-05-21T08:53:31.379819Z"
    }
   },
   "outputs": [
    {
     "data": {
      "image/png": "[encoded data removed]",
      "text/plain": [
       "<Figure size 432x288 with 1 Axes>"
      ]
     },
     "metadata": {
      "needs_background": "light"
     },
     "output_type": "display_data"
    }
   ],
   "source": [
    "projection = shdom.OrthographicProjection(\n",
    "    bounding_box=droplets.grid.bounding_box, \n",
    "    x_resolution=0.02, \n",
    "    y_resolution=0.02, \n",
    "    azimuth=0.0, \n",
    "    zenith=0.0,\n",
    "    altitude='TOA'\n",
    ")\n",
    "camera = shdom.Camera(shdom.RadianceSensor(), projection)\n",
    "image = camera.render(rte_solvers)\n",
    "\n",
    "%matplotlib inline\n",
    "plt.imshow(image/image.max())\n",
    "plt.gca().invert_yaxis() \n",
    "plt.gca().invert_xaxis() "
   ]
  }
 ],
 "metadata": {
  "celltoolbar": "Initialization Cell",
  "kernelspec": {
   "display_name": "Python 3",
   "language": "python",
   "name": "python3"
  },
  "language_info": {
   "codemirror_mode": {
    "name": "ipython",
    "version": 3
   },
   "file_extension": ".py",
   "mimetype": "text/x-python",
   "name": "python",
   "nbconvert_exporter": "python",
   "pygments_lexer": "ipython3",
   "version": "3.7.3"
  },
  "latex_envs": {
   "LaTeX_envs_menu_present": true,
   "autoclose": false,
   "autocomplete": true,
   "bibliofile": "biblio.bib",
   "cite_by": "apalike",
   "current_citInitial": 1,
   "eqLabelWithNumbers": true,
   "eqNumInitial": 1,
   "hotkeys": {
    "equation": "Ctrl-E",
    "itemize": "Ctrl-I"
   },
   "labels_anchors": false,
   "latex_user_defs": false,
   "report_style_numbering": false,
   "user_envs_cfg": false
  },
  "varInspector": {
   "cols": {
    "lenName": 16,
    "lenType": 16,
    "lenVar": 40
   },
   "kernels_config": {
    "python": {
     "delete_cmd_postfix": "",
     "delete_cmd_prefix": "del ",
     "library": "var_list.py",
     "varRefreshCmd": "print(var_dic_list())"
    },
    "r": {
     "delete_cmd_postfix": ") ",
     "delete_cmd_prefix": "rm(",
     "library": "var_list.r",
     "varRefreshCmd": "cat(var_dic_list()) "
    }
   },
   "types_to_exclude": [
    "module",
    "function",
    "builtin_function_or_method",
    "instance",
    "_Feature"
   ],
   "window_display": false
  }
 },
 "nbformat": 4,
 "nbformat_minor": 2
}
