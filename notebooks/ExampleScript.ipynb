{
 "cells": [
  {
   "cell_type": "markdown",
   "metadata": {},
   "source": [
    "# Refactored Script: MultiView/MultiWavelength"
   ]
  },
  {
   "cell_type": "code",
   "execution_count": 1,
   "metadata": {},
   "outputs": [],
   "source": [
    "#imports\n",
    "import shdom\n",
    "import xarray as xr\n",
    "import numpy as np\n",
    "import matplotlib.pyplot as plt\n",
    "import os\n",
    "os.chdir('/Users/jesserl2/Documents/Code/aviad_pyshdom_dev/pyshdom_dev')\n",
    "\n",
    "from collections import OrderedDict"
   ]
  },
  {
   "cell_type": "markdown",
   "metadata": {},
   "source": [
    "# Define the Medium\n",
    "\n",
    "Decide on the individual scatterers and decide on the RTE grid that will be used.\n",
    "This must be done before sensor definition in the case of orthographic sensors\n",
    "and will also help decide general sensor pointing directions etc so should be the first step.\n",
    "\n",
    "Some utility functions from shdom.grid are used to combine the grids but these could be defined arbitrarily.\n",
    "\n",
    "All of the workflow, including this first step is based on the use of SHDOM."
   ]
  },
  {
   "cell_type": "code",
   "execution_count": 2,
   "metadata": {},
   "outputs": [],
   "source": [
    "#load a cloud.\n",
    "#locate the 'origin' of the cloud at 0.0,0.0 for simplicity.\n",
    "#this option allows us to easily move individual clouds with respect to each other\n",
    "#and even if overlapping they will be merged onto the RTE grid.\n",
    "cloud_scatterer = shdom.grid.load_from_csv('./synthetic_cloud_fields/jpl_les/rico32x37x26.txt', \n",
    "                                           density='lwc',origin=(0.0,0.0))\n",
    "\n",
    "#load atmosphere file for rayleigh. (and eventually gases)\n",
    "#'Altitude' coordinate is renamed to 'z'.\n",
    "atmosphere = xr.open_dataset('./ancillary_data/AFGL_summer_mid_lat.nc').rename(Altitude='z')\n",
    "\n",
    "#extract a chosen temperature_profile and the surface_pressure.\n",
    "#only model atmosphere below 20 km. This choice needs to be made here so\n",
    "#that an RTE grid can be defined.\n",
    "reduced_atmosphere = atmosphere.sel({'z': atmosphere.coords['z'].data[atmosphere.coords['z'].data <= 1.0]})\n",
    "\n",
    "# -----  make the RTE grid ---------------------------\n",
    "\n",
    "#make RTE grid just using cloud_scatterer for horizontal grid and 'merged' z coordinates.\n",
    "merged_z_coordinate = shdom.grid.combine_z_coordinates([reduced_atmosphere,cloud_scatterer])\n",
    "\n",
    "#simple 'union' horizontal grid merging for 3D and 1D needs to be fixed.\n",
    "rte_grid = shdom.grid.make_grid(cloud_scatterer.x.data.min(),cloud_scatterer.x.data.max(),cloud_scatterer.x.data.size,\n",
    "                           cloud_scatterer.y.data.min(),cloud_scatterer.y.data.max(),cloud_scatterer.y.data.size,\n",
    "                           merged_z_coordinate)\n",
    "\n"
   ]
  },
  {
   "cell_type": "markdown",
   "metadata": {},
   "source": [
    "# Define the Sensors\n",
    "\n",
    "Individual sensors should be added and appended to a list. Any combination can be created.\n",
    "To illustrate a little of the variety we have an idealization of a MISR/MODIS or MSPI/eMAS type configuration with multi-view VIS and nadir-view multi-spectral."
   ]
  },
  {
   "cell_type": "code",
   "execution_count": 3,
   "metadata": {},
   "outputs": [],
   "source": [
    "#This is modified by the user as needed.\n",
    "\n",
    "#idealized monochromatic orthographic sensors at different wavelengths.\n",
    "#9 'MISR-like' VIS cameras\n",
    "#1  'MODIS-like' nadir multi-spectral sensor.\n",
    "\n",
    "sensor_list = []\n",
    "\n",
    "#add MISR-like sensors\n",
    "sensor_zenith_list = [70.6,60.0,45.6,26.1,26.1,45.6,60.0,70.6]\n",
    "sensor_azimuth_list = [90,90,90,90,-90,-90,-90,-90]\n",
    "\n",
    "for zenith,azimuth in zip(sensor_zenith_list,sensor_azimuth_list):\n",
    "    sensor_list.append(\n",
    "        shdom.sensor.add_sub_pixel_rays(shdom.sensor.orthographic_projection(0.66, rte_grid,0.02,0.02, azimuth, zenith,\n",
    "                                             altitude='TOA', stokes='I'\n",
    "                                            ),0.0)\n",
    "    \n",
    "    )\n",
    "  \n",
    "#add MODIS-like sensors\n",
    "wavelength_list = [0.66, 1.65,2.17]\n",
    "for wavelength in wavelength_list:\n",
    "    sensor_list.append(\n",
    "        shdom.sensor.add_sub_pixel_rays(shdom.sensor.orthographic_projection(wavelength,rte_grid,0.02,0.02,0.0,0.0,\n",
    "                                            altitude='TOA',\n",
    "                                            stokes='I'\n",
    "                                            ),0.0)\n",
    "    )"
   ]
  },
  {
   "cell_type": "markdown",
   "metadata": {},
   "source": [
    "# Define the Number of SHDOM solvers.\n",
    "\n",
    "Here we need to choose the type (number of stokes components) and number (for different wavelengths) of SHDOM solvers. In this case we only have monochromatic sensors so the choice of SHDOMs is very simple and can be fixed/reused code. \n",
    "The number of SHDOM solvers could be defined based on other unique criteria such as arbitrary combinations of different sources/surfaces or scatterers. Scripts of that form can easily be adapted from this.\n",
    "This is the most common desired workflow as all RTE solvers at different wavelengths correspond to the same physical situation.\n"
   ]
  },
  {
   "cell_type": "code",
   "execution_count": 4,
   "metadata": {},
   "outputs": [],
   "source": [
    "#num_stokes should be set to choose whether to use num_stokes=USER_SPECIFIED\n",
    "#even if only radiance needs to be simulated for accuracy reasons.\n",
    "num_stokes_override_flag = False\n",
    "num_stokes_override=3\n",
    "\n",
    "#extract all unique_wavelengths\n",
    "#this treats even very slightly different wavelengths as unique.\n",
    "wavelengths = np.unique([sensor.wavelength for sensor in sensor_list])\n",
    "\n",
    "#From here everything is now ordered dicts for traceability of which solver each entry corresponds to,\n",
    "#(with wavelength as the unique identifier).\n",
    "#Other unique identifiers coould be used.\n",
    "\n",
    "num_stokes = OrderedDict()\n",
    "rte_sensors = OrderedDict()\n",
    "\n",
    "for wavelength in wavelengths:\n",
    "    sensor_list_wavelength = []\n",
    "    for sensor in sensor_list:\n",
    "        if sensor.wavelength == wavelength:\n",
    "            if sensor.stokes[3]:\n",
    "                min_stokes = 4\n",
    "            elif sensor.stokes[1] or sensor.stokes[2]:\n",
    "                min_stokes = 3\n",
    "            elif sensor.stokes[0]:\n",
    "                min_stokes = 1\n",
    "            if (num_stokes_override_flag) & (min_stokes < num_stokes_override):\n",
    "                min_stokes = num_stokes_override\n",
    "            num_stokes[wavelength] = min_stokes\n",
    "            \n",
    "            sensor_list_wavelength.append(sensor)\n",
    "    rte_sensors[wavelength] = sensor_list_wavelength\n",
    "                "
   ]
  },
  {
   "cell_type": "markdown",
   "metadata": {},
   "source": [
    "# Define Other RTE inputs.\n",
    "\n",
    "These are determined by the unique identifier which is wavelength in this case.\n",
    "For simplicity all other inputs are wavelength invariant."
   ]
  },
  {
   "cell_type": "code",
   "execution_count": 5,
   "metadata": {},
   "outputs": [],
   "source": [
    "names = OrderedDict()\n",
    "surfaces = OrderedDict()\n",
    "sources = OrderedDict()\n",
    "numerical_parameters = OrderedDict()\n",
    "\n",
    "for wavelength in wavelengths:\n",
    "    names[wavelength] = None\n",
    "    surfaces[wavelength] = shdom.surface.fixed_lambertian_surface(albedo=0.01) #surface is wavelength independent.\n",
    "    sources[wavelength] = shdom.source.solar_source(145.0,0.0,solarflux=1.0)\n",
    "    numerical_parameters[wavelength] = shdom.configuration.get_config('./default_config.json') #all use defaults.\n",
    "     "
   ]
  },
  {
   "cell_type": "markdown",
   "metadata": {},
   "source": [
    "# Define Scatterer Optical Properties\n",
    "\n",
    "In this case we only have one mie scatterer. Each type of scatterer should be explicitly treated with its own section here.\n",
    "\n",
    "This is a key component of the 'set_state' workflow.\n",
    "\n"
   ]
  },
  {
   "cell_type": "code",
   "execution_count": 6,
   "metadata": {},
   "outputs": [
    {
     "name": "stdout",
     "output_type": "stream",
     "text": [
      "making mie_table. . . may take a while.\n",
      "making mie_table. . . may take a while.\n",
      "making mie_table. . . may take a while.\n"
     ]
    }
   ],
   "source": [
    "#resample the cloud onto the rte_grid\n",
    "cloud_scatterer_on_rte_grid = shdom.grid.resample_onto_grid(rte_grid, cloud_scatterer)\n",
    "\n",
    "#define any necessary variables for microphysics here.\n",
    "size_distribution_function = shdom.size_distribution.gamma\n",
    "#We choose a gamma size distribution and therefore need to define a 'veff' variable.\n",
    "cloud_scatterer_on_rte_grid['veff'] = (cloud_scatterer_on_rte_grid.reff.dims, \n",
    "                                       np.full_like(cloud_scatterer_on_rte_grid.reff.data, fill_value=0.1))\n",
    "\n",
    "#calculate the optical properties for this scatterer.\n",
    "#All wavelengths use consistent settings.\n",
    "cloud_optical_scatterers = OrderedDict()\n",
    "for wavelength in wavelengths:\n",
    "    print('making mie_table. . . may take a while.')\n",
    "    mie_mono_table = shdom.mie.get_mono_table('Water',(wavelength,wavelength)) \n",
    "    cloud_size_distribution = shdom.size_distribution.get_size_distribution_grid(\n",
    "                                                            mie_mono_table.radius.data,\n",
    "                        size_distribution_function=shdom.size_distribution.gamma,particle_density=1.0,\n",
    "                        reff=[4.0,25.0,25,'logarithmic','micron'],\n",
    "                        veff=[0.09,0.11,2,'linear','unitless'],                                                                               \n",
    "                        )\n",
    "    poly_table = shdom.mie.get_poly_table(cloud_size_distribution,mie_mono_table)\n",
    "    cloud_optical_scatterers[wavelength] = shdom.medium.table_to_grid(cloud_scatterer_on_rte_grid, poly_table)\n",
    "    "
   ]
  },
  {
   "cell_type": "markdown",
   "metadata": {},
   "source": [
    "# Define Rayleigh Optical Properties"
   ]
  },
  {
   "cell_type": "code",
   "execution_count": 7,
   "metadata": {},
   "outputs": [],
   "source": [
    "#get rayleigh.\n",
    "#This is self contained due to its simplicity.\n",
    "rayleigh_scatterer_list = shdom.rayleigh.to_grid(wavelengths,atmosphere,rte_grid)\n",
    "\n"
   ]
  },
  {
   "cell_type": "code",
   "execution_count": 8,
   "metadata": {},
   "outputs": [],
   "source": [
    "#group properties \n",
    "mediums = OrderedDict()\n",
    "for key,optical in cloud_optical_scatterers.items():\n",
    "    \n",
    "    rayleigh = rayleigh_scatterer_list[key]\n",
    "    mediums[key] = [optical]#, rayleigh]\n",
    "    \n",
    "    \n",
    "    "
   ]
  },
  {
   "cell_type": "code",
   "execution_count": 9,
   "metadata": {},
   "outputs": [],
   "source": [
    "#make solver list\n",
    "solvers = OrderedDict()\n",
    "\n",
    "for key,name in names.items():\n",
    "    solvers[key] = shdom.solver.RTE(numerical_params=numerical_parameters[key], \n",
    "                                    medium=mediums[key],\n",
    "                                   source=sources[key],\n",
    "                                   surface=surfaces[key],\n",
    "                                    num_stokes=num_stokes[key],\n",
    "                                    name=name\n",
    "                                   )"
   ]
  },
  {
   "cell_type": "code",
   "execution_count": 10,
   "metadata": {},
   "outputs": [],
   "source": [
    "#solver list can be distributed in parallel or in serial for solution\n",
    "#the solved solvers are modified inplace and can be found in solvers.\n",
    "for solver in solvers.values():\n",
    "    solver.solve(maxiter=100)"
   ]
  },
  {
   "cell_type": "code",
   "execution_count": 13,
   "metadata": {},
   "outputs": [],
   "source": [
    "observables = OrderedDict()\n",
    "for key,sensors in rte_sensors.items():\n",
    "    merged_sensor_rays = shdom.sensor.merge_sensor_rays(sensors)\n",
    "    rendered_rays = shdom.sensor.split_sensor_rays(solvers[key].integrate_to_sensor(merged_sensor_rays))\n",
    "    observable = [shdom.sensor.get_observables(sensor,rendered_ray) for sensor,rendered_ray in zip(sensors, rendered_rays)]\n",
    "    observables[key] = observable\n",
    "\n"
   ]
  },
  {
   "cell_type": "code",
   "execution_count": 24,
   "metadata": {},
   "outputs": [
    {
     "data": {
      "image/png": "[encoded data removed]",
      "text/plain": [
       "<Figure size 1440x1440 with 9 Axes>"
      ]
     },
     "metadata": {
      "needs_background": "light"
     },
     "output_type": "display_data"
    }
   ],
   "source": [
    "#get VIS images\n",
    "\n",
    "images = [observable.I.data.reshape(observable.image_shape.data,order='F') for observable in observables[0.66]]\n",
    "\n",
    "%matplotlib inline\n",
    "f, axarr = plt.subplots(1, len(images), figsize=(20, 20))\n",
    "for ax, image in zip(axarr, images):\n",
    "    ax.imshow(image)\n",
    "    ax.invert_xaxis() \n",
    "    ax.invert_yaxis() \n",
    "    ax.axis('off')\n",
    "    \n"
   ]
  }
 ],
 "metadata": {
  "kernelspec": {
   "display_name": "Python 3",
   "language": "python",
   "name": "python3"
  },
  "language_info": {
   "codemirror_mode": {
    "name": "ipython",
    "version": 3
   },
   "file_extension": ".py",
   "mimetype": "text/x-python",
   "name": "python",
   "nbconvert_exporter": "python",
   "pygments_lexer": "ipython3",
   "version": "3.7.3"
  }
 },
 "nbformat": 4,
 "nbformat_minor": 2
}
