{
 "cells": [
  {
   "cell_type": "markdown",
   "metadata": {},
   "source": [
    "# Refactored Script: MultiView/MultiWavelength"
   ]
  },
  {
   "cell_type": "code",
   "execution_count": 1,
   "metadata": {},
   "outputs": [],
   "source": [
    "#imports\n",
    "import shdom\n",
    "import xarray as xr\n",
    "import numpy as np\n",
    "import matplotlib.pyplot as plt\n",
    "import os\n",
    "os.chdir('/Users/jesserl2/Documents/Code/aviad_pyshdom_dev/pyshdom_dev')\n",
    "\n",
    "from collections import OrderedDict"
   ]
  },
  {
   "cell_type": "markdown",
   "metadata": {},
   "source": [
    "# Define the Medium\n",
    "\n",
    "Decide on the individual scatterers and decide on the RTE grid that will be used.\n",
    "This must be done before sensor definition in the case of orthographic sensors\n",
    "and will also help decide general sensor pointing directions etc so should be the first step.\n",
    "\n",
    "Some utility functions from shdom.grid are used to combine the grids but these could be defined arbitrarily.\n",
    "\n",
    "All of the workflow, including this first step is based on the use of SHDOM."
   ]
  },
  {
   "cell_type": "code",
   "execution_count": 2,
   "metadata": {},
   "outputs": [],
   "source": [
    "#load a cloud.\n",
    "#locate the 'origin' of the cloud at 0.0,0.0 for simplicity.\n",
    "#this option allows us to easily move individual clouds with respect to each other\n",
    "#and even if overlapping they will be merged onto the RTE grid.\n",
    "cloud_scatterer = shdom.grid.load_from_csv('./synthetic_cloud_fields/jpl_les/rico32x37x26.txt', \n",
    "                                           density='lwc',origin=(0.0,0.0))\n",
    "\n",
    "#load atmosphere file for rayleigh. (and eventually gases)\n",
    "#'Altitude' coordinate is renamed to 'z'.\n",
    "atmosphere = xr.open_dataset('./ancillary_data/AFGL_summer_mid_lat.nc').rename(Altitude='z')\n",
    "\n",
    "#extract a chosen temperature_profile and the surface_pressure.\n",
    "#only model atmosphere below 20 km. This choice needs to be made here so\n",
    "#that an RTE grid can be defined.\n",
    "\n",
    "#try where with drop.na\n",
    "reduced_atmosphere = atmosphere.sel({'z': atmosphere.coords['z'].data[atmosphere.coords['z'].data <= 10.0]})\n",
    "\n",
    "# -----  make the RTE grid ---------------------------\n",
    "\n",
    "#make RTE grid just using cloud_scatterer for horizontal grid and 'merged' z coordinates.\n",
    "merged_z_coordinate = shdom.grid.combine_z_coordinates([reduced_atmosphere,cloud_scatterer])\n",
    "\n",
    "#simple 'union' horizontal grid merging for 3D and 1D needs to be fixed.\n",
    "rte_grid = shdom.grid.make_grid(cloud_scatterer.x.data.min(),cloud_scatterer.x.data.max(),cloud_scatterer.x.data.size,\n",
    "                           cloud_scatterer.y.data.min(),cloud_scatterer.y.data.max(),cloud_scatterer.y.data.size,\n",
    "                           merged_z_coordinate)\n",
    "\n",
    "#TODO \n"
   ]
  },
  {
   "cell_type": "code",
   "execution_count": 3,
   "metadata": {},
   "outputs": [],
   "source": [
    "#resample the cloud onto the rte_grid\n",
    "cloud_scatterer_on_rte_grid = shdom.grid.resample_onto_grid(rte_grid, cloud_scatterer)\n",
    "\n",
    "#define any necessary variables for microphysics here.\n",
    "size_distribution_function = shdom.size_distribution.gamma\n",
    "#We choose a gamma size distribution and therefore need to define a 'veff' variable.\n",
    "cloud_scatterer_on_rte_grid['veff'] = (cloud_scatterer_on_rte_grid.reff.dims, \n",
    "                                       np.full_like(cloud_scatterer_on_rte_grid.reff.data, fill_value=0.1))\n",
    "\n",
    "shdom.grid.to_2parameter_lwc_file('/Users/jesserl2/fixed_rico32x37x26.txt',cloud_scatterer_on_rte_grid)\n",
    "\n",
    "#new = shdom.grid.load_2parameter_lwc_file('/Users/jesserl2/fixed_rico32x37x26.txt')"
   ]
  },
  {
   "cell_type": "markdown",
   "metadata": {},
   "source": [
    "# Define the Sensors\n",
    "\n",
    "Individual sensors should be added and appended to a list. Any combination can be created.\n",
    "To illustrate a little of the variety we have an idealization of a MISR/MODIS or MSPI/eMAS type configuration with multi-view VIS and nadir-view multi-spectral."
   ]
  },
  {
   "cell_type": "code",
   "execution_count": 4,
   "metadata": {},
   "outputs": [],
   "source": [
    "#This is modified by the user as needed.\n",
    "\n",
    "#idealized monochromatic orthographic sensors at different wavelengths.\n",
    "#9 'MISR-like' VIS cameras\n",
    "#1  'MODIS-like' nadir multi-spectral sensor.\n",
    "\n",
    "#TODO make this defined as a dict with entries for each 'instrument' to group sensors\n",
    "Sensordict = OrderedDict()\n",
    "\n",
    "misr_list = []\n",
    "\n",
    "#add MISR-like sensors\n",
    "sensor_zenith_list = [75.0,70.6]#,65.0,60.0,55.0,50.0,45.6,40.0,35.0,30.0,26.1,20.0,15.0,10.0,5.0]*2 + [0.0]\n",
    "sensor_azimuth_list = [90]*2 #+ [-90]*15 +[0.0]\n",
    "\n",
    "for zenith,azimuth in zip(sensor_zenith_list,sensor_azimuth_list):\n",
    "    misr_list.append(\n",
    "        shdom.sensor.add_sub_pixel_rays(shdom.sensor.orthographic_projection(1.65, cloud_scatterer,0.02,0.02, azimuth, zenith,\n",
    "                                             altitude='TOA', stokes='I'\n",
    "                                            ),FOV=1.0,degree=2)\n",
    "    \n",
    "    )\n",
    "    \n",
    "Sensordict['MISR'] = {'sensor_list': misr_list}\n",
    "  \n",
    "modis_list = []\n",
    "#add MODIS-like sensors\n",
    "wavelength_list = [1.65,2.17]\n",
    "for wavelength in wavelength_list:\n",
    "    modis_list.append(\n",
    "        shdom.sensor.add_sub_pixel_rays(shdom.sensor.orthographic_projection(wavelength,cloud_scatterer,0.02,0.02,0.0,0.0,\n",
    "                                            altitude='TOA',\n",
    "                                            stokes='I'\n",
    "                                            ),1.0,degree=2)\n",
    "    )\n",
    "    \n",
    "Sensordict['MODIS'] = {'sensor_list': modis_list}"
   ]
  },
  {
   "cell_type": "code",
   "execution_count": 5,
   "metadata": {},
   "outputs": [],
   "source": [
    "def make_forward_sensors(sensors):\n",
    "    \n",
    "    forward_sensors = OrderedDict()\n",
    "    for key,sensor in sensors.items():\n",
    "        forward_sensor= OrderedDict()\n",
    "        forward_sensor['sensor_list'] = [single_sensor.copy(deep=True) for single_sensor in sensor['sensor_list']]\n",
    "        forward_sensors[key] = forward_sensor\n",
    "        \n",
    "    return forward_sensors\n",
    "\n",
    "\n",
    "forward_sensors = make_forward_sensors(Sensordict)"
   ]
  },
  {
   "cell_type": "code",
   "execution_count": 6,
   "metadata": {},
   "outputs": [
    {
     "data": {
      "text/plain": [
       "OrderedDict([('MISR', OrderedDict([('sensor_list', [<xarray.Dataset>\n",
       "                             Dimensions:       (bbox: 6, image_dims: 2, npixels: 7136, nrays: 42816, pixel_fov: 1, stokes_index: 4)\n",
       "                             Coordinates:\n",
       "                               * stokes_index  (stokes_index) <U1 'I' 'Q' 'U' 'V'\n",
       "                               * bbox          (bbox) <U4 'xmin' 'ymin' 'zmin' 'xmax' 'ymax' 'zmax'\n",
       "                               * image_dims    (image_dims) <U2 'nx' 'ny'\n",
       "                               * pixel_fov     (pixel_fov) float64 1.0\n",
       "                             Dimensions without coordinates: npixels, nrays\n",
       "                             Data variables:\n",
       "                                 wavelength    float64 1.65\n",
       "                                 stokes        (stokes_index) bool True False False False\n",
       "                                 cam_x         (npixels) float64 0.0 0.02 0.04 0.06 ... 0.56 0.58 0.6 0.62\n",
       "                                 cam_y         (npixels) float64 0.0 0.0 0.0 0.0 0.0 ... 4.44 4.44 4.44 4.44\n",
       "                                 cam_z         (npixels) float64 1.44 1.44 1.44 1.44 ... 1.44 1.44 1.44 1.44\n",
       "                                 cam_mu        (npixels) float64 0.2588 0.2588 0.2588 ... 0.2588 0.2588\n",
       "                                 cam_phi       (npixels) float64 1.571 1.571 1.571 ... 1.571 1.571 1.571\n",
       "                                 bounding_box  (bbox) float64 0.0 0.0 0.44 0.62 0.72 1.44\n",
       "                                 image_shape   (image_dims) int64 32 223\n",
       "                                 ray_mu        (nrays) float64 0.2588 0.2725 0.2588 ... 0.2451 0.2651 0.2525\n",
       "                                 ray_phi       (nrays) float64 1.585 1.571 1.556 1.571 ... 1.571 1.571 1.571\n",
       "                                 ray_x         (nrays) float64 0.0 0.0 0.0 0.0 0.0 ... 0.62 0.62 0.62 0.62\n",
       "                                 ray_y         (nrays) float64 0.0 0.0 0.0 0.0 0.0 ... 4.44 4.44 4.44 4.44\n",
       "                                 ray_z         (nrays) float64 1.44 1.44 1.44 1.44 ... 1.44 1.44 1.44 1.44\n",
       "                                 pixel_index   (nrays) int64 0 0 0 0 0 0 1 ... 7135 7135 7135 7135 7135 7135\n",
       "                                 ray_weight    (nrays) float64 0.163 0.163 0.163 ... 0.1739 0.1739 0.1739\n",
       "                             Attributes:\n",
       "                                 units:                      ['pixel_fov [degrees]']\n",
       "                                 sub_pixel_sampling:         gaussian_cone\n",
       "                                 gaussian_sub_pixel_degree:  2\n",
       "                                 projection:                 Orthographic\n",
       "                                 altitude:                   1.44\n",
       "                                 x_resolution:               0.02\n",
       "                                 y_resolution:               0.02\n",
       "                                 projection_azimuth:         90\n",
       "                                 projection_zenith:          75.0,\n",
       "                             <xarray.Dataset>\n",
       "                             Dimensions:       (bbox: 6, image_dims: 2, npixels: 5696, nrays: 34176, pixel_fov: 1, stokes_index: 4)\n",
       "                             Coordinates:\n",
       "                               * stokes_index  (stokes_index) <U1 'I' 'Q' 'U' 'V'\n",
       "                               * bbox          (bbox) <U4 'xmin' 'ymin' 'zmin' 'xmax' 'ymax' 'zmax'\n",
       "                               * image_dims    (image_dims) <U2 'nx' 'ny'\n",
       "                               * pixel_fov     (pixel_fov) float64 1.0\n",
       "                             Dimensions without coordinates: npixels, nrays\n",
       "                             Data variables:\n",
       "                                 wavelength    float64 1.65\n",
       "                                 stokes        (stokes_index) bool True False False False\n",
       "                                 cam_x         (npixels) float64 0.0 0.02 0.04 0.06 ... 0.56 0.58 0.6 0.62\n",
       "                                 cam_y         (npixels) float64 0.0 0.0 0.0 0.0 0.0 ... 3.54 3.54 3.54 3.54\n",
       "                                 cam_z         (npixels) float64 1.44 1.44 1.44 1.44 ... 1.44 1.44 1.44 1.44\n",
       "                                 cam_mu        (npixels) float64 0.3322 0.3322 0.3322 ... 0.3322 0.3322\n",
       "                                 cam_phi       (npixels) float64 1.571 1.571 1.571 ... 1.571 1.571 1.571\n",
       "                                 bounding_box  (bbox) float64 0.0 0.0 0.44 0.62 0.72 1.44\n",
       "                                 image_shape   (image_dims) int64 32 178\n",
       "                                 ray_mu        (nrays) float64 0.3321 0.3455 0.3321 ... 0.3188 0.3383 0.326\n",
       "                                 ray_phi       (nrays) float64 1.586 1.571 1.556 1.571 ... 1.571 1.571 1.571\n",
       "                                 ray_x         (nrays) float64 0.0 0.0 0.0 0.0 0.0 ... 0.62 0.62 0.62 0.62\n",
       "                                 ray_y         (nrays) float64 0.0 0.0 0.0 0.0 0.0 ... 3.54 3.54 3.54 3.54\n",
       "                                 ray_z         (nrays) float64 1.44 1.44 1.44 1.44 ... 1.44 1.44 1.44 1.44\n",
       "                                 pixel_index   (nrays) int64 0 0 0 0 0 0 1 ... 5695 5695 5695 5695 5695 5695\n",
       "                                 ray_weight    (nrays) float64 0.163 0.163 0.163 ... 0.1739 0.1739 0.1739\n",
       "                             Attributes:\n",
       "                                 units:                      ['pixel_fov [degrees]']\n",
       "                                 sub_pixel_sampling:         gaussian_cone\n",
       "                                 gaussian_sub_pixel_degree:  2\n",
       "                                 projection:                 Orthographic\n",
       "                                 altitude:                   1.44\n",
       "                                 x_resolution:               0.02\n",
       "                                 y_resolution:               0.02\n",
       "                                 projection_azimuth:         90\n",
       "                                 projection_zenith:          70.6])])),\n",
       "             ('MODIS', OrderedDict([('sensor_list', [<xarray.Dataset>\n",
       "                             Dimensions:       (bbox: 6, image_dims: 2, npixels: 1184, nrays: 7104, pixel_fov: 1, stokes_index: 4)\n",
       "                             Coordinates:\n",
       "                               * stokes_index  (stokes_index) <U1 'I' 'Q' 'U' 'V'\n",
       "                               * bbox          (bbox) <U4 'xmin' 'ymin' 'zmin' 'xmax' 'ymax' 'zmax'\n",
       "                               * image_dims    (image_dims) <U2 'nx' 'ny'\n",
       "                               * pixel_fov     (pixel_fov) float64 1.0\n",
       "                             Dimensions without coordinates: npixels, nrays\n",
       "                             Data variables:\n",
       "                                 wavelength    float64 1.65\n",
       "                                 stokes        (stokes_index) bool True False False False\n",
       "                                 cam_x         (npixels) float64 0.0 0.02 0.04 0.06 ... 0.56 0.58 0.6 0.62\n",
       "                                 cam_y         (npixels) float64 0.0 0.0 0.0 0.0 0.0 ... 0.72 0.72 0.72 0.72\n",
       "                                 cam_z         (npixels) float64 1.44 1.44 1.44 1.44 ... 1.44 1.44 1.44 1.44\n",
       "                                 cam_mu        (npixels) float64 1.0 1.0 1.0 1.0 1.0 ... 1.0 1.0 1.0 1.0 1.0\n",
       "                                 cam_phi       (npixels) float64 0.0 0.0 0.0 0.0 0.0 ... 0.0 0.0 0.0 0.0 0.0\n",
       "                                 bounding_box  (bbox) float64 0.0 0.0 0.44 0.62 0.72 1.44\n",
       "                                 image_shape   (image_dims) int64 32 37\n",
       "                                 ray_mu        (nrays) float64 0.9999 0.9999 0.9999 0.9999 ... 0.9999 1.0 1.0\n",
       "                                 ray_phi       (nrays) float64 1.571 3.142 -1.571 ... 3.142 -2.449e-16\n",
       "                                 ray_x         (nrays) float64 0.0 0.0 0.0 0.0 0.0 ... 0.62 0.62 0.62 0.62\n",
       "                                 ray_y         (nrays) float64 0.0 0.0 0.0 0.0 0.0 ... 0.72 0.72 0.72 0.72\n",
       "                                 ray_z         (nrays) float64 1.44 1.44 1.44 1.44 ... 1.44 1.44 1.44 1.44\n",
       "                                 pixel_index   (nrays) int64 0 0 0 0 0 0 1 ... 1183 1183 1183 1183 1183 1183\n",
       "                                 ray_weight    (nrays) float64 0.163 0.163 0.163 ... 0.1739 0.1739 0.1739\n",
       "                             Attributes:\n",
       "                                 units:                      ['pixel_fov [degrees]']\n",
       "                                 sub_pixel_sampling:         gaussian_cone\n",
       "                                 gaussian_sub_pixel_degree:  2\n",
       "                                 projection:                 Orthographic\n",
       "                                 altitude:                   1.44\n",
       "                                 x_resolution:               0.02\n",
       "                                 y_resolution:               0.02\n",
       "                                 projection_azimuth:         0.0\n",
       "                                 projection_zenith:          0.0,\n",
       "                             <xarray.Dataset>\n",
       "                             Dimensions:       (bbox: 6, image_dims: 2, npixels: 1184, nrays: 7104, pixel_fov: 1, stokes_index: 4)\n",
       "                             Coordinates:\n",
       "                               * stokes_index  (stokes_index) <U1 'I' 'Q' 'U' 'V'\n",
       "                               * bbox          (bbox) <U4 'xmin' 'ymin' 'zmin' 'xmax' 'ymax' 'zmax'\n",
       "                               * image_dims    (image_dims) <U2 'nx' 'ny'\n",
       "                               * pixel_fov     (pixel_fov) float64 1.0\n",
       "                             Dimensions without coordinates: npixels, nrays\n",
       "                             Data variables:\n",
       "                                 wavelength    float64 2.17\n",
       "                                 stokes        (stokes_index) bool True False False False\n",
       "                                 cam_x         (npixels) float64 0.0 0.02 0.04 0.06 ... 0.56 0.58 0.6 0.62\n",
       "                                 cam_y         (npixels) float64 0.0 0.0 0.0 0.0 0.0 ... 0.72 0.72 0.72 0.72\n",
       "                                 cam_z         (npixels) float64 1.44 1.44 1.44 1.44 ... 1.44 1.44 1.44 1.44\n",
       "                                 cam_mu        (npixels) float64 1.0 1.0 1.0 1.0 1.0 ... 1.0 1.0 1.0 1.0 1.0\n",
       "                                 cam_phi       (npixels) float64 0.0 0.0 0.0 0.0 0.0 ... 0.0 0.0 0.0 0.0 0.0\n",
       "                                 bounding_box  (bbox) float64 0.0 0.0 0.44 0.62 0.72 1.44\n",
       "                                 image_shape   (image_dims) int64 32 37\n",
       "                                 ray_mu        (nrays) float64 0.9999 0.9999 0.9999 0.9999 ... 0.9999 1.0 1.0\n",
       "                                 ray_phi       (nrays) float64 1.571 3.142 -1.571 ... 3.142 -2.449e-16\n",
       "                                 ray_x         (nrays) float64 0.0 0.0 0.0 0.0 0.0 ... 0.62 0.62 0.62 0.62\n",
       "                                 ray_y         (nrays) float64 0.0 0.0 0.0 0.0 0.0 ... 0.72 0.72 0.72 0.72\n",
       "                                 ray_z         (nrays) float64 1.44 1.44 1.44 1.44 ... 1.44 1.44 1.44 1.44\n",
       "                                 pixel_index   (nrays) int64 0 0 0 0 0 0 1 ... 1183 1183 1183 1183 1183 1183\n",
       "                                 ray_weight    (nrays) float64 0.163 0.163 0.163 ... 0.1739 0.1739 0.1739\n",
       "                             Attributes:\n",
       "                                 units:                      ['pixel_fov [degrees]']\n",
       "                                 sub_pixel_sampling:         gaussian_cone\n",
       "                                 gaussian_sub_pixel_degree:  2\n",
       "                                 projection:                 Orthographic\n",
       "                                 altitude:                   1.44\n",
       "                                 x_resolution:               0.02\n",
       "                                 y_resolution:               0.02\n",
       "                                 projection_azimuth:         0.0\n",
       "                                 projection_zenith:          0.0])]))])"
      ]
     },
     "execution_count": 6,
     "metadata": {},
     "output_type": "execute_result"
    }
   ],
   "source": [
    "forward_sensors"
   ]
  },
  {
   "cell_type": "markdown",
   "metadata": {},
   "source": [
    "# Define the Number of SHDOM solvers.\n",
    "\n",
    "Here we need to choose the type (number of stokes components) and number (for different wavelengths) of SHDOM solvers. In this case we only have monochromatic sensors so the choice of SHDOMs is very simple and can be fixed/reused code. \n",
    "The number of SHDOM solvers could be defined based on other unique criteria such as arbitrary combinations of different sources/surfaces or scatterers. Scripts of that form can easily be adapted from this.\n",
    "This is the most common desired workflow as all RTE solvers at different wavelengths correspond to the same physical situation.\n"
   ]
  },
  {
   "cell_type": "code",
   "execution_count": 7,
   "metadata": {},
   "outputs": [],
   "source": [
    "#num_stokes should be set to choose whether to use num_stokes=USER_SPECIFIED\n",
    "#even if only radiance needs to be simulated for accuracy reasons.\n",
    "num_stokes_override_flag = False\n",
    "num_stokes_override=3\n",
    "\n",
    "#TODO hand specify num_stokes as in the configuration file, for example (or manually)\n",
    "#Define the unique wavelengths from all sensors.\n",
    "\n",
    "#extract all unique_wavelengths\n",
    "#this treats even very slightly different wavelengths as unique.\n",
    "wavelengths = shdom.script_util.get_unique_wavelengths(Sensordict)\n",
    "\n",
    "                "
   ]
  },
  {
   "cell_type": "markdown",
   "metadata": {},
   "source": [
    "# Define Other RTE inputs.\n",
    "\n",
    "These are determined by the unique identifier which is wavelength in this case.\n",
    "For simplicity all other inputs are wavelength invariant."
   ]
  },
  {
   "cell_type": "code",
   "execution_count": 8,
   "metadata": {},
   "outputs": [],
   "source": [
    "names = OrderedDict()\n",
    "surfaces = OrderedDict()\n",
    "sources = OrderedDict()\n",
    "numerical_parameters = OrderedDict()\n",
    "num_stokes = OrderedDict()\n",
    "\n",
    "for wavelength in wavelengths:\n",
    "    num_stokes[wavelength] = 1\n",
    "    names[wavelength] = None\n",
    "    surfaces[wavelength] = shdom.surface.fixed_lambertian_surface(albedo=0.01) #surface is wavelength independent.\n",
    "    sources[wavelength] = shdom.source.solar_source(145.0,0.0,solarflux=1.0)\n",
    "    numerical_parameters[wavelength] = shdom.configuration.get_config('./default_config.json') #all use defaults.\n",
    "     "
   ]
  },
  {
   "cell_type": "markdown",
   "metadata": {},
   "source": [
    "# Define Scatterer Optical Properties\n",
    "\n",
    "In this case we only have one mie scatterer. Each type of scatterer should be explicitly treated with its own section here.\n",
    "\n",
    "This is a key component of the 'set_state' workflow.\n",
    "\n"
   ]
  },
  {
   "cell_type": "code",
   "execution_count": 9,
   "metadata": {},
   "outputs": [
    {
     "name": "stdout",
     "output_type": "stream",
     "text": [
      "making mie_table. . . may take a while.\n",
      "making mie_table. . . may take a while.\n"
     ]
    }
   ],
   "source": [
    "#resample the cloud onto the rte_grid\n",
    "cloud_scatterer_on_rte_grid = shdom.grid.resample_onto_grid(rte_grid, cloud_scatterer)\n",
    "\n",
    "#define any necessary variables for microphysics here.\n",
    "size_distribution_function = shdom.size_distribution.gamma\n",
    "#We choose a gamma size distribution and therefore need to define a 'veff' variable.\n",
    "cloud_scatterer_on_rte_grid['veff'] = (cloud_scatterer_on_rte_grid.reff.dims, \n",
    "                                       np.full_like(cloud_scatterer_on_rte_grid.reff.data, fill_value=0.1))\n",
    "\n",
    "#calculate the optical properties for this scatterer.\n",
    "#All wavelengths use consistent settings.\n",
    "cloud_poly_tables = OrderedDict()\n",
    "cloud_optical_scatterers = OrderedDict()\n",
    "for wavelength in wavelengths:\n",
    "    print('making mie_table. . . may take a while.')\n",
    "    mie_mono_table = shdom.mie.get_mono_table('Water',(wavelength,wavelength)) \n",
    "    cloud_size_distribution = shdom.size_distribution.get_size_distribution_grid(\n",
    "                                                            mie_mono_table.radius.data,\n",
    "                        size_distribution_function=size_distribution_function,particle_density=1.0,\n",
    "                        reff=[4.0,25.0,25,'logarithmic','micron'],\n",
    "                        veff=[0.09,0.11,2,'linear','unitless'],                                                                               \n",
    "                        )\n",
    "    poly_table = shdom.mie.get_poly_table(cloud_size_distribution,mie_mono_table)\n",
    "    cloud_optical_scatterers[wavelength] = shdom.medium.table_to_grid(cloud_scatterer_on_rte_grid, poly_table)\n",
    "    cloud_poly_tables[wavelength] = poly_table    "
   ]
  },
  {
   "cell_type": "code",
   "execution_count": null,
   "metadata": {},
   "outputs": [],
   "source": []
  },
  {
   "cell_type": "markdown",
   "metadata": {},
   "source": [
    "# Define Rayleigh Optical Properties"
   ]
  },
  {
   "cell_type": "code",
   "execution_count": 10,
   "metadata": {},
   "outputs": [],
   "source": [
    "#get rayleigh.\n",
    "#This is self contained due to its simplicity.\n",
    "rayleigh_scatterer_list = shdom.rayleigh.to_grid(wavelengths,atmosphere,rte_grid)\n",
    "\n"
   ]
  },
  {
   "cell_type": "code",
   "execution_count": 11,
   "metadata": {},
   "outputs": [],
   "source": [
    "#TODO make this a function (combine scatterers to medium)\n",
    "mediums = shdom.script_util.combine_to_medium([cloud_optical_scatterers, rayleigh_scatterer_list])\n",
    "#group properties \n",
    "# mediums = OrderedDict()\n",
    "# for key,optical in cloud_optical_scatterers.items():\n",
    "    \n",
    "#     rayleigh = rayleigh_scatterer_list[key]\n",
    "#     mediums[key] = [optical]\n",
    "    \n",
    "    \n",
    "    "
   ]
  },
  {
   "cell_type": "code",
   "execution_count": 12,
   "metadata": {},
   "outputs": [],
   "source": [
    "#make solver list\n",
    "solvers = OrderedDict()\n",
    "\n",
    "for key,name in names.items():\n",
    "    solvers[key] = shdom.solver.RTE(numerical_params=numerical_parameters[key], \n",
    "                                    medium=mediums[key],\n",
    "                                   source=sources[key],\n",
    "                                   surface=surfaces[key],\n",
    "                                    num_stokes=num_stokes[key],\n",
    "                                    name=name\n",
    "                                   )"
   ]
  },
  {
   "cell_type": "code",
   "execution_count": null,
   "metadata": {},
   "outputs": [],
   "source": []
  },
  {
   "cell_type": "code",
   "execution_count": 13,
   "metadata": {},
   "outputs": [],
   "source": [
    "shdom.script_util.get_measurements(solvers,Sensordict,n_jobs=10)"
   ]
  },
  {
   "cell_type": "code",
   "execution_count": 14,
   "metadata": {},
   "outputs": [],
   "source": [
    "cloud_unknowns = OrderedDict()\n",
    "for key,scatterer in cloud_optical_scatterers.items():\n",
    "    cloud_unknowns[key] = (scatterer, cloud_poly_tables[key], 'reff')\n",
    "    \n",
    "unordered_unknown_scatterers = [cloud_unknowns]\n",
    "unknown_scatterers = shdom.script_util.combine_to_medium(unordered_unknown_scatterers)\n"
   ]
  },
  {
   "cell_type": "code",
   "execution_count": 15,
   "metadata": {},
   "outputs": [],
   "source": [
    "table_derivatives = shdom.gradient.create_derivative_tables(solvers, unknown_scatterers)"
   ]
  },
  {
   "cell_type": "code",
   "execution_count": 17,
   "metadata": {},
   "outputs": [],
   "source": [
    "def levis_approx_uncorrelated_l2(measurements, solvers, forward_sensors, unknown_scatterers,\n",
    "                                                       table_derivatives, n_jobs=1,\n",
    "                                 mpi_comm=None,verbose=False):\n",
    "    \"\"\"TODO\"\"\"\n",
    "    #note this division of solving and 'raytracing' is not optimal for distributed memory parallelization\n",
    "    #where tasks take varying amounts of time.\n",
    "    shdom.script_util.parallel_solve(solvers, n_jobs=n_jobs, mpi_comm=mpi_comm,verbose=verbose)\n",
    "\n",
    "    #These are called after the solution because they require at least _init_solution to be run.\n",
    "    if not hasattr(list(solvers.values())[0], '_direct_derivative_path'):\n",
    "        #only needs to be called once.\n",
    "        #If this doesn't work after 'solve' and requires only '_init_solution' then it will need to be\n",
    "        #called inside parallel_solve. . .\n",
    "        calculate_direct_beam_derivative(solvers)\n",
    "\n",
    "    get_derivatives(solvers, table_derivatives)  #adds the _dext/_dleg/_dalb etc to the solvers.\n",
    "\n",
    "    #prepare the sensors for the fortran subroutine for calculating gradient.\n",
    "    rte_sensors, sensor_mapping = shdom.script_util.sort_sensors(measurements, solvers, 'inverse')\n",
    "\n",
    "    loss, gradient = parallel_gradient(solvers, rte_sensors, sensor_mapping, forward_sensors, gradient_fun=grad_l2,\n",
    "                     mpi_comm=mpi_comm, n_jobs=n_jobs)\n",
    "\n",
    "    #Turn gradient into an xarray Dataset #TODO\n",
    "\n",
    "    return loss, gradient"
   ]
  },
  {
   "cell_type": "code",
   "execution_count": null,
   "metadata": {},
   "outputs": [],
   "source": [
    "loss, gradient = shdom.gradient.levis_approx_uncorrelated_l2(Sensordict, solvers, forward_sensors, unknown_scatterers,\n",
    "                                        table_derivatives, n_jobs=10)\n",
    "\n"
   ]
  },
  {
   "cell_type": "code",
   "execution_count": null,
   "metadata": {},
   "outputs": [],
   "source": []
  }
 ],
 "metadata": {
  "kernelspec": {
   "display_name": "Python 3",
   "language": "python",
   "name": "python3"
  },
  "language_info": {
   "codemirror_mode": {
    "name": "ipython",
    "version": 3
   },
   "file_extension": ".py",
   "mimetype": "text/x-python",
   "name": "python",
   "nbconvert_exporter": "python",
   "pygments_lexer": "ipython3",
   "version": "3.7.3"
  }
 },
 "nbformat": 4,
 "nbformat_minor": 2
}
