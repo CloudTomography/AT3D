{
 "cells": [
  {
   "cell_type": "markdown",
   "metadata": {},
   "source": [
    "# Refactored Script: MultiView/MultiWavelength"
   ]
  },
  {
   "cell_type": "code",
   "execution_count": 1,
   "metadata": {},
   "outputs": [],
   "source": [
    "#imports\n",
    "import shdom\n",
    "import xarray as xr\n",
    "import numpy as np\n",
    "import matplotlib.pyplot as plt\n",
    "import os\n",
    "from collections import OrderedDict\n",
    "\n",
    "os.chdir('/Users/jesserl2/Documents/Code/aviad_pyshdom_dev/pyshdom_dev/')\n",
    "#shdom.util.set_pyshdom_path()"
   ]
  },
  {
   "cell_type": "markdown",
   "metadata": {},
   "source": [
    "# Define the Medium\n",
    "\n",
    "Decide on the individual scatterers and decide on the RTE grid that will be used.\n",
    "This must be done before sensor definition in the case of orthographic sensors\n",
    "and will also help decide general sensor pointing directions etc so should be the first step.\n",
    "\n",
    "Some utility functions from shdom.grid are used to combine the grids but these could be defined arbitrarily.\n",
    "\n",
    "All of the workflow, including this first step is based on the use of SHDOM."
   ]
  },
  {
   "cell_type": "code",
   "execution_count": 2,
   "metadata": {},
   "outputs": [],
   "source": [
    "#load a cloud.\n",
    "#locate the 'origin' of the cloud at 0.0,0.0 for simplicity.\n",
    "#this option allows us to easily move individual clouds with respect to each other\n",
    "#and even if overlapping they will be merged onto the RTE grid.\n",
    "cloud_scatterer = shdom.grid.load_from_csv('./synthetic_cloud_fields/jpl_les/rico32x37x26.txt', \n",
    "                                           density='lwc',origin=(0.0,0.0))\n",
    "\n",
    "#load atmosphere file for rayleigh. (and eventually gases)\n",
    "#'Altitude' coordinate is renamed to 'z'.\n",
    "atmosphere = xr.open_dataset('./ancillary_data/AFGL_summer_mid_lat.nc').rename(Altitude='z')\n",
    "\n",
    "#extract a chosen temperature_profile and the surface_pressure.\n",
    "#only model atmosphere below 20 km. This choice needs to be made here so\n",
    "#that an RTE grid can be defined.\n",
    "\n",
    "#try where with drop.na\n",
    "reduced_atmosphere = atmosphere.sel({'z': atmosphere.coords['z'].data[atmosphere.coords['z'].data <= 10.0]})\n",
    "\n",
    "# -----  make the RTE grid ---------------------------\n",
    "\n",
    "#make RTE grid just using cloud_scatterer for horizontal grid and 'merged' z coordinates.\n",
    "merged_z_coordinate = shdom.grid.combine_z_coordinates([reduced_atmosphere,cloud_scatterer])\n",
    "\n",
    "#simple 'union' horizontal grid merging for 3D and 1D needs to be fixed.\n",
    "rte_grid = shdom.grid.make_grid(cloud_scatterer.x.data.min(),cloud_scatterer.x.data.max(),cloud_scatterer.x.data.size,\n",
    "                           cloud_scatterer.y.data.min(),cloud_scatterer.y.data.max(),cloud_scatterer.y.data.size,\n",
    "                           merged_z_coordinate)\n",
    "\n",
    "#TODO \n"
   ]
  },
  {
   "cell_type": "code",
   "execution_count": 3,
   "metadata": {},
   "outputs": [],
   "source": [
    "#resample the cloud onto the rte_grid\n",
    "cloud_scatterer_on_rte_grid = shdom.grid.resample_onto_grid(rte_grid, cloud_scatterer)\n",
    "\n",
    "#define any necessary variables for microphysics here.\n",
    "size_distribution_function = shdom.size_distribution.gamma\n",
    "\n",
    "#We choose a gamma size distribution and therefore need to define a 'veff' variable.\n",
    "cloud_scatterer_on_rte_grid['veff'] = xr.full_like(cloud_scatterer_on_rte_grid.reff, 0.1)\n",
    "\n",
    "shdom.grid.to_2parameter_lwc_file('./synthetic_cloud_fields/jpl_les/fixed_rico32x37x26.txt', cloud_scatterer_on_rte_grid, reduced_atmosphere)\n",
    "\n",
    "#new = shdom.grid.load_2parameter_lwc_file('/Users/jesserl2/fixed_rico32x37x26.txt')"
   ]
  },
  {
   "cell_type": "markdown",
   "metadata": {},
   "source": [
    "# Define the Sensors\n",
    "\n",
    "Individual sensors should be added and appended to a list. Any combination can be created.\n",
    "To illustrate a little of the variety we have an idealization of a MISR/MODIS or MSPI/eMAS type configuration with multi-view VIS and nadir-view multi-spectral."
   ]
  },
  {
   "cell_type": "code",
   "execution_count": 4,
   "metadata": {},
   "outputs": [],
   "source": [
    "#This is modified by the user as needed.\n",
    "\n",
    "#idealized monochromatic orthographic sensors at different wavelengths.\n",
    "#9 'MISR-like' VIS cameras\n",
    "#1 'MODIS-like' nadir multi-spectral sensor.\n",
    "\n",
    "#TODO make this defined as a dict with entries for each 'instrument' to group sensors\n",
    "Sensordict = OrderedDict()\n",
    "\n",
    "misr_list = []\n",
    "\n",
    "#add MISR-like sensors\n",
    "sensor_zenith_list = [75.0,70.6]#,65.0,60.0,55.0,50.0,45.6,40.0,35.0,30.0,26.1,20.0,15.0,10.0,5.0]*2 + [0.0]\n",
    "sensor_azimuth_list = [90]*2 #+ [-90]*15 +[0.0]\n",
    "\n",
    "for zenith,azimuth in zip(sensor_zenith_list,sensor_azimuth_list):\n",
    "    misr_list.append(\n",
    "        shdom.sensor.add_sub_pixel_rays(shdom.sensor.orthographic_projection(1.65, cloud_scatterer,0.02,0.02, azimuth, zenith,\n",
    "                                             altitude='TOA', stokes='I'\n",
    "                                            ),FOV=0.0,degree=2)\n",
    "    \n",
    "    )\n",
    "    \n",
    "Sensordict['MISR'] = {'sensor_list': misr_list}\n",
    "  \n",
    "modis_list = []\n",
    "#add MODIS-like sensors\n",
    "wavelength_list = [1.65,2.17]\n",
    "for wavelength in wavelength_list:\n",
    "    modis_list.append(\n",
    "        shdom.sensor.add_sub_pixel_rays(shdom.sensor.orthographic_projection(wavelength,cloud_scatterer,0.02,0.02,0.0,0.0,\n",
    "                                            altitude='TOA',\n",
    "                                            stokes='I'\n",
    "                                            ),0.0,degree=2)\n",
    "    )\n",
    "    \n",
    "Sensordict['MODIS'] = {'sensor_list': modis_list}"
   ]
  },
  {
   "cell_type": "code",
   "execution_count": 5,
   "metadata": {},
   "outputs": [],
   "source": [
    "def make_forward_sensors(sensors):\n",
    "    \n",
    "    forward_sensors = OrderedDict()\n",
    "    for key,sensor in sensors.items():\n",
    "        forward_sensor= OrderedDict()\n",
    "        forward_sensor['sensor_list'] = [single_sensor.copy(deep=True) for single_sensor in sensor['sensor_list']]\n",
    "        forward_sensors[key] = forward_sensor\n",
    "        \n",
    "    return forward_sensors\n",
    "\n",
    "\n",
    "forward_sensors = make_forward_sensors(Sensordict)"
   ]
  },
  {
   "cell_type": "markdown",
   "metadata": {},
   "source": [
    "# Define the Number of SHDOM solvers.\n",
    "\n",
    "Here we need to choose the type (number of stokes components) and number (for different wavelengths) of SHDOM solvers. In this case we only have monochromatic sensors so the choice of SHDOMs is very simple and can be fixed/reused code. \n",
    "The number of SHDOM solvers could be defined based on other unique criteria such as arbitrary combinations of different sources/surfaces or scatterers. Scripts of that form can easily be adapted from this.\n",
    "This is the most common desired workflow as all RTE solvers at different wavelengths correspond to the same physical situation.\n"
   ]
  },
  {
   "cell_type": "code",
   "execution_count": 6,
   "metadata": {},
   "outputs": [],
   "source": [
    "#num_stokes should be set to choose whether to use num_stokes=USER_SPECIFIED\n",
    "#even if only radiance needs to be simulated for accuracy reasons.\n",
    "num_stokes_override_flag = False\n",
    "num_stokes_override=3\n",
    "\n",
    "#TODO hand specify num_stokes as in the configuration file, for example (or manually)\n",
    "#Define the unique wavelengths from all sensors.\n",
    "\n",
    "#extract all unique_wavelengths\n",
    "#this treats even very slightly different wavelengths as unique.\n",
    "wavelengths = shdom.script_util.get_unique_wavelengths(Sensordict)\n",
    "\n",
    "                "
   ]
  },
  {
   "cell_type": "markdown",
   "metadata": {},
   "source": [
    "# Define Other RTE inputs.\n",
    "\n",
    "These are determined by the unique identifier which is wavelength in this case.\n",
    "For simplicity all other inputs are wavelength invariant."
   ]
  },
  {
   "cell_type": "code",
   "execution_count": 7,
   "metadata": {},
   "outputs": [],
   "source": [
    "names = OrderedDict()\n",
    "surfaces = OrderedDict()\n",
    "sources = OrderedDict()\n",
    "numerical_parameters = OrderedDict()\n",
    "num_stokes = OrderedDict()\n",
    "\n",
    "for wavelength in wavelengths:\n",
    "    num_stokes[wavelength] = 1\n",
    "    names[wavelength] = None\n",
    "    surfaces[wavelength] = shdom.surface.fixed_lambertian_surface(albedo=0.01) #surface is wavelength independent.\n",
    "    sources[wavelength] = shdom.source.solar_source(145.0,0.0,solarflux=1.0)\n",
    "    numerical_parameters[wavelength] = shdom.configuration.get_config('./default_config.json') #all use defaults."
   ]
  },
  {
   "cell_type": "markdown",
   "metadata": {},
   "source": [
    "# Define Scatterer Optical Properties\n",
    "\n",
    "In this case we only have one mie scatterer. Each type of scatterer should be explicitly treated with its own section here.\n",
    "\n",
    "This is a key component of the 'set_state' workflow.\n",
    "\n"
   ]
  },
  {
   "cell_type": "code",
   "execution_count": 8,
   "metadata": {},
   "outputs": [
    {
     "name": "stdout",
     "output_type": "stream",
     "text": [
      "making mie_table. . . may take a while.\n",
      "making mie_table. . . may take a while.\n"
     ]
    }
   ],
   "source": [
    "#resample the cloud onto the rte_grid\n",
    "cloud_scatterer_on_rte_grid = shdom.grid.resample_onto_grid(rte_grid, cloud_scatterer)\n",
    "\n",
    "#define any necessary variables for microphysics here.\n",
    "size_distribution_function = shdom.size_distribution.gamma\n",
    "#We choose a gamma size distribution and therefore need to define a 'veff' variable.\n",
    "cloud_scatterer_on_rte_grid['veff'] = (cloud_scatterer_on_rte_grid.reff.dims, \n",
    "                                       np.full_like(cloud_scatterer_on_rte_grid.reff.data, fill_value=0.1))\n",
    "\n",
    "#calculate the optical properties for this scatterer.\n",
    "#All wavelengths use consistent settings.\n",
    "cloud_poly_tables = OrderedDict()\n",
    "cloud_optical_scatterers = OrderedDict()\n",
    "for wavelength in wavelengths:\n",
    "    print('making mie_table. . . may take a while.')\n",
    "    mie_mono_table = shdom.mie.get_mono_table('Water',(wavelength,wavelength)) \n",
    "    cloud_size_distribution = shdom.size_distribution.get_size_distribution_grid(\n",
    "                                                            mie_mono_table.radius.data,\n",
    "                        size_distribution_function=size_distribution_function,particle_density=1.0,\n",
    "                        reff=[4.0,25.0,25,'logarithmic','micron'],\n",
    "                        veff=[0.09,0.11,2,'linear','unitless'],                                                                               \n",
    "                        )\n",
    "    poly_table = shdom.mie.get_poly_table(cloud_size_distribution,mie_mono_table)\n",
    "    cloud_optical_scatterers[wavelength] = shdom.medium.table_to_grid(cloud_scatterer_on_rte_grid, poly_table)\n",
    "    cloud_poly_tables[wavelength] = poly_table    "
   ]
  },
  {
   "cell_type": "markdown",
   "metadata": {},
   "source": [
    "# Define Rayleigh Optical Properties"
   ]
  },
  {
   "cell_type": "code",
   "execution_count": 9,
   "metadata": {},
   "outputs": [],
   "source": [
    "#get rayleigh.\n",
    "#This is self contained due to its simplicity.\n",
    "rayleigh_scatterer_list = shdom.rayleigh.to_grid(wavelengths,atmosphere,rte_grid)\n",
    "\n"
   ]
  },
  {
   "cell_type": "code",
   "execution_count": 10,
   "metadata": {},
   "outputs": [],
   "source": [
    "#TODO make this a function (combine scatterers to medium)\n",
    "mediums = shdom.script_util.combine_to_medium([cloud_optical_scatterers, rayleigh_scatterer_list])\n",
    "#group properties \n",
    "# mediums = OrderedDict()\n",
    "# for key,optical in cloud_optical_scatterers.items():\n",
    "    \n",
    "#     rayleigh = rayleigh_scatterer_list[key]\n",
    "#     mediums[key] = [optical]\n",
    "    \n",
    "    \n",
    "    "
   ]
  },
  {
   "cell_type": "code",
   "execution_count": 11,
   "metadata": {},
   "outputs": [],
   "source": [
    "#make solver list\n",
    "solvers = OrderedDict()\n",
    "\n",
    "for key,name in names.items():\n",
    "    solvers[key] = shdom.solver.RTE(numerical_params=numerical_parameters[key], \n",
    "                                    medium=mediums[key],\n",
    "                                   source=sources[key],\n",
    "                                   surface=surfaces[key],\n",
    "                                    num_stokes=num_stokes[key],\n",
    "                                    name=name\n",
    "                                   )"
   ]
  },
  {
   "cell_type": "code",
   "execution_count": 12,
   "metadata": {},
   "outputs": [],
   "source": [
    "shdom.script_util.get_measurements(solvers, Sensordict, maxiter=2, n_jobs=10)"
   ]
  },
  {
   "cell_type": "code",
   "execution_count": 13,
   "metadata": {},
   "outputs": [],
   "source": [
    "cloud_unknowns = OrderedDict()\n",
    "for key, scatterer in cloud_optical_scatterers.items():\n",
    "    cloud_unknowns[key] = (scatterer, cloud_poly_tables[key], 'reff')\n",
    "    \n",
    "unordered_unknown_scatterers = [cloud_unknowns]\n",
    "unknown_scatterers = shdom.script_util.combine_to_medium(unordered_unknown_scatterers)\n"
   ]
  },
  {
   "cell_type": "code",
   "execution_count": 14,
   "metadata": {},
   "outputs": [],
   "source": [
    "table_derivatives = shdom.gradient.create_derivative_tables(solvers, unknown_scatterers)"
   ]
  },
  {
   "cell_type": "code",
   "execution_count": 15,
   "metadata": {},
   "outputs": [],
   "source": [
    "solvers  = shdom.gradient.get_derivatives(solvers, table_derivatives)\n",
    "rte_sensors, sensor_mapping = shdom.script_util.sort_sensors(Sensordict, solvers, 'inverse')"
   ]
  },
  {
   "cell_type": "code",
   "execution_count": 16,
   "metadata": {},
   "outputs": [
    {
     "data": {
      "text/plain": [
       "OrderedDict([(1.65, <xarray.Dataset>\n",
       "              Dimensions:           (nimage: 3, npixels: 14016, nrays: 14016, nstokes: 1, nstokes2: 1, stokes_index: 4)\n",
       "              Coordinates:\n",
       "                * stokes_index      (stokes_index) <U1 'I' 'Q' 'U' 'V'\n",
       "              Dimensions without coordinates: nimage, npixels, nrays, nstokes, nstokes2\n",
       "              Data variables:\n",
       "                  ray_x             (nrays) float64 0.0 0.02 0.04 0.06 ... 0.56 0.58 0.6 0.62\n",
       "                  ray_y             (nrays) float64 0.0 0.0 0.0 0.0 ... 0.72 0.72 0.72 0.72\n",
       "                  ray_z             (nrays) float64 1.44 1.44 1.44 1.44 ... 1.44 1.44 1.44\n",
       "                  ray_mu            (nrays) float64 0.2588 0.2588 0.2588 ... 1.0 1.0 1.0\n",
       "                  ray_phi           (nrays) float64 1.571 1.571 1.571 1.571 ... 0.0 0.0 0.0\n",
       "                  ray_weight        (nrays) float64 1.0 1.0 1.0 1.0 1.0 ... 1.0 1.0 1.0 1.0\n",
       "                  pixel_index       (nrays) int64 0 1 2 3 4 5 ... 1179 1180 1181 1182 1183\n",
       "                  stokes            (nimage, stokes_index) bool True False ... False False\n",
       "                  rays_per_image    (nimage) int64 7136 5696 1184\n",
       "                  rays_per_pixel    (npixels) int64 1 1 1 1 1 1 1 1 1 1 ... 1 1 1 1 1 1 1 1 1\n",
       "                  stokes_weights    (nstokes, npixels) float64 1.0 1.0 1.0 1.0 ... 1.0 1.0 1.0\n",
       "                  measurement_data  (nstokes, npixels) float64 0.003184 0.003184 ... 0.003186\n",
       "                  uncertainties     (nstokes, nstokes2, npixels) float64 1.0 1.0 ... 1.0 1.0),\n",
       "             (2.17, <xarray.Dataset>\n",
       "              Dimensions:           (nimage: 1, npixels: 1184, nrays: 1184, nstokes: 1, nstokes2: 1, stokes_index: 4)\n",
       "              Coordinates:\n",
       "                * stokes_index      (stokes_index) <U1 'I' 'Q' 'U' 'V'\n",
       "              Dimensions without coordinates: nimage, npixels, nrays, nstokes, nstokes2\n",
       "              Data variables:\n",
       "                  ray_x             (nrays) float64 0.0 0.02 0.04 0.06 ... 0.56 0.58 0.6 0.62\n",
       "                  ray_y             (nrays) float64 0.0 0.0 0.0 0.0 ... 0.72 0.72 0.72 0.72\n",
       "                  ray_z             (nrays) float64 1.44 1.44 1.44 1.44 ... 1.44 1.44 1.44\n",
       "                  ray_mu            (nrays) float64 1.0 1.0 1.0 1.0 1.0 ... 1.0 1.0 1.0 1.0\n",
       "                  ray_phi           (nrays) float64 0.0 0.0 0.0 0.0 0.0 ... 0.0 0.0 0.0 0.0\n",
       "                  ray_weight        (nrays) float64 1.0 1.0 1.0 1.0 1.0 ... 1.0 1.0 1.0 1.0\n",
       "                  pixel_index       (nrays) int64 0 1 2 3 4 5 ... 1179 1180 1181 1182 1183\n",
       "                  stokes            (nimage, stokes_index) bool True False False False\n",
       "                  rays_per_image    (nimage) int64 1184\n",
       "                  rays_per_pixel    (npixels) int64 1 1 1 1 1 1 1 1 1 1 ... 1 1 1 1 1 1 1 1 1\n",
       "                  stokes_weights    (nstokes, npixels) float64 1.0 1.0 1.0 1.0 ... 1.0 1.0 1.0\n",
       "                  measurement_data  (nstokes, npixels) float64 0.003184 0.003184 ... 0.003184\n",
       "                  uncertainties     (nstokes, nstokes2, npixels) float64 1.0 1.0 ... 1.0 1.0)])"
      ]
     },
     "execution_count": 16,
     "metadata": {},
     "output_type": "execute_result"
    }
   ],
   "source": [
    "rte_sensors"
   ]
  },
  {
   "cell_type": "code",
   "execution_count": null,
   "metadata": {
    "scrolled": false
   },
   "outputs": [],
   "source": [
    "out = shdom.gradient.levis_approx_uncorrelated_l2(\n",
    "    Sensordict, solvers, forward_sensors, unknown_scatterers, table_derivatives, n_jobs=10)"
   ]
  },
  {
   "cell_type": "code",
   "execution_count": 20,
   "metadata": {},
   "outputs": [
    {
     "data": {
      "text/plain": [
       "((array([[0.],\n",
       "         [0.],\n",
       "         [0.],\n",
       "         ...,\n",
       "         [0.],\n",
       "         [0.],\n",
       "         [0.]]), 4.827433906720242e-10), (array([[0.],\n",
       "         [0.],\n",
       "         [0.],\n",
       "         ...,\n",
       "         [0.],\n",
       "         [0.],\n",
       "         [0.]]), 8.285162520748513e-12))"
      ]
     },
     "execution_count": 20,
     "metadata": {},
     "output_type": "execute_result"
    }
   ],
   "source": [
    "out"
   ]
  },
  {
   "cell_type": "code",
   "execution_count": 18,
   "metadata": {},
   "outputs": [],
   "source": [
    "%matplotlib qt"
   ]
  },
  {
   "cell_type": "code",
   "execution_count": 19,
   "metadata": {},
   "outputs": [
    {
     "data": {
      "text/plain": [
       "<matplotlib.colorbar.Colorbar at 0xd1a41e6a0>"
      ]
     },
     "execution_count": 19,
     "metadata": {},
     "output_type": "execute_result"
    }
   ],
   "source": [
    "#diff\n",
    "import pylab as py\n",
    "\n",
    "img1 = forward_sensors['MISR']['sensor_list'][1].I.data.reshape(forward_sensors['MISR']['sensor_list'][1].image_shape.data, order='F')\n",
    "img2 = Sensordict['MISR']['sensor_list'][1].I.data.reshape(Sensordict['MISR']['sensor_list'][1].image_shape.data, order='F')\n",
    "\n",
    "py.figure()\n",
    "py.imshow((img1-img2).T)\n",
    "py.colorbar()\n",
    "\n"
   ]
  },
  {
   "cell_type": "code",
   "execution_count": 31,
   "metadata": {},
   "outputs": [
    {
     "data": {
      "text/plain": [
       "<matplotlib.colorbar.Colorbar at 0xecfcce7b8>"
      ]
     },
     "execution_count": 31,
     "metadata": {},
     "output_type": "execute_result"
    }
   ],
   "source": [
    "py.figure()\n",
    "py.imshow((img1).T)\n",
    "py.colorbar()"
   ]
  },
  {
   "cell_type": "code",
   "execution_count": 29,
   "metadata": {},
   "outputs": [
    {
     "data": {
      "text/plain": [
       "<matplotlib.colorbar.Colorbar at 0xecfb950b8>"
      ]
     },
     "execution_count": 29,
     "metadata": {},
     "output_type": "execute_result"
    }
   ],
   "source": [
    "py.figure()\n",
    "py.imshow((img2).T)\n",
    "py.colorbar()"
   ]
  },
  {
   "cell_type": "code",
   "execution_count": 22,
   "metadata": {},
   "outputs": [
    {
     "data": {
      "text/plain": [
       "[<matplotlib.lines.Line2D at 0xec49c66d8>]"
      ]
     },
     "execution_count": 22,
     "metadata": {},
     "output_type": "execute_result"
    }
   ],
   "source": [
    "\n",
    "import pylab as py\n",
    "\n",
    "py.figure()\n",
    "py.plot(forward_sensors['MODIS']['sensor_list'][1].I.data, Sensordict['MODIS']['sensor_list'][1].I.data,'x')\n",
    "py.plot([0,0.2],[0.0,0.2])"
   ]
  },
  {
   "cell_type": "code",
   "execution_count": 17,
   "metadata": {},
   "outputs": [
    {
     "data": {
      "text/plain": [
       "0.12321"
      ]
     },
     "execution_count": 17,
     "metadata": {},
     "output_type": "execute_result"
    }
   ],
   "source": [
    "np.array([0.12321])[0]"
   ]
  },
  {
   "cell_type": "code",
   "execution_count": 39,
   "metadata": {},
   "outputs": [
    {
     "name": "stdout",
     "output_type": "stream",
     "text": [
      "rays_per_pixel\n",
      "measurement_data\n",
      "uncertainties\n"
     ]
    },
    {
     "ename": "ValueError",
     "evalue": "axes don't match array",
     "output_type": "error",
     "traceback": [
      "\u001b[0;31m---------------------------------------------------------------------------\u001b[0m",
      "\u001b[0;31mValueError\u001b[0m                                Traceback (most recent call last)",
      "\u001b[0;32m<ipython-input-39-42d8efcee968>\u001b[0m in \u001b[0;36m<module>\u001b[0;34m\u001b[0m\n\u001b[1;32m     10\u001b[0m \u001b[0;32mfor\u001b[0m \u001b[0mvar\u001b[0m \u001b[0;32min\u001b[0m \u001b[0;34m(\u001b[0m\u001b[0;34m'rays_per_pixel'\u001b[0m\u001b[0;34m,\u001b[0m\u001b[0;34m'measurement_data'\u001b[0m\u001b[0;34m,\u001b[0m \u001b[0;34m'uncertainties'\u001b[0m\u001b[0;34m)\u001b[0m\u001b[0;34m:\u001b[0m\u001b[0;34m\u001b[0m\u001b[0;34m\u001b[0m\u001b[0m\n\u001b[1;32m     11\u001b[0m     \u001b[0mprint\u001b[0m\u001b[0;34m(\u001b[0m\u001b[0mvar\u001b[0m\u001b[0;34m)\u001b[0m\u001b[0;34m\u001b[0m\u001b[0;34m\u001b[0m\u001b[0m\n\u001b[0;32m---> 12\u001b[0;31m     \u001b[0mconcatenated\u001b[0m\u001b[0;34m=\u001b[0m \u001b[0mxr\u001b[0m\u001b[0;34m.\u001b[0m\u001b[0mconcat\u001b[0m\u001b[0;34m(\u001b[0m\u001b[0;34m[\u001b[0m\u001b[0mdata\u001b[0m\u001b[0;34m[\u001b[0m\u001b[0;36m2\u001b[0m\u001b[0;34m]\u001b[0m\u001b[0;34m[\u001b[0m\u001b[0mvar\u001b[0m\u001b[0;34m]\u001b[0m \u001b[0;32mfor\u001b[0m \u001b[0mdata\u001b[0m \u001b[0;32min\u001b[0m \u001b[0mout\u001b[0m\u001b[0;34m]\u001b[0m\u001b[0;34m,\u001b[0m \u001b[0mdim\u001b[0m\u001b[0;34m=\u001b[0m\u001b[0;34m'npixels'\u001b[0m\u001b[0;34m)\u001b[0m\u001b[0;34m\u001b[0m\u001b[0;34m\u001b[0m\u001b[0m\n\u001b[0m\u001b[1;32m     13\u001b[0m     \u001b[0mmerged2\u001b[0m\u001b[0;34m[\u001b[0m\u001b[0mvar\u001b[0m\u001b[0;34m]\u001b[0m \u001b[0;34m=\u001b[0m \u001b[0mconcatenated\u001b[0m\u001b[0;34m\u001b[0m\u001b[0;34m\u001b[0m\u001b[0m\n\u001b[1;32m     14\u001b[0m \u001b[0mmerged\u001b[0m\u001b[0;34m.\u001b[0m\u001b[0mupdate\u001b[0m\u001b[0;34m(\u001b[0m\u001b[0mmerged2\u001b[0m\u001b[0;34m)\u001b[0m\u001b[0;34m\u001b[0m\u001b[0;34m\u001b[0m\u001b[0m\n",
      "\u001b[0;32m/Library/anaconda3/envs/pyshdom-dev-refactor/lib/python3.7/site-packages/xarray/core/concat.py\u001b[0m in \u001b[0;36mconcat\u001b[0;34m(objs, dim, data_vars, coords, compat, positions, fill_value, join)\u001b[0m\n\u001b[1;32m    133\u001b[0m             \u001b[0;34m\"objects, got %s\"\u001b[0m \u001b[0;34m%\u001b[0m \u001b[0mtype\u001b[0m\u001b[0;34m(\u001b[0m\u001b[0mfirst_obj\u001b[0m\u001b[0;34m)\u001b[0m\u001b[0;34m\u001b[0m\u001b[0;34m\u001b[0m\u001b[0m\n\u001b[1;32m    134\u001b[0m         )\n\u001b[0;32m--> 135\u001b[0;31m     \u001b[0;32mreturn\u001b[0m \u001b[0mf\u001b[0m\u001b[0;34m(\u001b[0m\u001b[0mobjs\u001b[0m\u001b[0;34m,\u001b[0m \u001b[0mdim\u001b[0m\u001b[0;34m,\u001b[0m \u001b[0mdata_vars\u001b[0m\u001b[0;34m,\u001b[0m \u001b[0mcoords\u001b[0m\u001b[0;34m,\u001b[0m \u001b[0mcompat\u001b[0m\u001b[0;34m,\u001b[0m \u001b[0mpositions\u001b[0m\u001b[0;34m,\u001b[0m \u001b[0mfill_value\u001b[0m\u001b[0;34m,\u001b[0m \u001b[0mjoin\u001b[0m\u001b[0;34m)\u001b[0m\u001b[0;34m\u001b[0m\u001b[0;34m\u001b[0m\u001b[0m\n\u001b[0m\u001b[1;32m    136\u001b[0m \u001b[0;34m\u001b[0m\u001b[0m\n\u001b[1;32m    137\u001b[0m \u001b[0;34m\u001b[0m\u001b[0m\n",
      "\u001b[0;32m/Library/anaconda3/envs/pyshdom-dev-refactor/lib/python3.7/site-packages/xarray/core/concat.py\u001b[0m in \u001b[0;36m_dataarray_concat\u001b[0;34m(arrays, dim, data_vars, coords, compat, positions, fill_value, join)\u001b[0m\n\u001b[1;32m    453\u001b[0m         \u001b[0mpositions\u001b[0m\u001b[0;34m,\u001b[0m\u001b[0;34m\u001b[0m\u001b[0;34m\u001b[0m\u001b[0m\n\u001b[1;32m    454\u001b[0m         \u001b[0mfill_value\u001b[0m\u001b[0;34m=\u001b[0m\u001b[0mfill_value\u001b[0m\u001b[0;34m,\u001b[0m\u001b[0;34m\u001b[0m\u001b[0;34m\u001b[0m\u001b[0m\n\u001b[0;32m--> 455\u001b[0;31m         \u001b[0mjoin\u001b[0m\u001b[0;34m=\u001b[0m\u001b[0mjoin\u001b[0m\u001b[0;34m,\u001b[0m\u001b[0;34m\u001b[0m\u001b[0;34m\u001b[0m\u001b[0m\n\u001b[0m\u001b[1;32m    456\u001b[0m     )\n\u001b[1;32m    457\u001b[0m     \u001b[0;32mreturn\u001b[0m \u001b[0marrays\u001b[0m\u001b[0;34m[\u001b[0m\u001b[0;36m0\u001b[0m\u001b[0;34m]\u001b[0m\u001b[0;34m.\u001b[0m\u001b[0m_from_temp_dataset\u001b[0m\u001b[0;34m(\u001b[0m\u001b[0mds\u001b[0m\u001b[0;34m,\u001b[0m \u001b[0mname\u001b[0m\u001b[0;34m)\u001b[0m\u001b[0;34m\u001b[0m\u001b[0;34m\u001b[0m\u001b[0m\n",
      "\u001b[0;32m/Library/anaconda3/envs/pyshdom-dev-refactor/lib/python3.7/site-packages/xarray/core/concat.py\u001b[0m in \u001b[0;36m_dataset_concat\u001b[0;34m(datasets, dim, data_vars, coords, compat, positions, fill_value, join)\u001b[0m\n\u001b[1;32m    394\u001b[0m             \u001b[0;32mexcept\u001b[0m \u001b[0mKeyError\u001b[0m\u001b[0;34m:\u001b[0m\u001b[0;34m\u001b[0m\u001b[0;34m\u001b[0m\u001b[0m\n\u001b[1;32m    395\u001b[0m                 \u001b[0;32mraise\u001b[0m \u001b[0mValueError\u001b[0m\u001b[0;34m(\u001b[0m\u001b[0;34m\"%r is not present in all datasets.\"\u001b[0m \u001b[0;34m%\u001b[0m \u001b[0mk\u001b[0m\u001b[0;34m)\u001b[0m\u001b[0;34m\u001b[0m\u001b[0;34m\u001b[0m\u001b[0m\n\u001b[0;32m--> 396\u001b[0;31m             \u001b[0mcombined\u001b[0m \u001b[0;34m=\u001b[0m \u001b[0mconcat_vars\u001b[0m\u001b[0;34m(\u001b[0m\u001b[0mvars\u001b[0m\u001b[0;34m,\u001b[0m \u001b[0mdim\u001b[0m\u001b[0;34m,\u001b[0m \u001b[0mpositions\u001b[0m\u001b[0;34m)\u001b[0m\u001b[0;34m\u001b[0m\u001b[0;34m\u001b[0m\u001b[0m\n\u001b[0m\u001b[1;32m    397\u001b[0m             \u001b[0;32massert\u001b[0m \u001b[0misinstance\u001b[0m\u001b[0;34m(\u001b[0m\u001b[0mcombined\u001b[0m\u001b[0;34m,\u001b[0m \u001b[0mVariable\u001b[0m\u001b[0;34m)\u001b[0m\u001b[0;34m\u001b[0m\u001b[0;34m\u001b[0m\u001b[0m\n\u001b[1;32m    398\u001b[0m             \u001b[0mresult_vars\u001b[0m\u001b[0;34m[\u001b[0m\u001b[0mk\u001b[0m\u001b[0;34m]\u001b[0m \u001b[0;34m=\u001b[0m \u001b[0mcombined\u001b[0m\u001b[0;34m\u001b[0m\u001b[0;34m\u001b[0m\u001b[0m\n",
      "\u001b[0;32m/Library/anaconda3/envs/pyshdom-dev-refactor/lib/python3.7/site-packages/xarray/core/variable.py\u001b[0m in \u001b[0;36mconcat\u001b[0;34m(variables, dim, positions, shortcut)\u001b[0m\n\u001b[1;32m   2378\u001b[0m         \u001b[0malong\u001b[0m \u001b[0mthe\u001b[0m \u001b[0mgiven\u001b[0m \u001b[0mdimension\u001b[0m\u001b[0;34m.\u001b[0m\u001b[0;34m\u001b[0m\u001b[0;34m\u001b[0m\u001b[0m\n\u001b[1;32m   2379\u001b[0m     \"\"\"\n\u001b[0;32m-> 2380\u001b[0;31m     \u001b[0mvariables\u001b[0m \u001b[0;34m=\u001b[0m \u001b[0mlist\u001b[0m\u001b[0;34m(\u001b[0m\u001b[0mvariables\u001b[0m\u001b[0;34m)\u001b[0m\u001b[0;34m\u001b[0m\u001b[0;34m\u001b[0m\u001b[0m\n\u001b[0m\u001b[1;32m   2381\u001b[0m     \u001b[0;32mif\u001b[0m \u001b[0mall\u001b[0m\u001b[0;34m(\u001b[0m\u001b[0misinstance\u001b[0m\u001b[0;34m(\u001b[0m\u001b[0mv\u001b[0m\u001b[0;34m,\u001b[0m \u001b[0mIndexVariable\u001b[0m\u001b[0;34m)\u001b[0m \u001b[0;32mfor\u001b[0m \u001b[0mv\u001b[0m \u001b[0;32min\u001b[0m \u001b[0mvariables\u001b[0m\u001b[0;34m)\u001b[0m\u001b[0;34m:\u001b[0m\u001b[0;34m\u001b[0m\u001b[0;34m\u001b[0m\u001b[0m\n\u001b[1;32m   2382\u001b[0m         \u001b[0;32mreturn\u001b[0m \u001b[0mIndexVariable\u001b[0m\u001b[0;34m.\u001b[0m\u001b[0mconcat\u001b[0m\u001b[0;34m(\u001b[0m\u001b[0mvariables\u001b[0m\u001b[0;34m,\u001b[0m \u001b[0mdim\u001b[0m\u001b[0;34m,\u001b[0m \u001b[0mpositions\u001b[0m\u001b[0;34m,\u001b[0m \u001b[0mshortcut\u001b[0m\u001b[0;34m)\u001b[0m\u001b[0;34m\u001b[0m\u001b[0;34m\u001b[0m\u001b[0m\n",
      "\u001b[0;32m/Library/anaconda3/envs/pyshdom-dev-refactor/lib/python3.7/site-packages/xarray/core/concat.py\u001b[0m in \u001b[0;36mensure_common_dims\u001b[0;34m(vars)\u001b[0m\n\u001b[1;32m    383\u001b[0m             \u001b[0;32mif\u001b[0m \u001b[0mvar\u001b[0m\u001b[0;34m.\u001b[0m\u001b[0mdims\u001b[0m \u001b[0;34m!=\u001b[0m \u001b[0mcommon_dims\u001b[0m\u001b[0;34m:\u001b[0m\u001b[0;34m\u001b[0m\u001b[0;34m\u001b[0m\u001b[0m\n\u001b[1;32m    384\u001b[0m                 \u001b[0mcommon_shape\u001b[0m \u001b[0;34m=\u001b[0m \u001b[0mtuple\u001b[0m\u001b[0;34m(\u001b[0m\u001b[0mdims_sizes\u001b[0m\u001b[0;34m.\u001b[0m\u001b[0mget\u001b[0m\u001b[0;34m(\u001b[0m\u001b[0md\u001b[0m\u001b[0;34m,\u001b[0m \u001b[0mdim_len\u001b[0m\u001b[0;34m)\u001b[0m \u001b[0;32mfor\u001b[0m \u001b[0md\u001b[0m \u001b[0;32min\u001b[0m \u001b[0mcommon_dims\u001b[0m\u001b[0;34m)\u001b[0m\u001b[0;34m\u001b[0m\u001b[0;34m\u001b[0m\u001b[0m\n\u001b[0;32m--> 385\u001b[0;31m                 \u001b[0mvar\u001b[0m \u001b[0;34m=\u001b[0m \u001b[0mvar\u001b[0m\u001b[0;34m.\u001b[0m\u001b[0mset_dims\u001b[0m\u001b[0;34m(\u001b[0m\u001b[0mcommon_dims\u001b[0m\u001b[0;34m,\u001b[0m \u001b[0mcommon_shape\u001b[0m\u001b[0;34m)\u001b[0m\u001b[0;34m\u001b[0m\u001b[0;34m\u001b[0m\u001b[0m\n\u001b[0m\u001b[1;32m    386\u001b[0m             \u001b[0;32myield\u001b[0m \u001b[0mvar\u001b[0m\u001b[0;34m\u001b[0m\u001b[0;34m\u001b[0m\u001b[0m\n\u001b[1;32m    387\u001b[0m \u001b[0;34m\u001b[0m\u001b[0m\n",
      "\u001b[0;32m/Library/anaconda3/envs/pyshdom-dev-refactor/lib/python3.7/site-packages/xarray/core/variable.py\u001b[0m in \u001b[0;36mset_dims\u001b[0;34m(self, dims, shape)\u001b[0m\n\u001b[1;32m   1390\u001b[0m             \u001b[0mexpanded_dims\u001b[0m\u001b[0;34m,\u001b[0m \u001b[0mexpanded_data\u001b[0m\u001b[0;34m,\u001b[0m \u001b[0mself\u001b[0m\u001b[0;34m.\u001b[0m\u001b[0m_attrs\u001b[0m\u001b[0;34m,\u001b[0m \u001b[0mself\u001b[0m\u001b[0;34m.\u001b[0m\u001b[0m_encoding\u001b[0m\u001b[0;34m,\u001b[0m \u001b[0mfastpath\u001b[0m\u001b[0;34m=\u001b[0m\u001b[0;32mTrue\u001b[0m\u001b[0;34m\u001b[0m\u001b[0;34m\u001b[0m\u001b[0m\n\u001b[1;32m   1391\u001b[0m         )\n\u001b[0;32m-> 1392\u001b[0;31m         \u001b[0;32mreturn\u001b[0m \u001b[0mexpanded_var\u001b[0m\u001b[0;34m.\u001b[0m\u001b[0mtranspose\u001b[0m\u001b[0;34m(\u001b[0m\u001b[0;34m*\u001b[0m\u001b[0mdims\u001b[0m\u001b[0;34m)\u001b[0m\u001b[0;34m\u001b[0m\u001b[0;34m\u001b[0m\u001b[0m\n\u001b[0m\u001b[1;32m   1393\u001b[0m \u001b[0;34m\u001b[0m\u001b[0m\n\u001b[1;32m   1394\u001b[0m     \u001b[0;32mdef\u001b[0m \u001b[0m_stack_once\u001b[0m\u001b[0;34m(\u001b[0m\u001b[0mself\u001b[0m\u001b[0;34m,\u001b[0m \u001b[0mdims\u001b[0m\u001b[0;34m,\u001b[0m \u001b[0mnew_dim\u001b[0m\u001b[0;34m)\u001b[0m\u001b[0;34m:\u001b[0m\u001b[0;34m\u001b[0m\u001b[0;34m\u001b[0m\u001b[0m\n",
      "\u001b[0;32m/Library/anaconda3/envs/pyshdom-dev-refactor/lib/python3.7/site-packages/xarray/core/variable.py\u001b[0m in \u001b[0;36mtranspose\u001b[0;34m(self, *dims)\u001b[0m\n\u001b[1;32m   1336\u001b[0m             \u001b[0;32mreturn\u001b[0m \u001b[0mself\u001b[0m\u001b[0;34m.\u001b[0m\u001b[0mcopy\u001b[0m\u001b[0;34m(\u001b[0m\u001b[0mdeep\u001b[0m\u001b[0;34m=\u001b[0m\u001b[0;32mFalse\u001b[0m\u001b[0;34m)\u001b[0m\u001b[0;34m\u001b[0m\u001b[0;34m\u001b[0m\u001b[0m\n\u001b[1;32m   1337\u001b[0m \u001b[0;34m\u001b[0m\u001b[0m\n\u001b[0;32m-> 1338\u001b[0;31m         \u001b[0mdata\u001b[0m \u001b[0;34m=\u001b[0m \u001b[0mas_indexable\u001b[0m\u001b[0;34m(\u001b[0m\u001b[0mself\u001b[0m\u001b[0;34m.\u001b[0m\u001b[0m_data\u001b[0m\u001b[0;34m)\u001b[0m\u001b[0;34m.\u001b[0m\u001b[0mtranspose\u001b[0m\u001b[0;34m(\u001b[0m\u001b[0maxes\u001b[0m\u001b[0;34m)\u001b[0m\u001b[0;34m\u001b[0m\u001b[0;34m\u001b[0m\u001b[0m\n\u001b[0m\u001b[1;32m   1339\u001b[0m         \u001b[0;32mreturn\u001b[0m \u001b[0mtype\u001b[0m\u001b[0;34m(\u001b[0m\u001b[0mself\u001b[0m\u001b[0;34m)\u001b[0m\u001b[0;34m(\u001b[0m\u001b[0mdims\u001b[0m\u001b[0;34m,\u001b[0m \u001b[0mdata\u001b[0m\u001b[0;34m,\u001b[0m \u001b[0mself\u001b[0m\u001b[0;34m.\u001b[0m\u001b[0m_attrs\u001b[0m\u001b[0;34m,\u001b[0m \u001b[0mself\u001b[0m\u001b[0;34m.\u001b[0m\u001b[0m_encoding\u001b[0m\u001b[0;34m,\u001b[0m \u001b[0mfastpath\u001b[0m\u001b[0;34m=\u001b[0m\u001b[0;32mTrue\u001b[0m\u001b[0;34m)\u001b[0m\u001b[0;34m\u001b[0m\u001b[0;34m\u001b[0m\u001b[0m\n\u001b[1;32m   1340\u001b[0m \u001b[0;34m\u001b[0m\u001b[0m\n",
      "\u001b[0;32m/Library/anaconda3/envs/pyshdom-dev-refactor/lib/python3.7/site-packages/xarray/core/indexing.py\u001b[0m in \u001b[0;36mtranspose\u001b[0;34m(self, order)\u001b[0m\n\u001b[1;32m   1270\u001b[0m \u001b[0;34m\u001b[0m\u001b[0m\n\u001b[1;32m   1271\u001b[0m     \u001b[0;32mdef\u001b[0m \u001b[0mtranspose\u001b[0m\u001b[0;34m(\u001b[0m\u001b[0mself\u001b[0m\u001b[0;34m,\u001b[0m \u001b[0morder\u001b[0m\u001b[0;34m)\u001b[0m\u001b[0;34m:\u001b[0m\u001b[0;34m\u001b[0m\u001b[0;34m\u001b[0m\u001b[0m\n\u001b[0;32m-> 1272\u001b[0;31m         \u001b[0;32mreturn\u001b[0m \u001b[0mself\u001b[0m\u001b[0;34m.\u001b[0m\u001b[0marray\u001b[0m\u001b[0;34m.\u001b[0m\u001b[0mtranspose\u001b[0m\u001b[0;34m(\u001b[0m\u001b[0morder\u001b[0m\u001b[0;34m)\u001b[0m\u001b[0;34m\u001b[0m\u001b[0;34m\u001b[0m\u001b[0m\n\u001b[0m\u001b[1;32m   1273\u001b[0m \u001b[0;34m\u001b[0m\u001b[0m\n\u001b[1;32m   1274\u001b[0m     \u001b[0;32mdef\u001b[0m \u001b[0m__getitem__\u001b[0m\u001b[0;34m(\u001b[0m\u001b[0mself\u001b[0m\u001b[0;34m,\u001b[0m \u001b[0mkey\u001b[0m\u001b[0;34m)\u001b[0m\u001b[0;34m:\u001b[0m\u001b[0;34m\u001b[0m\u001b[0;34m\u001b[0m\u001b[0m\n",
      "\u001b[0;31mValueError\u001b[0m: axes don't match array"
     ]
    }
   ],
   "source": [
    "var_list_nray = [str(name) for name in out[0][2].data_vars if str(name) not in ('rays_per_image', 'stokes',\n",
    "                                                                               'rays_per_pixel', 'uncertainties',\n",
    "                                                                               'measurement_data','stokes_weights')]\n",
    "merged = {}\n",
    "for var in var_list_nray:\n",
    "    concatenated= xr.concat([data[2][var] for data in out], dim='nrays')\n",
    "    merged[var] = concatenated\n",
    "    \n",
    "merged2 = {}\n",
    "for var in ('rays_per_pixel','measurement_data', 'uncertainties'):\n",
    "    print(var)\n",
    "    concatenated= xr.concat([data[2][var] for data in out], dim='npixels')\n",
    "    merged2[var] = concatenated\n",
    "merged.update(merged2)\n",
    "merged['stokes'] = out[0][2].stokes\n",
    "merged['rays_per_image'] = out[0][2].rays_per_image\n",
    "integrated_rays = xr.Dataset(merged)"
   ]
  },
  {
   "cell_type": "code",
   "execution_count": 40,
   "metadata": {},
   "outputs": [
    {
     "data": {
      "text/html": [
       "<div><svg style=\"position: absolute; width: 0; height: 0; overflow: hidden\">\n",
       "<defs>\n",
       "<symbol id=\"icon-database\" viewBox=\"0 0 32 32\">\n",
       "<title>Show/Hide data repr</title>\n",
       "<path d=\"M16 0c-8.837 0-16 2.239-16 5v4c0 2.761 7.163 5 16 5s16-2.239 16-5v-4c0-2.761-7.163-5-16-5z\"></path>\n",
       "<path d=\"M16 17c-8.837 0-16-2.239-16-5v6c0 2.761 7.163 5 16 5s16-2.239 16-5v-6c0 2.761-7.163 5-16 5z\"></path>\n",
       "<path d=\"M16 26c-8.837 0-16-2.239-16-5v6c0 2.761 7.163 5 16 5s16-2.239 16-5v-6c0 2.761-7.163 5-16 5z\"></path>\n",
       "</symbol>\n",
       "<symbol id=\"icon-file-text2\" viewBox=\"0 0 32 32\">\n",
       "<title>Show/Hide attributes</title>\n",
       "<path d=\"M28.681 7.159c-0.694-0.947-1.662-2.053-2.724-3.116s-2.169-2.030-3.116-2.724c-1.612-1.182-2.393-1.319-2.841-1.319h-15.5c-1.378 0-2.5 1.121-2.5 2.5v27c0 1.378 1.122 2.5 2.5 2.5h23c1.378 0 2.5-1.122 2.5-2.5v-19.5c0-0.448-0.137-1.23-1.319-2.841zM24.543 5.457c0.959 0.959 1.712 1.825 2.268 2.543h-4.811v-4.811c0.718 0.556 1.584 1.309 2.543 2.268zM28 29.5c0 0.271-0.229 0.5-0.5 0.5h-23c-0.271 0-0.5-0.229-0.5-0.5v-27c0-0.271 0.229-0.5 0.5-0.5 0 0 15.499-0 15.5 0v7c0 0.552 0.448 1 1 1h7v19.5z\"></path>\n",
       "<path d=\"M23 26h-14c-0.552 0-1-0.448-1-1s0.448-1 1-1h14c0.552 0 1 0.448 1 1s-0.448 1-1 1z\"></path>\n",
       "<path d=\"M23 22h-14c-0.552 0-1-0.448-1-1s0.448-1 1-1h14c0.552 0 1 0.448 1 1s-0.448 1-1 1z\"></path>\n",
       "<path d=\"M23 18h-14c-0.552 0-1-0.448-1-1s0.448-1 1-1h14c0.552 0 1 0.448 1 1s-0.448 1-1 1z\"></path>\n",
       "</symbol>\n",
       "</defs>\n",
       "</svg>\n",
       "<style>/* CSS stylesheet for displaying xarray objects in jupyterlab.\n",
       " *\n",
       " */\n",
       "\n",
       ":root {\n",
       "  --xr-font-color0: var(--jp-content-font-color0, rgba(0, 0, 0, 1));\n",
       "  --xr-font-color2: var(--jp-content-font-color2, rgba(0, 0, 0, 0.54));\n",
       "  --xr-font-color3: var(--jp-content-font-color3, rgba(0, 0, 0, 0.38));\n",
       "  --xr-border-color: var(--jp-border-color2, #e0e0e0);\n",
       "  --xr-disabled-color: var(--jp-layout-color3, #bdbdbd);\n",
       "  --xr-background-color: var(--jp-layout-color0, white);\n",
       "  --xr-background-color-row-even: var(--jp-layout-color1, white);\n",
       "  --xr-background-color-row-odd: var(--jp-layout-color2, #eeeeee);\n",
       "}\n",
       "\n",
       ".xr-wrap {\n",
       "  min-width: 300px;\n",
       "  max-width: 700px;\n",
       "}\n",
       "\n",
       ".xr-header {\n",
       "  padding-top: 6px;\n",
       "  padding-bottom: 6px;\n",
       "  margin-bottom: 4px;\n",
       "  border-bottom: solid 1px var(--xr-border-color);\n",
       "}\n",
       "\n",
       ".xr-header > div,\n",
       ".xr-header > ul {\n",
       "  display: inline;\n",
       "  margin-top: 0;\n",
       "  margin-bottom: 0;\n",
       "}\n",
       "\n",
       ".xr-obj-type,\n",
       ".xr-array-name {\n",
       "  margin-left: 2px;\n",
       "  margin-right: 10px;\n",
       "}\n",
       "\n",
       ".xr-obj-type {\n",
       "  color: var(--xr-font-color2);\n",
       "}\n",
       "\n",
       ".xr-sections {\n",
       "  padding-left: 0 !important;\n",
       "  display: grid;\n",
       "  grid-template-columns: 150px auto auto 1fr 20px 20px;\n",
       "}\n",
       "\n",
       ".xr-section-item {\n",
       "  display: contents;\n",
       "}\n",
       "\n",
       ".xr-section-item input {\n",
       "  display: none;\n",
       "}\n",
       "\n",
       ".xr-section-item input + label {\n",
       "  color: var(--xr-disabled-color);\n",
       "}\n",
       "\n",
       ".xr-section-item input:enabled + label {\n",
       "  cursor: pointer;\n",
       "  color: var(--xr-font-color2);\n",
       "}\n",
       "\n",
       ".xr-section-item input:enabled + label:hover {\n",
       "  color: var(--xr-font-color0);\n",
       "}\n",
       "\n",
       ".xr-section-summary {\n",
       "  grid-column: 1;\n",
       "  color: var(--xr-font-color2);\n",
       "  font-weight: 500;\n",
       "}\n",
       "\n",
       ".xr-section-summary > span {\n",
       "  display: inline-block;\n",
       "  padding-left: 0.5em;\n",
       "}\n",
       "\n",
       ".xr-section-summary-in:disabled + label {\n",
       "  color: var(--xr-font-color2);\n",
       "}\n",
       "\n",
       ".xr-section-summary-in + label:before {\n",
       "  display: inline-block;\n",
       "  content: '►';\n",
       "  font-size: 11px;\n",
       "  width: 15px;\n",
       "  text-align: center;\n",
       "}\n",
       "\n",
       ".xr-section-summary-in:disabled + label:before {\n",
       "  color: var(--xr-disabled-color);\n",
       "}\n",
       "\n",
       ".xr-section-summary-in:checked + label:before {\n",
       "  content: '▼';\n",
       "}\n",
       "\n",
       ".xr-section-summary-in:checked + label > span {\n",
       "  display: none;\n",
       "}\n",
       "\n",
       ".xr-section-summary,\n",
       ".xr-section-inline-details {\n",
       "  padding-top: 4px;\n",
       "  padding-bottom: 4px;\n",
       "}\n",
       "\n",
       ".xr-section-inline-details {\n",
       "  grid-column: 2 / -1;\n",
       "}\n",
       "\n",
       ".xr-section-details {\n",
       "  display: none;\n",
       "  grid-column: 1 / -1;\n",
       "  margin-bottom: 5px;\n",
       "}\n",
       "\n",
       ".xr-section-summary-in:checked ~ .xr-section-details {\n",
       "  display: contents;\n",
       "}\n",
       "\n",
       ".xr-array-wrap {\n",
       "  grid-column: 1 / -1;\n",
       "  display: grid;\n",
       "  grid-template-columns: 20px auto;\n",
       "}\n",
       "\n",
       ".xr-array-wrap > label {\n",
       "  grid-column: 1;\n",
       "  vertical-align: top;\n",
       "}\n",
       "\n",
       ".xr-preview {\n",
       "  color: var(--xr-font-color3);\n",
       "}\n",
       "\n",
       ".xr-array-preview,\n",
       ".xr-array-data {\n",
       "  padding: 0 5px !important;\n",
       "  grid-column: 2;\n",
       "}\n",
       "\n",
       ".xr-array-data,\n",
       ".xr-array-in:checked ~ .xr-array-preview {\n",
       "  display: none;\n",
       "}\n",
       "\n",
       ".xr-array-in:checked ~ .xr-array-data,\n",
       ".xr-array-preview {\n",
       "  display: inline-block;\n",
       "}\n",
       "\n",
       ".xr-dim-list {\n",
       "  display: inline-block !important;\n",
       "  list-style: none;\n",
       "  padding: 0 !important;\n",
       "  margin: 0;\n",
       "}\n",
       "\n",
       ".xr-dim-list li {\n",
       "  display: inline-block;\n",
       "  padding: 0;\n",
       "  margin: 0;\n",
       "}\n",
       "\n",
       ".xr-dim-list:before {\n",
       "  content: '(';\n",
       "}\n",
       "\n",
       ".xr-dim-list:after {\n",
       "  content: ')';\n",
       "}\n",
       "\n",
       ".xr-dim-list li:not(:last-child):after {\n",
       "  content: ',';\n",
       "  padding-right: 5px;\n",
       "}\n",
       "\n",
       ".xr-has-index {\n",
       "  font-weight: bold;\n",
       "}\n",
       "\n",
       ".xr-var-list,\n",
       ".xr-var-item {\n",
       "  display: contents;\n",
       "}\n",
       "\n",
       ".xr-var-item > div,\n",
       ".xr-var-item label,\n",
       ".xr-var-item > .xr-var-name span {\n",
       "  background-color: var(--xr-background-color-row-even);\n",
       "  margin-bottom: 0;\n",
       "}\n",
       "\n",
       ".xr-var-item > .xr-var-name:hover span {\n",
       "  padding-right: 5px;\n",
       "}\n",
       "\n",
       ".xr-var-list > li:nth-child(odd) > div,\n",
       ".xr-var-list > li:nth-child(odd) > label,\n",
       ".xr-var-list > li:nth-child(odd) > .xr-var-name span {\n",
       "  background-color: var(--xr-background-color-row-odd);\n",
       "}\n",
       "\n",
       ".xr-var-name {\n",
       "  grid-column: 1;\n",
       "}\n",
       "\n",
       ".xr-var-dims {\n",
       "  grid-column: 2;\n",
       "}\n",
       "\n",
       ".xr-var-dtype {\n",
       "  grid-column: 3;\n",
       "  text-align: right;\n",
       "  color: var(--xr-font-color2);\n",
       "}\n",
       "\n",
       ".xr-var-preview {\n",
       "  grid-column: 4;\n",
       "}\n",
       "\n",
       ".xr-var-name,\n",
       ".xr-var-dims,\n",
       ".xr-var-dtype,\n",
       ".xr-preview,\n",
       ".xr-attrs dt {\n",
       "  white-space: nowrap;\n",
       "  overflow: hidden;\n",
       "  text-overflow: ellipsis;\n",
       "  padding-right: 10px;\n",
       "}\n",
       "\n",
       ".xr-var-name:hover,\n",
       ".xr-var-dims:hover,\n",
       ".xr-var-dtype:hover,\n",
       ".xr-attrs dt:hover {\n",
       "  overflow: visible;\n",
       "  width: auto;\n",
       "  z-index: 1;\n",
       "}\n",
       "\n",
       ".xr-var-attrs,\n",
       ".xr-var-data {\n",
       "  display: none;\n",
       "  background-color: var(--xr-background-color) !important;\n",
       "  padding-bottom: 5px !important;\n",
       "}\n",
       "\n",
       ".xr-var-attrs-in:checked ~ .xr-var-attrs,\n",
       ".xr-var-data-in:checked ~ .xr-var-data {\n",
       "  display: block;\n",
       "}\n",
       "\n",
       ".xr-var-data > table {\n",
       "  float: right;\n",
       "}\n",
       "\n",
       ".xr-var-name span,\n",
       ".xr-var-data,\n",
       ".xr-attrs {\n",
       "  padding-left: 25px !important;\n",
       "}\n",
       "\n",
       ".xr-attrs,\n",
       ".xr-var-attrs,\n",
       ".xr-var-data {\n",
       "  grid-column: 1 / -1;\n",
       "}\n",
       "\n",
       "dl.xr-attrs {\n",
       "  padding: 0;\n",
       "  margin: 0;\n",
       "  display: grid;\n",
       "  grid-template-columns: 125px auto;\n",
       "}\n",
       "\n",
       ".xr-attrs dt, dd {\n",
       "  padding: 0;\n",
       "  margin: 0;\n",
       "  float: left;\n",
       "  padding-right: 10px;\n",
       "  width: auto;\n",
       "}\n",
       "\n",
       ".xr-attrs dt {\n",
       "  font-weight: normal;\n",
       "  grid-column: 1;\n",
       "}\n",
       "\n",
       ".xr-attrs dt:hover span {\n",
       "  display: inline-block;\n",
       "  background: var(--xr-background-color);\n",
       "  padding-right: 10px;\n",
       "}\n",
       "\n",
       ".xr-attrs dd {\n",
       "  grid-column: 2;\n",
       "  white-space: pre-wrap;\n",
       "  word-break: break-all;\n",
       "}\n",
       "\n",
       ".xr-icon-database,\n",
       ".xr-icon-file-text2 {\n",
       "  display: inline-block;\n",
       "  vertical-align: middle;\n",
       "  width: 1em;\n",
       "  height: 1.5em !important;\n",
       "  stroke-width: 0;\n",
       "  stroke: currentColor;\n",
       "  fill: currentColor;\n",
       "}\n",
       "</style><div class='xr-wrap'><div class='xr-header'><div class='xr-obj-type'>xarray.Dataset</div></div><ul class='xr-sections'><li class='xr-section-item'><input id='section-e1b87ea2-d28d-474f-ae61-37715e48b99a' class='xr-section-summary-in' type='checkbox' disabled ><label for='section-e1b87ea2-d28d-474f-ae61-37715e48b99a' class='xr-section-summary'  title='Expand/collapse section'>Dimensions:</label><div class='xr-section-inline-details'><ul class='xr-dim-list'><li><span>nimage</span>: 1</li><li><span>npixels</span>: 1184</li><li><span>nrays</span>: 7104</li><li><span>nstokes</span>: 1</li><li><span class='xr-has-index'>stokes_index</span>: 4</li></ul></div><div class='xr-section-details'></div></li><li class='xr-section-item'><input id='section-7ee2dccd-f2ce-480d-a98b-df5bd7a04dc8' class='xr-section-summary-in' type='checkbox'  checked><label for='section-7ee2dccd-f2ce-480d-a98b-df5bd7a04dc8' class='xr-section-summary' >Coordinates: <span>(1)</span></label><div class='xr-section-inline-details'></div><div class='xr-section-details'><ul class='xr-var-list'><li class='xr-var-item'><div class='xr-var-name'><span class='xr-has-index'>stokes_index</span></div><div class='xr-var-dims'>(stokes_index)</div><div class='xr-var-dtype'>&lt;U1</div><div class='xr-var-preview xr-preview'>&#x27;I&#x27; &#x27;Q&#x27; &#x27;U&#x27; &#x27;V&#x27;</div><input id='attrs-bafa3f4e-8c0d-4436-8352-a8ca963c3197' class='xr-var-attrs-in' type='checkbox' disabled><label for='attrs-bafa3f4e-8c0d-4436-8352-a8ca963c3197' title='Show/Hide attributes'><svg class='icon xr-icon-file-text2'><use xlink:href='#icon-file-text2'></use></svg></label><input id='data-495e2666-421a-4888-9402-93071469a40f' class='xr-var-data-in' type='checkbox'><label for='data-495e2666-421a-4888-9402-93071469a40f' title='Show/Hide data repr'><svg class='icon xr-icon-database'><use xlink:href='#icon-database'></use></svg></label><div class='xr-var-attrs'><dl class='xr-attrs'></dl></div><pre class='xr-var-data'>array([&#x27;I&#x27;, &#x27;Q&#x27;, &#x27;U&#x27;, &#x27;V&#x27;], dtype=&#x27;&lt;U1&#x27;)</pre></li></ul></div></li><li class='xr-section-item'><input id='section-38440c41-2ab7-4776-b49b-510c7e24045b' class='xr-section-summary-in' type='checkbox'  checked><label for='section-38440c41-2ab7-4776-b49b-510c7e24045b' class='xr-section-summary' >Data variables: <span>(13)</span></label><div class='xr-section-inline-details'></div><div class='xr-section-details'><ul class='xr-var-list'><li class='xr-var-item'><div class='xr-var-name'><span>ray_x</span></div><div class='xr-var-dims'>(nrays)</div><div class='xr-var-dtype'>float64</div><div class='xr-var-preview xr-preview'>0.0 0.0 0.0 0.0 ... 0.62 0.62 0.62</div><input id='attrs-e1ccf0e7-70c3-4c0b-99cd-2e8fbd9ec431' class='xr-var-attrs-in' type='checkbox' disabled><label for='attrs-e1ccf0e7-70c3-4c0b-99cd-2e8fbd9ec431' title='Show/Hide attributes'><svg class='icon xr-icon-file-text2'><use xlink:href='#icon-file-text2'></use></svg></label><input id='data-77ef9c13-454d-499b-8d78-ea53d7e19e4f' class='xr-var-data-in' type='checkbox'><label for='data-77ef9c13-454d-499b-8d78-ea53d7e19e4f' title='Show/Hide data repr'><svg class='icon xr-icon-database'><use xlink:href='#icon-database'></use></svg></label><div class='xr-var-attrs'><dl class='xr-attrs'></dl></div><pre class='xr-var-data'>array([0.  , 0.  , 0.  , ..., 0.62, 0.62, 0.62])</pre></li><li class='xr-var-item'><div class='xr-var-name'><span>ray_y</span></div><div class='xr-var-dims'>(nrays)</div><div class='xr-var-dtype'>float64</div><div class='xr-var-preview xr-preview'>0.0 0.0 0.0 0.0 ... 0.72 0.72 0.72</div><input id='attrs-dab7e989-dea7-4bdb-b0fc-585f9ccdba6e' class='xr-var-attrs-in' type='checkbox' disabled><label for='attrs-dab7e989-dea7-4bdb-b0fc-585f9ccdba6e' title='Show/Hide attributes'><svg class='icon xr-icon-file-text2'><use xlink:href='#icon-file-text2'></use></svg></label><input id='data-0bd4fc61-1fec-41d6-bb8c-84efe8dcb910' class='xr-var-data-in' type='checkbox'><label for='data-0bd4fc61-1fec-41d6-bb8c-84efe8dcb910' title='Show/Hide data repr'><svg class='icon xr-icon-database'><use xlink:href='#icon-database'></use></svg></label><div class='xr-var-attrs'><dl class='xr-attrs'></dl></div><pre class='xr-var-data'>array([0.  , 0.  , 0.  , ..., 0.72, 0.72, 0.72])</pre></li><li class='xr-var-item'><div class='xr-var-name'><span>ray_z</span></div><div class='xr-var-dims'>(nrays)</div><div class='xr-var-dtype'>float64</div><div class='xr-var-preview xr-preview'>1.44 1.44 1.44 ... 1.44 1.44 1.44</div><input id='attrs-33189855-35df-4f29-88cd-0da829043989' class='xr-var-attrs-in' type='checkbox' disabled><label for='attrs-33189855-35df-4f29-88cd-0da829043989' title='Show/Hide attributes'><svg class='icon xr-icon-file-text2'><use xlink:href='#icon-file-text2'></use></svg></label><input id='data-542fdc70-0fff-4d99-9fc8-11b4edb2bbd2' class='xr-var-data-in' type='checkbox'><label for='data-542fdc70-0fff-4d99-9fc8-11b4edb2bbd2' title='Show/Hide data repr'><svg class='icon xr-icon-database'><use xlink:href='#icon-database'></use></svg></label><div class='xr-var-attrs'><dl class='xr-attrs'></dl></div><pre class='xr-var-data'>array([1.44, 1.44, 1.44, ..., 1.44, 1.44, 1.44])</pre></li><li class='xr-var-item'><div class='xr-var-name'><span>ray_mu</span></div><div class='xr-var-dims'>(nrays)</div><div class='xr-var-dtype'>float64</div><div class='xr-var-preview xr-preview'>0.9999 0.9999 0.9999 ... 1.0 1.0</div><input id='attrs-a521ae2b-c353-4bc4-96cc-ec385c5e254e' class='xr-var-attrs-in' type='checkbox' disabled><label for='attrs-a521ae2b-c353-4bc4-96cc-ec385c5e254e' title='Show/Hide attributes'><svg class='icon xr-icon-file-text2'><use xlink:href='#icon-file-text2'></use></svg></label><input id='data-bd4a0c99-ae19-4618-bf04-ba324f0e3511' class='xr-var-data-in' type='checkbox'><label for='data-bd4a0c99-ae19-4618-bf04-ba324f0e3511' title='Show/Hide data repr'><svg class='icon xr-icon-database'><use xlink:href='#icon-database'></use></svg></label><div class='xr-var-attrs'><dl class='xr-attrs'></dl></div><pre class='xr-var-data'>array([0.99989948, 0.99989948, 0.99989948, ..., 0.99989948, 0.99997885,\n",
       "       0.99997885])</pre></li><li class='xr-var-item'><div class='xr-var-name'><span>ray_phi</span></div><div class='xr-var-dims'>(nrays)</div><div class='xr-var-dtype'>float64</div><div class='xr-var-preview xr-preview'>1.571 3.142 ... 3.142 -2.449e-16</div><input id='attrs-7cde2445-ec03-460f-bb6f-3ccb906ae5e7' class='xr-var-attrs-in' type='checkbox' disabled><label for='attrs-7cde2445-ec03-460f-bb6f-3ccb906ae5e7' title='Show/Hide attributes'><svg class='icon xr-icon-file-text2'><use xlink:href='#icon-file-text2'></use></svg></label><input id='data-370fea66-c262-43e8-959e-56e203f542b5' class='xr-var-data-in' type='checkbox'><label for='data-370fea66-c262-43e8-959e-56e203f542b5' title='Show/Hide data repr'><svg class='icon xr-icon-database'><use xlink:href='#icon-database'></use></svg></label><div class='xr-var-attrs'><dl class='xr-attrs'></dl></div><pre class='xr-var-data'>array([ 1.57079633e+00,  3.14159265e+00, -1.57079633e+00, ...,\n",
       "       -2.44929360e-16,  3.14159265e+00, -2.44929360e-16])</pre></li><li class='xr-var-item'><div class='xr-var-name'><span>ray_weight</span></div><div class='xr-var-dims'>(nrays)</div><div class='xr-var-dtype'>float64</div><div class='xr-var-preview xr-preview'>0.163 0.163 0.163 ... 0.1739 0.1739</div><input id='attrs-15d97996-0836-4e90-8df0-c4273b75a77e' class='xr-var-attrs-in' type='checkbox' disabled><label for='attrs-15d97996-0836-4e90-8df0-c4273b75a77e' title='Show/Hide attributes'><svg class='icon xr-icon-file-text2'><use xlink:href='#icon-file-text2'></use></svg></label><input id='data-a6d9556f-b07a-41f1-b305-67006f894fc9' class='xr-var-data-in' type='checkbox'><label for='data-a6d9556f-b07a-41f1-b305-67006f894fc9' title='Show/Hide data repr'><svg class='icon xr-icon-database'><use xlink:href='#icon-database'></use></svg></label><div class='xr-var-attrs'><dl class='xr-attrs'></dl></div><pre class='xr-var-data'>array([0.16303179, 0.16303179, 0.16303179, ..., 0.17393643, 0.17393643,\n",
       "       0.17393643])</pre></li><li class='xr-var-item'><div class='xr-var-name'><span>pixel_index</span></div><div class='xr-var-dims'>(nrays)</div><div class='xr-var-dtype'>int64</div><div class='xr-var-preview xr-preview'>0 0 0 0 0 ... 1183 1183 1183 1183</div><input id='attrs-134f2b75-4350-47a7-b218-aacb0bd106d5' class='xr-var-attrs-in' type='checkbox' disabled><label for='attrs-134f2b75-4350-47a7-b218-aacb0bd106d5' title='Show/Hide attributes'><svg class='icon xr-icon-file-text2'><use xlink:href='#icon-file-text2'></use></svg></label><input id='data-49ec9bda-1ecb-4f80-9d38-8c52ce6cb78b' class='xr-var-data-in' type='checkbox'><label for='data-49ec9bda-1ecb-4f80-9d38-8c52ce6cb78b' title='Show/Hide data repr'><svg class='icon xr-icon-database'><use xlink:href='#icon-database'></use></svg></label><div class='xr-var-attrs'><dl class='xr-attrs'></dl></div><pre class='xr-var-data'>array([   0,    0,    0, ..., 1183, 1183, 1183])</pre></li><li class='xr-var-item'><div class='xr-var-name'><span>stokes</span></div><div class='xr-var-dims'>(nimage, stokes_index)</div><div class='xr-var-dtype'>bool</div><div class='xr-var-preview xr-preview'>True False False False</div><input id='attrs-9e76b148-b42c-4dbe-b709-a1b3fd00f9df' class='xr-var-attrs-in' type='checkbox' disabled><label for='attrs-9e76b148-b42c-4dbe-b709-a1b3fd00f9df' title='Show/Hide attributes'><svg class='icon xr-icon-file-text2'><use xlink:href='#icon-file-text2'></use></svg></label><input id='data-291f2894-1f50-4dd8-aace-d417d54e140b' class='xr-var-data-in' type='checkbox'><label for='data-291f2894-1f50-4dd8-aace-d417d54e140b' title='Show/Hide data repr'><svg class='icon xr-icon-database'><use xlink:href='#icon-database'></use></svg></label><div class='xr-var-attrs'><dl class='xr-attrs'></dl></div><pre class='xr-var-data'>array([[ True, False, False, False]])</pre></li><li class='xr-var-item'><div class='xr-var-name'><span>rays_per_image</span></div><div class='xr-var-dims'>(nimage)</div><div class='xr-var-dtype'>int64</div><div class='xr-var-preview xr-preview'>7104</div><input id='attrs-8ad7dcb0-ac71-4030-82fc-ff27ceff6407' class='xr-var-attrs-in' type='checkbox' disabled><label for='attrs-8ad7dcb0-ac71-4030-82fc-ff27ceff6407' title='Show/Hide attributes'><svg class='icon xr-icon-file-text2'><use xlink:href='#icon-file-text2'></use></svg></label><input id='data-cc6dc64b-af4b-433b-95eb-72e2769e0efa' class='xr-var-data-in' type='checkbox'><label for='data-cc6dc64b-af4b-433b-95eb-72e2769e0efa' title='Show/Hide data repr'><svg class='icon xr-icon-database'><use xlink:href='#icon-database'></use></svg></label><div class='xr-var-attrs'><dl class='xr-attrs'></dl></div><pre class='xr-var-data'>array([7104])</pre></li><li class='xr-var-item'><div class='xr-var-name'><span>rays_per_pixel</span></div><div class='xr-var-dims'>(npixels)</div><div class='xr-var-dtype'>int64</div><div class='xr-var-preview xr-preview'>6 6 6 6 6 6 6 6 ... 6 6 6 6 6 6 6 6</div><input id='attrs-3039cf12-31fc-493f-a6ee-16763708bf07' class='xr-var-attrs-in' type='checkbox' disabled><label for='attrs-3039cf12-31fc-493f-a6ee-16763708bf07' title='Show/Hide attributes'><svg class='icon xr-icon-file-text2'><use xlink:href='#icon-file-text2'></use></svg></label><input id='data-7a426074-7c57-4e77-ba5f-c5f30baa2341' class='xr-var-data-in' type='checkbox'><label for='data-7a426074-7c57-4e77-ba5f-c5f30baa2341' title='Show/Hide data repr'><svg class='icon xr-icon-database'><use xlink:href='#icon-database'></use></svg></label><div class='xr-var-attrs'><dl class='xr-attrs'></dl></div><pre class='xr-var-data'>array([6, 6, 6, ..., 6, 6, 6])</pre></li><li class='xr-var-item'><div class='xr-var-name'><span>stokes_weights</span></div><div class='xr-var-dims'>(nstokes, npixels)</div><div class='xr-var-dtype'>float64</div><div class='xr-var-preview xr-preview'>1.0 1.0 1.0 1.0 ... 1.0 1.0 1.0 1.0</div><input id='attrs-9ea31f06-8151-435e-8729-b9afed5569fc' class='xr-var-attrs-in' type='checkbox' disabled><label for='attrs-9ea31f06-8151-435e-8729-b9afed5569fc' title='Show/Hide attributes'><svg class='icon xr-icon-file-text2'><use xlink:href='#icon-file-text2'></use></svg></label><input id='data-02213579-dca2-4ce2-9312-06acf0f8cc11' class='xr-var-data-in' type='checkbox'><label for='data-02213579-dca2-4ce2-9312-06acf0f8cc11' title='Show/Hide data repr'><svg class='icon xr-icon-database'><use xlink:href='#icon-database'></use></svg></label><div class='xr-var-attrs'><dl class='xr-attrs'></dl></div><pre class='xr-var-data'>array([[1., 1., 1., ..., 1., 1., 1.]])</pre></li><li class='xr-var-item'><div class='xr-var-name'><span>measurement_data</span></div><div class='xr-var-dims'>(nstokes, npixels)</div><div class='xr-var-dtype'>float64</div><div class='xr-var-preview xr-preview'>0.003114 0.003123 ... 0.003323</div><input id='attrs-c394b091-88f2-4821-be6f-3ffbde6cb7d3' class='xr-var-attrs-in' type='checkbox' disabled><label for='attrs-c394b091-88f2-4821-be6f-3ffbde6cb7d3' title='Show/Hide attributes'><svg class='icon xr-icon-file-text2'><use xlink:href='#icon-file-text2'></use></svg></label><input id='data-417d983e-116d-4393-90fe-e6cbf5b02e7c' class='xr-var-data-in' type='checkbox'><label for='data-417d983e-116d-4393-90fe-e6cbf5b02e7c' title='Show/Hide data repr'><svg class='icon xr-icon-database'><use xlink:href='#icon-database'></use></svg></label><div class='xr-var-attrs'><dl class='xr-attrs'></dl></div><pre class='xr-var-data'>array([[0.00311429, 0.00312336, 0.00312373, ..., 0.00334803, 0.00334652,\n",
       "        0.00332259]])</pre></li><li class='xr-var-item'><div class='xr-var-name'><span>uncertainties</span></div><div class='xr-var-dims'>(nstokes, nstokes, npixels)</div><div class='xr-var-dtype'>float64</div><div class='xr-var-preview xr-preview'>1.0 1.0 1.0 1.0 ... 1.0 1.0 1.0 1.0</div><input id='attrs-3fa4c788-568d-4716-bf4a-a23744a97db9' class='xr-var-attrs-in' type='checkbox' disabled><label for='attrs-3fa4c788-568d-4716-bf4a-a23744a97db9' title='Show/Hide attributes'><svg class='icon xr-icon-file-text2'><use xlink:href='#icon-file-text2'></use></svg></label><input id='data-eef07a86-144c-4a82-92dc-8bba63ff2c60' class='xr-var-data-in' type='checkbox'><label for='data-eef07a86-144c-4a82-92dc-8bba63ff2c60' title='Show/Hide data repr'><svg class='icon xr-icon-database'><use xlink:href='#icon-database'></use></svg></label><div class='xr-var-attrs'><dl class='xr-attrs'></dl></div><pre class='xr-var-data'>array([[[1., 1., 1., ..., 1., 1., 1.]]])</pre></li></ul></div></li><li class='xr-section-item'><input id='section-00600a7d-ee29-4511-a747-169b905d1560' class='xr-section-summary-in' type='checkbox' disabled ><label for='section-00600a7d-ee29-4511-a747-169b905d1560' class='xr-section-summary'  title='Expand/collapse section'>Attributes: <span>(0)</span></label><div class='xr-section-inline-details'></div><div class='xr-section-details'><dl class='xr-attrs'></dl></div></li></ul></div></div>"
      ],
      "text/plain": [
       "<xarray.Dataset>\n",
       "Dimensions:           (nimage: 1, npixels: 1184, nrays: 7104, nstokes: 1, stokes_index: 4)\n",
       "Coordinates:\n",
       "  * stokes_index      (stokes_index) <U1 'I' 'Q' 'U' 'V'\n",
       "Dimensions without coordinates: nimage, npixels, nrays, nstokes\n",
       "Data variables:\n",
       "    ray_x             (nrays) float64 0.0 0.0 0.0 0.0 ... 0.62 0.62 0.62 0.62\n",
       "    ray_y             (nrays) float64 0.0 0.0 0.0 0.0 ... 0.72 0.72 0.72 0.72\n",
       "    ray_z             (nrays) float64 1.44 1.44 1.44 1.44 ... 1.44 1.44 1.44\n",
       "    ray_mu            (nrays) float64 0.9999 0.9999 0.9999 ... 0.9999 1.0 1.0\n",
       "    ray_phi           (nrays) float64 1.571 3.142 -1.571 ... 3.142 -2.449e-16\n",
       "    ray_weight        (nrays) float64 0.163 0.163 0.163 ... 0.1739 0.1739 0.1739\n",
       "    pixel_index       (nrays) int64 0 0 0 0 0 0 ... 1183 1183 1183 1183 1183\n",
       "    stokes            (nimage, stokes_index) bool True False False False\n",
       "    rays_per_image    (nimage) int64 7104\n",
       "    rays_per_pixel    (npixels) int64 6 6 6 6 6 6 6 6 6 6 ... 6 6 6 6 6 6 6 6 6\n",
       "    stokes_weights    (nstokes, npixels) float64 1.0 1.0 1.0 1.0 ... 1.0 1.0 1.0\n",
       "    measurement_data  (nstokes, npixels) float64 0.003114 0.003123 ... 0.003323\n",
       "    uncertainties     (nstokes, nstokes, npixels) float64 1.0 1.0 ... 1.0 1.0"
      ]
     },
     "execution_count": 40,
     "metadata": {},
     "output_type": "execute_result"
    }
   ],
   "source": [
    "out[1][2]"
   ]
  },
  {
   "cell_type": "code",
   "execution_count": 21,
   "metadata": {},
   "outputs": [
    {
     "data": {
      "text/plain": [
       "1184.0"
      ]
     },
     "execution_count": 21,
     "metadata": {},
     "output_type": "execute_result"
    }
   ],
   "source": [
    "7104/6"
   ]
  },
  {
   "cell_type": "code",
   "execution_count": 25,
   "metadata": {},
   "outputs": [],
   "source": [
    "rays_per_pixel = np.ones((1184))*6"
   ]
  },
  {
   "cell_type": "code",
   "execution_count": 31,
   "metadata": {},
   "outputs": [],
   "source": [
    "pixel_inds = np.cumsum(np.concatenate([np.array([0]), rays_per_pixel])).astype(np.int)\n",
    "pixels_per_image = []\n",
    "for ray_image in np.array([7104]):\n",
    "    pixels_per_image.append(np.where(pixel_inds == ray_image)[0])"
   ]
  },
  {
   "cell_type": "code",
   "execution_count": 32,
   "metadata": {},
   "outputs": [
    {
     "data": {
      "text/plain": [
       "[array([1184])]"
      ]
     },
     "execution_count": 32,
     "metadata": {},
     "output_type": "execute_result"
    }
   ],
   "source": [
    "pixels_per_image"
   ]
  },
  {
   "cell_type": "code",
   "execution_count": null,
   "metadata": {},
   "outputs": [],
   "source": [
    "np.where()"
   ]
  },
  {
   "cell_type": "code",
   "execution_count": 26,
   "metadata": {},
   "outputs": [
    {
     "data": {
      "text/plain": [
       "4.406237053235019e+19"
      ]
     },
     "execution_count": 26,
     "metadata": {},
     "output_type": "execute_result"
    }
   ],
   "source": [
    "pixels_per_image = []\n",
    "inds = np.cumsum(np.concatenate([np.array([0]),np.array([7104])]))\n",
    "\n",
    "for i,ray_image in enumerate(merged.rays_per_image.data):\n",
    "    ray_counter = 0\n",
    "    pixel_counter = 0\n",
    "    for ray in merged.rays_per_pixel.data[inds[i]:inds[i+1]]:\n",
    "        pixel_counter \n",
    "        \n",
    "        \n"
   ]
  },
  {
   "cell_type": "code",
   "execution_count": 43,
   "metadata": {},
   "outputs": [
    {
     "ename": "ValueError",
     "evalue": "axes don't match array",
     "output_type": "error",
     "traceback": [
      "\u001b[0;31m---------------------------------------------------------------------------\u001b[0m",
      "\u001b[0;31mValueError\u001b[0m                                Traceback (most recent call last)",
      "\u001b[0;32m<ipython-input-43-c08e0b3b85be>\u001b[0m in \u001b[0;36m<module>\u001b[0;34m\u001b[0m\n\u001b[0;32m----> 1\u001b[0;31m \u001b[0mxr\u001b[0m\u001b[0;34m.\u001b[0m\u001b[0mconcat\u001b[0m\u001b[0;34m(\u001b[0m\u001b[0;34m[\u001b[0m\u001b[0mout\u001b[0m\u001b[0;34m[\u001b[0m\u001b[0;36m0\u001b[0m\u001b[0;34m]\u001b[0m\u001b[0;34m[\u001b[0m\u001b[0;36m2\u001b[0m\u001b[0;34m]\u001b[0m\u001b[0;34m[\u001b[0m\u001b[0;34m'uncertainties'\u001b[0m\u001b[0;34m]\u001b[0m\u001b[0;34m,\u001b[0m \u001b[0mout\u001b[0m\u001b[0;34m[\u001b[0m\u001b[0;36m1\u001b[0m\u001b[0;34m]\u001b[0m\u001b[0;34m[\u001b[0m\u001b[0;36m2\u001b[0m\u001b[0;34m]\u001b[0m\u001b[0;34m[\u001b[0m\u001b[0;34m'uncertainties'\u001b[0m\u001b[0;34m]\u001b[0m\u001b[0;34m]\u001b[0m\u001b[0;34m,\u001b[0m \u001b[0mdim\u001b[0m\u001b[0;34m=\u001b[0m\u001b[0;34m'npixels'\u001b[0m\u001b[0;34m)\u001b[0m\u001b[0;34m\u001b[0m\u001b[0;34m\u001b[0m\u001b[0m\n\u001b[0m",
      "\u001b[0;32m/Library/anaconda3/envs/pyshdom-dev-refactor/lib/python3.7/site-packages/xarray/core/concat.py\u001b[0m in \u001b[0;36mconcat\u001b[0;34m(objs, dim, data_vars, coords, compat, positions, fill_value, join)\u001b[0m\n\u001b[1;32m    133\u001b[0m             \u001b[0;34m\"objects, got %s\"\u001b[0m \u001b[0;34m%\u001b[0m \u001b[0mtype\u001b[0m\u001b[0;34m(\u001b[0m\u001b[0mfirst_obj\u001b[0m\u001b[0;34m)\u001b[0m\u001b[0;34m\u001b[0m\u001b[0;34m\u001b[0m\u001b[0m\n\u001b[1;32m    134\u001b[0m         )\n\u001b[0;32m--> 135\u001b[0;31m     \u001b[0;32mreturn\u001b[0m \u001b[0mf\u001b[0m\u001b[0;34m(\u001b[0m\u001b[0mobjs\u001b[0m\u001b[0;34m,\u001b[0m \u001b[0mdim\u001b[0m\u001b[0;34m,\u001b[0m \u001b[0mdata_vars\u001b[0m\u001b[0;34m,\u001b[0m \u001b[0mcoords\u001b[0m\u001b[0;34m,\u001b[0m \u001b[0mcompat\u001b[0m\u001b[0;34m,\u001b[0m \u001b[0mpositions\u001b[0m\u001b[0;34m,\u001b[0m \u001b[0mfill_value\u001b[0m\u001b[0;34m,\u001b[0m \u001b[0mjoin\u001b[0m\u001b[0;34m)\u001b[0m\u001b[0;34m\u001b[0m\u001b[0;34m\u001b[0m\u001b[0m\n\u001b[0m\u001b[1;32m    136\u001b[0m \u001b[0;34m\u001b[0m\u001b[0m\n\u001b[1;32m    137\u001b[0m \u001b[0;34m\u001b[0m\u001b[0m\n",
      "\u001b[0;32m/Library/anaconda3/envs/pyshdom-dev-refactor/lib/python3.7/site-packages/xarray/core/concat.py\u001b[0m in \u001b[0;36m_dataarray_concat\u001b[0;34m(arrays, dim, data_vars, coords, compat, positions, fill_value, join)\u001b[0m\n\u001b[1;32m    453\u001b[0m         \u001b[0mpositions\u001b[0m\u001b[0;34m,\u001b[0m\u001b[0;34m\u001b[0m\u001b[0;34m\u001b[0m\u001b[0m\n\u001b[1;32m    454\u001b[0m         \u001b[0mfill_value\u001b[0m\u001b[0;34m=\u001b[0m\u001b[0mfill_value\u001b[0m\u001b[0;34m,\u001b[0m\u001b[0;34m\u001b[0m\u001b[0;34m\u001b[0m\u001b[0m\n\u001b[0;32m--> 455\u001b[0;31m         \u001b[0mjoin\u001b[0m\u001b[0;34m=\u001b[0m\u001b[0mjoin\u001b[0m\u001b[0;34m,\u001b[0m\u001b[0;34m\u001b[0m\u001b[0;34m\u001b[0m\u001b[0m\n\u001b[0m\u001b[1;32m    456\u001b[0m     )\n\u001b[1;32m    457\u001b[0m     \u001b[0;32mreturn\u001b[0m \u001b[0marrays\u001b[0m\u001b[0;34m[\u001b[0m\u001b[0;36m0\u001b[0m\u001b[0;34m]\u001b[0m\u001b[0;34m.\u001b[0m\u001b[0m_from_temp_dataset\u001b[0m\u001b[0;34m(\u001b[0m\u001b[0mds\u001b[0m\u001b[0;34m,\u001b[0m \u001b[0mname\u001b[0m\u001b[0;34m)\u001b[0m\u001b[0;34m\u001b[0m\u001b[0;34m\u001b[0m\u001b[0m\n",
      "\u001b[0;32m/Library/anaconda3/envs/pyshdom-dev-refactor/lib/python3.7/site-packages/xarray/core/concat.py\u001b[0m in \u001b[0;36m_dataset_concat\u001b[0;34m(datasets, dim, data_vars, coords, compat, positions, fill_value, join)\u001b[0m\n\u001b[1;32m    394\u001b[0m             \u001b[0;32mexcept\u001b[0m \u001b[0mKeyError\u001b[0m\u001b[0;34m:\u001b[0m\u001b[0;34m\u001b[0m\u001b[0;34m\u001b[0m\u001b[0m\n\u001b[1;32m    395\u001b[0m                 \u001b[0;32mraise\u001b[0m \u001b[0mValueError\u001b[0m\u001b[0;34m(\u001b[0m\u001b[0;34m\"%r is not present in all datasets.\"\u001b[0m \u001b[0;34m%\u001b[0m \u001b[0mk\u001b[0m\u001b[0;34m)\u001b[0m\u001b[0;34m\u001b[0m\u001b[0;34m\u001b[0m\u001b[0m\n\u001b[0;32m--> 396\u001b[0;31m             \u001b[0mcombined\u001b[0m \u001b[0;34m=\u001b[0m \u001b[0mconcat_vars\u001b[0m\u001b[0;34m(\u001b[0m\u001b[0mvars\u001b[0m\u001b[0;34m,\u001b[0m \u001b[0mdim\u001b[0m\u001b[0;34m,\u001b[0m \u001b[0mpositions\u001b[0m\u001b[0;34m)\u001b[0m\u001b[0;34m\u001b[0m\u001b[0;34m\u001b[0m\u001b[0m\n\u001b[0m\u001b[1;32m    397\u001b[0m             \u001b[0;32massert\u001b[0m \u001b[0misinstance\u001b[0m\u001b[0;34m(\u001b[0m\u001b[0mcombined\u001b[0m\u001b[0;34m,\u001b[0m \u001b[0mVariable\u001b[0m\u001b[0;34m)\u001b[0m\u001b[0;34m\u001b[0m\u001b[0;34m\u001b[0m\u001b[0m\n\u001b[1;32m    398\u001b[0m             \u001b[0mresult_vars\u001b[0m\u001b[0;34m[\u001b[0m\u001b[0mk\u001b[0m\u001b[0;34m]\u001b[0m \u001b[0;34m=\u001b[0m \u001b[0mcombined\u001b[0m\u001b[0;34m\u001b[0m\u001b[0;34m\u001b[0m\u001b[0m\n",
      "\u001b[0;32m/Library/anaconda3/envs/pyshdom-dev-refactor/lib/python3.7/site-packages/xarray/core/variable.py\u001b[0m in \u001b[0;36mconcat\u001b[0;34m(variables, dim, positions, shortcut)\u001b[0m\n\u001b[1;32m   2378\u001b[0m         \u001b[0malong\u001b[0m \u001b[0mthe\u001b[0m \u001b[0mgiven\u001b[0m \u001b[0mdimension\u001b[0m\u001b[0;34m.\u001b[0m\u001b[0;34m\u001b[0m\u001b[0;34m\u001b[0m\u001b[0m\n\u001b[1;32m   2379\u001b[0m     \"\"\"\n\u001b[0;32m-> 2380\u001b[0;31m     \u001b[0mvariables\u001b[0m \u001b[0;34m=\u001b[0m \u001b[0mlist\u001b[0m\u001b[0;34m(\u001b[0m\u001b[0mvariables\u001b[0m\u001b[0;34m)\u001b[0m\u001b[0;34m\u001b[0m\u001b[0;34m\u001b[0m\u001b[0m\n\u001b[0m\u001b[1;32m   2381\u001b[0m     \u001b[0;32mif\u001b[0m \u001b[0mall\u001b[0m\u001b[0;34m(\u001b[0m\u001b[0misinstance\u001b[0m\u001b[0;34m(\u001b[0m\u001b[0mv\u001b[0m\u001b[0;34m,\u001b[0m \u001b[0mIndexVariable\u001b[0m\u001b[0;34m)\u001b[0m \u001b[0;32mfor\u001b[0m \u001b[0mv\u001b[0m \u001b[0;32min\u001b[0m \u001b[0mvariables\u001b[0m\u001b[0;34m)\u001b[0m\u001b[0;34m:\u001b[0m\u001b[0;34m\u001b[0m\u001b[0;34m\u001b[0m\u001b[0m\n\u001b[1;32m   2382\u001b[0m         \u001b[0;32mreturn\u001b[0m \u001b[0mIndexVariable\u001b[0m\u001b[0;34m.\u001b[0m\u001b[0mconcat\u001b[0m\u001b[0;34m(\u001b[0m\u001b[0mvariables\u001b[0m\u001b[0;34m,\u001b[0m \u001b[0mdim\u001b[0m\u001b[0;34m,\u001b[0m \u001b[0mpositions\u001b[0m\u001b[0;34m,\u001b[0m \u001b[0mshortcut\u001b[0m\u001b[0;34m)\u001b[0m\u001b[0;34m\u001b[0m\u001b[0;34m\u001b[0m\u001b[0m\n",
      "\u001b[0;32m/Library/anaconda3/envs/pyshdom-dev-refactor/lib/python3.7/site-packages/xarray/core/concat.py\u001b[0m in \u001b[0;36mensure_common_dims\u001b[0;34m(vars)\u001b[0m\n\u001b[1;32m    383\u001b[0m             \u001b[0;32mif\u001b[0m \u001b[0mvar\u001b[0m\u001b[0;34m.\u001b[0m\u001b[0mdims\u001b[0m \u001b[0;34m!=\u001b[0m \u001b[0mcommon_dims\u001b[0m\u001b[0;34m:\u001b[0m\u001b[0;34m\u001b[0m\u001b[0;34m\u001b[0m\u001b[0m\n\u001b[1;32m    384\u001b[0m                 \u001b[0mcommon_shape\u001b[0m \u001b[0;34m=\u001b[0m \u001b[0mtuple\u001b[0m\u001b[0;34m(\u001b[0m\u001b[0mdims_sizes\u001b[0m\u001b[0;34m.\u001b[0m\u001b[0mget\u001b[0m\u001b[0;34m(\u001b[0m\u001b[0md\u001b[0m\u001b[0;34m,\u001b[0m \u001b[0mdim_len\u001b[0m\u001b[0;34m)\u001b[0m \u001b[0;32mfor\u001b[0m \u001b[0md\u001b[0m \u001b[0;32min\u001b[0m \u001b[0mcommon_dims\u001b[0m\u001b[0;34m)\u001b[0m\u001b[0;34m\u001b[0m\u001b[0;34m\u001b[0m\u001b[0m\n\u001b[0;32m--> 385\u001b[0;31m                 \u001b[0mvar\u001b[0m \u001b[0;34m=\u001b[0m \u001b[0mvar\u001b[0m\u001b[0;34m.\u001b[0m\u001b[0mset_dims\u001b[0m\u001b[0;34m(\u001b[0m\u001b[0mcommon_dims\u001b[0m\u001b[0;34m,\u001b[0m \u001b[0mcommon_shape\u001b[0m\u001b[0;34m)\u001b[0m\u001b[0;34m\u001b[0m\u001b[0;34m\u001b[0m\u001b[0m\n\u001b[0m\u001b[1;32m    386\u001b[0m             \u001b[0;32myield\u001b[0m \u001b[0mvar\u001b[0m\u001b[0;34m\u001b[0m\u001b[0;34m\u001b[0m\u001b[0m\n\u001b[1;32m    387\u001b[0m \u001b[0;34m\u001b[0m\u001b[0m\n",
      "\u001b[0;32m/Library/anaconda3/envs/pyshdom-dev-refactor/lib/python3.7/site-packages/xarray/core/variable.py\u001b[0m in \u001b[0;36mset_dims\u001b[0;34m(self, dims, shape)\u001b[0m\n\u001b[1;32m   1390\u001b[0m             \u001b[0mexpanded_dims\u001b[0m\u001b[0;34m,\u001b[0m \u001b[0mexpanded_data\u001b[0m\u001b[0;34m,\u001b[0m \u001b[0mself\u001b[0m\u001b[0;34m.\u001b[0m\u001b[0m_attrs\u001b[0m\u001b[0;34m,\u001b[0m \u001b[0mself\u001b[0m\u001b[0;34m.\u001b[0m\u001b[0m_encoding\u001b[0m\u001b[0;34m,\u001b[0m \u001b[0mfastpath\u001b[0m\u001b[0;34m=\u001b[0m\u001b[0;32mTrue\u001b[0m\u001b[0;34m\u001b[0m\u001b[0;34m\u001b[0m\u001b[0m\n\u001b[1;32m   1391\u001b[0m         )\n\u001b[0;32m-> 1392\u001b[0;31m         \u001b[0;32mreturn\u001b[0m \u001b[0mexpanded_var\u001b[0m\u001b[0;34m.\u001b[0m\u001b[0mtranspose\u001b[0m\u001b[0;34m(\u001b[0m\u001b[0;34m*\u001b[0m\u001b[0mdims\u001b[0m\u001b[0;34m)\u001b[0m\u001b[0;34m\u001b[0m\u001b[0;34m\u001b[0m\u001b[0m\n\u001b[0m\u001b[1;32m   1393\u001b[0m \u001b[0;34m\u001b[0m\u001b[0m\n\u001b[1;32m   1394\u001b[0m     \u001b[0;32mdef\u001b[0m \u001b[0m_stack_once\u001b[0m\u001b[0;34m(\u001b[0m\u001b[0mself\u001b[0m\u001b[0;34m,\u001b[0m \u001b[0mdims\u001b[0m\u001b[0;34m,\u001b[0m \u001b[0mnew_dim\u001b[0m\u001b[0;34m)\u001b[0m\u001b[0;34m:\u001b[0m\u001b[0;34m\u001b[0m\u001b[0;34m\u001b[0m\u001b[0m\n",
      "\u001b[0;32m/Library/anaconda3/envs/pyshdom-dev-refactor/lib/python3.7/site-packages/xarray/core/variable.py\u001b[0m in \u001b[0;36mtranspose\u001b[0;34m(self, *dims)\u001b[0m\n\u001b[1;32m   1336\u001b[0m             \u001b[0;32mreturn\u001b[0m \u001b[0mself\u001b[0m\u001b[0;34m.\u001b[0m\u001b[0mcopy\u001b[0m\u001b[0;34m(\u001b[0m\u001b[0mdeep\u001b[0m\u001b[0;34m=\u001b[0m\u001b[0;32mFalse\u001b[0m\u001b[0;34m)\u001b[0m\u001b[0;34m\u001b[0m\u001b[0;34m\u001b[0m\u001b[0m\n\u001b[1;32m   1337\u001b[0m \u001b[0;34m\u001b[0m\u001b[0m\n\u001b[0;32m-> 1338\u001b[0;31m         \u001b[0mdata\u001b[0m \u001b[0;34m=\u001b[0m \u001b[0mas_indexable\u001b[0m\u001b[0;34m(\u001b[0m\u001b[0mself\u001b[0m\u001b[0;34m.\u001b[0m\u001b[0m_data\u001b[0m\u001b[0;34m)\u001b[0m\u001b[0;34m.\u001b[0m\u001b[0mtranspose\u001b[0m\u001b[0;34m(\u001b[0m\u001b[0maxes\u001b[0m\u001b[0;34m)\u001b[0m\u001b[0;34m\u001b[0m\u001b[0;34m\u001b[0m\u001b[0m\n\u001b[0m\u001b[1;32m   1339\u001b[0m         \u001b[0;32mreturn\u001b[0m \u001b[0mtype\u001b[0m\u001b[0;34m(\u001b[0m\u001b[0mself\u001b[0m\u001b[0;34m)\u001b[0m\u001b[0;34m(\u001b[0m\u001b[0mdims\u001b[0m\u001b[0;34m,\u001b[0m \u001b[0mdata\u001b[0m\u001b[0;34m,\u001b[0m \u001b[0mself\u001b[0m\u001b[0;34m.\u001b[0m\u001b[0m_attrs\u001b[0m\u001b[0;34m,\u001b[0m \u001b[0mself\u001b[0m\u001b[0;34m.\u001b[0m\u001b[0m_encoding\u001b[0m\u001b[0;34m,\u001b[0m \u001b[0mfastpath\u001b[0m\u001b[0;34m=\u001b[0m\u001b[0;32mTrue\u001b[0m\u001b[0;34m)\u001b[0m\u001b[0;34m\u001b[0m\u001b[0;34m\u001b[0m\u001b[0m\n\u001b[1;32m   1340\u001b[0m \u001b[0;34m\u001b[0m\u001b[0m\n",
      "\u001b[0;32m/Library/anaconda3/envs/pyshdom-dev-refactor/lib/python3.7/site-packages/xarray/core/indexing.py\u001b[0m in \u001b[0;36mtranspose\u001b[0;34m(self, order)\u001b[0m\n\u001b[1;32m   1270\u001b[0m \u001b[0;34m\u001b[0m\u001b[0m\n\u001b[1;32m   1271\u001b[0m     \u001b[0;32mdef\u001b[0m \u001b[0mtranspose\u001b[0m\u001b[0;34m(\u001b[0m\u001b[0mself\u001b[0m\u001b[0;34m,\u001b[0m \u001b[0morder\u001b[0m\u001b[0;34m)\u001b[0m\u001b[0;34m:\u001b[0m\u001b[0;34m\u001b[0m\u001b[0;34m\u001b[0m\u001b[0m\n\u001b[0;32m-> 1272\u001b[0;31m         \u001b[0;32mreturn\u001b[0m \u001b[0mself\u001b[0m\u001b[0;34m.\u001b[0m\u001b[0marray\u001b[0m\u001b[0;34m.\u001b[0m\u001b[0mtranspose\u001b[0m\u001b[0;34m(\u001b[0m\u001b[0morder\u001b[0m\u001b[0;34m)\u001b[0m\u001b[0;34m\u001b[0m\u001b[0;34m\u001b[0m\u001b[0m\n\u001b[0m\u001b[1;32m   1273\u001b[0m \u001b[0;34m\u001b[0m\u001b[0m\n\u001b[1;32m   1274\u001b[0m     \u001b[0;32mdef\u001b[0m \u001b[0m__getitem__\u001b[0m\u001b[0;34m(\u001b[0m\u001b[0mself\u001b[0m\u001b[0;34m,\u001b[0m \u001b[0mkey\u001b[0m\u001b[0;34m)\u001b[0m\u001b[0;34m:\u001b[0m\u001b[0;34m\u001b[0m\u001b[0;34m\u001b[0m\u001b[0m\n",
      "\u001b[0;31mValueError\u001b[0m: axes don't match array"
     ]
    }
   ],
   "source": [
    "xr.concat([out[0][2]['uncertainties'], out[1][2]['uncertainties']], dim='npixels')"
   ]
  },
  {
   "cell_type": "code",
   "execution_count": 20,
   "metadata": {},
   "outputs": [
    {
     "data": {
      "text/plain": [
       "array([   0, 7104])"
      ]
     },
     "execution_count": 20,
     "metadata": {},
     "output_type": "execute_result"
    }
   ],
   "source": [
    "np.cumsum(np.concatenate([np.array([0]),np.array([7104])]))"
   ]
  },
  {
   "cell_type": "code",
   "execution_count": 19,
   "metadata": {},
   "outputs": [
    {
     "data": {
      "text/plain": [
       "OrderedDict([('MISR', {'sensor_list': [<xarray.Dataset>\n",
       "                Dimensions:       (bbox: 6, image_dims: 2, npixels: 7136, nrays: 42816, pixel_fov: 1, stokes_index: 4)\n",
       "                Coordinates:\n",
       "                  * stokes_index  (stokes_index) <U1 'I' 'Q' 'U' 'V'\n",
       "                  * bbox          (bbox) <U4 'xmin' 'ymin' 'zmin' 'xmax' 'ymax' 'zmax'\n",
       "                  * image_dims    (image_dims) <U2 'nx' 'ny'\n",
       "                  * pixel_fov     (pixel_fov) float64 1.0\n",
       "                Dimensions without coordinates: npixels, nrays\n",
       "                Data variables:\n",
       "                    wavelength    float64 1.65\n",
       "                    stokes        (stokes_index) bool True False False False\n",
       "                    cam_x         (npixels) float64 0.0 0.02 0.04 0.06 ... 0.56 0.58 0.6 0.62\n",
       "                    cam_y         (npixels) float64 0.0 0.0 0.0 0.0 0.0 ... 4.44 4.44 4.44 4.44\n",
       "                    cam_z         (npixels) float64 1.44 1.44 1.44 1.44 ... 1.44 1.44 1.44 1.44\n",
       "                    cam_mu        (npixels) float64 0.2588 0.2588 0.2588 ... 0.2588 0.2588\n",
       "                    cam_phi       (npixels) float64 1.571 1.571 1.571 ... 1.571 1.571 1.571\n",
       "                    bounding_box  (bbox) float64 0.0 0.0 0.44 0.62 0.72 1.44\n",
       "                    image_shape   (image_dims) int64 32 223\n",
       "                    ray_mu        (nrays) float64 0.2588 0.2725 0.2588 ... 0.2451 0.2651 0.2525\n",
       "                    ray_phi       (nrays) float64 1.585 1.571 1.556 1.571 ... 1.571 1.571 1.571\n",
       "                    ray_x         (nrays) float64 0.0 0.0 0.0 0.0 0.0 ... 0.62 0.62 0.62 0.62\n",
       "                    ray_y         (nrays) float64 0.0 0.0 0.0 0.0 0.0 ... 4.44 4.44 4.44 4.44\n",
       "                    ray_z         (nrays) float64 1.44 1.44 1.44 1.44 ... 1.44 1.44 1.44 1.44\n",
       "                    pixel_index   (nrays) int64 0 0 0 0 0 0 1 ... 7135 7135 7135 7135 7135 7135\n",
       "                    ray_weight    (nrays) float64 0.163 0.163 0.163 ... 0.1739 0.1739 0.1739\n",
       "                    I             (npixels) float64 0.003115 0.003115 ... 0.003323 0.003323\n",
       "                Attributes:\n",
       "                    units:                      ['pixel_fov [degrees]']\n",
       "                    sub_pixel_sampling:         gaussian_cone\n",
       "                    gaussian_sub_pixel_degree:  2\n",
       "                    projection:                 Orthographic\n",
       "                    altitude:                   1.44\n",
       "                    x_resolution:               0.02\n",
       "                    y_resolution:               0.02\n",
       "                    projection_azimuth:         90\n",
       "                    projection_zenith:          75.0, <xarray.Dataset>\n",
       "                Dimensions:       (bbox: 6, image_dims: 2, npixels: 5696, nrays: 34176, pixel_fov: 1, stokes_index: 4)\n",
       "                Coordinates:\n",
       "                  * stokes_index  (stokes_index) <U1 'I' 'Q' 'U' 'V'\n",
       "                  * bbox          (bbox) <U4 'xmin' 'ymin' 'zmin' 'xmax' 'ymax' 'zmax'\n",
       "                  * image_dims    (image_dims) <U2 'nx' 'ny'\n",
       "                  * pixel_fov     (pixel_fov) float64 1.0\n",
       "                Dimensions without coordinates: npixels, nrays\n",
       "                Data variables:\n",
       "                    wavelength    float64 1.65\n",
       "                    stokes        (stokes_index) bool True False False False\n",
       "                    cam_x         (npixels) float64 0.0 0.02 0.04 0.06 ... 0.56 0.58 0.6 0.62\n",
       "                    cam_y         (npixels) float64 0.0 0.0 0.0 0.0 0.0 ... 3.54 3.54 3.54 3.54\n",
       "                    cam_z         (npixels) float64 1.44 1.44 1.44 1.44 ... 1.44 1.44 1.44 1.44\n",
       "                    cam_mu        (npixels) float64 0.3322 0.3322 0.3322 ... 0.3322 0.3322\n",
       "                    cam_phi       (npixels) float64 1.571 1.571 1.571 ... 1.571 1.571 1.571\n",
       "                    bounding_box  (bbox) float64 0.0 0.0 0.44 0.62 0.72 1.44\n",
       "                    image_shape   (image_dims) int64 32 178\n",
       "                    ray_mu        (nrays) float64 0.3321 0.3455 0.3321 ... 0.3188 0.3383 0.326\n",
       "                    ray_phi       (nrays) float64 1.586 1.571 1.556 1.571 ... 1.571 1.571 1.571\n",
       "                    ray_x         (nrays) float64 0.0 0.0 0.0 0.0 0.0 ... 0.62 0.62 0.62 0.62\n",
       "                    ray_y         (nrays) float64 0.0 0.0 0.0 0.0 0.0 ... 3.54 3.54 3.54 3.54\n",
       "                    ray_z         (nrays) float64 1.44 1.44 1.44 1.44 ... 1.44 1.44 1.44 1.44\n",
       "                    pixel_index   (nrays) int64 0 0 0 0 0 0 1 ... 5695 5695 5695 5695 5695 5695\n",
       "                    ray_weight    (nrays) float64 0.163 0.163 0.163 ... 0.1739 0.1739 0.1739\n",
       "                    I             (npixels) float64 0.003114 0.003114 ... 0.003323 0.003323\n",
       "                Attributes:\n",
       "                    units:                      ['pixel_fov [degrees]']\n",
       "                    sub_pixel_sampling:         gaussian_cone\n",
       "                    gaussian_sub_pixel_degree:  2\n",
       "                    projection:                 Orthographic\n",
       "                    altitude:                   1.44\n",
       "                    x_resolution:               0.02\n",
       "                    y_resolution:               0.02\n",
       "                    projection_azimuth:         90\n",
       "                    projection_zenith:          70.6]}),\n",
       "             ('MODIS', {'sensor_list': [<xarray.Dataset>\n",
       "                Dimensions:       (bbox: 6, image_dims: 2, npixels: 1184, nrays: 7104, pixel_fov: 1, stokes_index: 4)\n",
       "                Coordinates:\n",
       "                  * stokes_index  (stokes_index) <U1 'I' 'Q' 'U' 'V'\n",
       "                  * bbox          (bbox) <U4 'xmin' 'ymin' 'zmin' 'xmax' 'ymax' 'zmax'\n",
       "                  * image_dims    (image_dims) <U2 'nx' 'ny'\n",
       "                  * pixel_fov     (pixel_fov) float64 1.0\n",
       "                Dimensions without coordinates: npixels, nrays\n",
       "                Data variables:\n",
       "                    wavelength    float64 1.65\n",
       "                    stokes        (stokes_index) bool True False False False\n",
       "                    cam_x         (npixels) float64 0.0 0.02 0.04 0.06 ... 0.56 0.58 0.6 0.62\n",
       "                    cam_y         (npixels) float64 0.0 0.0 0.0 0.0 0.0 ... 0.72 0.72 0.72 0.72\n",
       "                    cam_z         (npixels) float64 1.44 1.44 1.44 1.44 ... 1.44 1.44 1.44 1.44\n",
       "                    cam_mu        (npixels) float64 1.0 1.0 1.0 1.0 1.0 ... 1.0 1.0 1.0 1.0 1.0\n",
       "                    cam_phi       (npixels) float64 0.0 0.0 0.0 0.0 0.0 ... 0.0 0.0 0.0 0.0 0.0\n",
       "                    bounding_box  (bbox) float64 0.0 0.0 0.44 0.62 0.72 1.44\n",
       "                    image_shape   (image_dims) int64 32 37\n",
       "                    ray_mu        (nrays) float64 0.9999 0.9999 0.9999 0.9999 ... 0.9999 1.0 1.0\n",
       "                    ray_phi       (nrays) float64 1.571 3.142 -1.571 ... 3.142 -2.449e-16\n",
       "                    ray_x         (nrays) float64 0.0 0.0 0.0 0.0 0.0 ... 0.62 0.62 0.62 0.62\n",
       "                    ray_y         (nrays) float64 0.0 0.0 0.0 0.0 0.0 ... 0.72 0.72 0.72 0.72\n",
       "                    ray_z         (nrays) float64 1.44 1.44 1.44 1.44 ... 1.44 1.44 1.44 1.44\n",
       "                    pixel_index   (nrays) int64 0 0 0 0 0 0 1 ... 1183 1183 1183 1183 1183 1183\n",
       "                    ray_weight    (nrays) float64 0.163 0.163 0.163 ... 0.1739 0.1739 0.1739\n",
       "                    I             (npixels) float64 0.003116 0.003127 ... 0.003351 0.003325\n",
       "                Attributes:\n",
       "                    units:                      ['pixel_fov [degrees]']\n",
       "                    sub_pixel_sampling:         gaussian_cone\n",
       "                    gaussian_sub_pixel_degree:  2\n",
       "                    projection:                 Orthographic\n",
       "                    altitude:                   1.44\n",
       "                    x_resolution:               0.02\n",
       "                    y_resolution:               0.02\n",
       "                    projection_azimuth:         0.0\n",
       "                    projection_zenith:          0.0, <xarray.Dataset>\n",
       "                Dimensions:       (bbox: 6, image_dims: 2, npixels: 1184, nrays: 7104, pixel_fov: 1, stokes_index: 4)\n",
       "                Coordinates:\n",
       "                  * stokes_index  (stokes_index) <U1 'I' 'Q' 'U' 'V'\n",
       "                  * bbox          (bbox) <U4 'xmin' 'ymin' 'zmin' 'xmax' 'ymax' 'zmax'\n",
       "                  * image_dims    (image_dims) <U2 'nx' 'ny'\n",
       "                  * pixel_fov     (pixel_fov) float64 1.0\n",
       "                Dimensions without coordinates: npixels, nrays\n",
       "                Data variables:\n",
       "                    wavelength    float64 2.17\n",
       "                    stokes        (stokes_index) bool True False False False\n",
       "                    cam_x         (npixels) float64 0.0 0.02 0.04 0.06 ... 0.56 0.58 0.6 0.62\n",
       "                    cam_y         (npixels) float64 0.0 0.0 0.0 0.0 0.0 ... 0.72 0.72 0.72 0.72\n",
       "                    cam_z         (npixels) float64 1.44 1.44 1.44 1.44 ... 1.44 1.44 1.44 1.44\n",
       "                    cam_mu        (npixels) float64 1.0 1.0 1.0 1.0 1.0 ... 1.0 1.0 1.0 1.0 1.0\n",
       "                    cam_phi       (npixels) float64 0.0 0.0 0.0 0.0 0.0 ... 0.0 0.0 0.0 0.0 0.0\n",
       "                    bounding_box  (bbox) float64 0.0 0.0 0.44 0.62 0.72 1.44\n",
       "                    image_shape   (image_dims) int64 32 37\n",
       "                    ray_mu        (nrays) float64 0.9999 0.9999 0.9999 0.9999 ... 0.9999 1.0 1.0\n",
       "                    ray_phi       (nrays) float64 1.571 3.142 -1.571 ... 3.142 -2.449e-16\n",
       "                    ray_x         (nrays) float64 0.0 0.0 0.0 0.0 0.0 ... 0.62 0.62 0.62 0.62\n",
       "                    ray_y         (nrays) float64 0.0 0.0 0.0 0.0 0.0 ... 0.72 0.72 0.72 0.72\n",
       "                    ray_z         (nrays) float64 1.44 1.44 1.44 1.44 ... 1.44 1.44 1.44 1.44\n",
       "                    pixel_index   (nrays) int64 0 0 0 0 0 0 1 ... 1183 1183 1183 1183 1183 1183\n",
       "                    ray_weight    (nrays) float64 0.163 0.163 0.163 ... 0.1739 0.1739 0.1739\n",
       "                    I             (npixels) float64 0.003114 0.003123 ... 0.003347 0.003323\n",
       "                Attributes:\n",
       "                    units:                      ['pixel_fov [degrees]']\n",
       "                    sub_pixel_sampling:         gaussian_cone\n",
       "                    gaussian_sub_pixel_degree:  2\n",
       "                    projection:                 Orthographic\n",
       "                    altitude:                   1.44\n",
       "                    x_resolution:               0.02\n",
       "                    y_resolution:               0.02\n",
       "                    projection_azimuth:         0.0\n",
       "                    projection_zenith:          0.0]})])"
      ]
     },
     "execution_count": 19,
     "metadata": {},
     "output_type": "execute_result"
    }
   ],
   "source": [
    "Sensordict"
   ]
  },
  {
   "cell_type": "code",
   "execution_count": 20,
   "metadata": {},
   "outputs": [],
   "source": [
    "sorted_sensors = shdom.script_util.sort_sensors(Sensordict, solvers, 'forward')"
   ]
  },
  {
   "cell_type": "code",
   "execution_count": 21,
   "metadata": {},
   "outputs": [
    {
     "data": {
      "text/plain": [
       "(OrderedDict([(1.65, <xarray.Dataset>\n",
       "               Dimensions:         (nimage: 3, nrays: 84096, stokes_index: 4)\n",
       "               Coordinates:\n",
       "                 * stokes_index    (stokes_index) <U1 'I' 'Q' 'U' 'V'\n",
       "               Dimensions without coordinates: nimage, nrays\n",
       "               Data variables:\n",
       "                   ray_x           (nrays) float64 0.0 0.0 0.0 0.0 0.0 ... 0.62 0.62 0.62 0.62\n",
       "                   ray_y           (nrays) float64 0.0 0.0 0.0 0.0 0.0 ... 0.72 0.72 0.72 0.72\n",
       "                   ray_z           (nrays) float64 1.44 1.44 1.44 1.44 ... 1.44 1.44 1.44 1.44\n",
       "                   ray_mu          (nrays) float64 0.2588 0.2725 0.2588 ... 0.9999 1.0 1.0\n",
       "                   ray_phi         (nrays) float64 1.585 1.571 1.556 ... 3.142 -2.449e-16\n",
       "                   stokes          (nimage, stokes_index) bool True False False ... False False\n",
       "                   rays_per_image  (nimage) int64 42816 34176 7104),\n",
       "              (2.17, <xarray.Dataset>\n",
       "               Dimensions:         (nimage: 1, nrays: 7104, stokes_index: 4)\n",
       "               Coordinates:\n",
       "                 * stokes_index    (stokes_index) <U1 'I' 'Q' 'U' 'V'\n",
       "               Dimensions without coordinates: nimage, nrays\n",
       "               Data variables:\n",
       "                   ray_x           (nrays) float64 0.0 0.0 0.0 0.0 0.0 ... 0.62 0.62 0.62 0.62\n",
       "                   ray_y           (nrays) float64 0.0 0.0 0.0 0.0 0.0 ... 0.72 0.72 0.72 0.72\n",
       "                   ray_z           (nrays) float64 1.44 1.44 1.44 1.44 ... 1.44 1.44 1.44 1.44\n",
       "                   ray_mu          (nrays) float64 0.9999 0.9999 0.9999 ... 0.9999 1.0 1.0\n",
       "                   ray_phi         (nrays) float64 1.571 3.142 -1.571 ... 3.142 -2.449e-16\n",
       "                   stokes          (nimage, stokes_index) bool True False False False\n",
       "                   rays_per_image  (nimage) int64 7104)]),\n",
       " OrderedDict([(1.65, [('MISR', 0), ('MISR', 1), ('MODIS', 0)]),\n",
       "              (2.17, [('MODIS', 1)])]))"
      ]
     },
     "execution_count": 21,
     "metadata": {},
     "output_type": "execute_result"
    }
   ],
   "source": [
    "sorted_sensors"
   ]
  },
  {
   "cell_type": "code",
   "execution_count": 17,
   "metadata": {},
   "outputs": [],
   "source": [
    "a,b = shdom.script_util.sort_sensors(forward_sensors, solvers, 'forward')"
   ]
  },
  {
   "cell_type": "code",
   "execution_count": 18,
   "metadata": {},
   "outputs": [
    {
     "data": {
      "text/plain": [
       "OrderedDict([(1.65, <xarray.Dataset>\n",
       "              Dimensions:         (nimage: 3, nrays: 84096, stokes_index: 4)\n",
       "              Coordinates:\n",
       "                * stokes_index    (stokes_index) <U1 'I' 'Q' 'U' 'V'\n",
       "              Dimensions without coordinates: nimage, nrays\n",
       "              Data variables:\n",
       "                  ray_x           (nrays) float64 0.0 0.0 0.0 0.0 0.0 ... 0.62 0.62 0.62 0.62\n",
       "                  ray_y           (nrays) float64 0.0 0.0 0.0 0.0 0.0 ... 0.72 0.72 0.72 0.72\n",
       "                  ray_z           (nrays) float64 1.44 1.44 1.44 1.44 ... 1.44 1.44 1.44 1.44\n",
       "                  ray_mu          (nrays) float64 0.2588 0.2725 0.2588 ... 0.9999 1.0 1.0\n",
       "                  ray_phi         (nrays) float64 1.585 1.571 1.556 ... 3.142 -2.449e-16\n",
       "                  stokes          (nimage, stokes_index) bool True False False ... False False\n",
       "                  rays_per_image  (nimage) int64 42816 34176 7104),\n",
       "             (2.17, <xarray.Dataset>\n",
       "              Dimensions:         (nimage: 1, nrays: 7104, stokes_index: 4)\n",
       "              Coordinates:\n",
       "                * stokes_index    (stokes_index) <U1 'I' 'Q' 'U' 'V'\n",
       "              Dimensions without coordinates: nimage, nrays\n",
       "              Data variables:\n",
       "                  ray_x           (nrays) float64 0.0 0.0 0.0 0.0 0.0 ... 0.62 0.62 0.62 0.62\n",
       "                  ray_y           (nrays) float64 0.0 0.0 0.0 0.0 0.0 ... 0.72 0.72 0.72 0.72\n",
       "                  ray_z           (nrays) float64 1.44 1.44 1.44 1.44 ... 1.44 1.44 1.44 1.44\n",
       "                  ray_mu          (nrays) float64 0.9999 0.9999 0.9999 ... 0.9999 1.0 1.0\n",
       "                  ray_phi         (nrays) float64 1.571 3.142 -1.571 ... 3.142 -2.449e-16\n",
       "                  stokes          (nimage, stokes_index) bool True False False False\n",
       "                  rays_per_image  (nimage) int64 7104)])"
      ]
     },
     "execution_count": 18,
     "metadata": {},
     "output_type": "execute_result"
    }
   ],
   "source": [
    "a"
   ]
  },
  {
   "cell_type": "code",
   "execution_count": 19,
   "metadata": {},
   "outputs": [
    {
     "data": {
      "text/plain": [
       "OrderedDict([(1.65, [('MISR', 0), ('MISR', 1), ('MODIS', 0)]),\n",
       "             (2.17, [('MODIS', 1)])])"
      ]
     },
     "execution_count": 19,
     "metadata": {},
     "output_type": "execute_result"
    }
   ],
   "source": [
    "b"
   ]
  },
  {
   "cell_type": "code",
   "execution_count": 22,
   "metadata": {},
   "outputs": [
    {
     "name": "stdout",
     "output_type": "stream",
     "text": [
      "[('MISR', 0), ('MISR', 1), ('MODIS', 0)]\n",
      "[('MODIS', 1)]\n"
     ]
    }
   ],
   "source": [
    "for key in solvers.keys():\n",
    "    print(b[key])"
   ]
  },
  {
   "cell_type": "code",
   "execution_count": null,
   "metadata": {},
   "outputs": [],
   "source": []
  }
 ],
 "metadata": {
  "kernelspec": {
   "display_name": "Python 3",
   "language": "python",
   "name": "python3"
  },
  "language_info": {
   "codemirror_mode": {
    "name": "ipython",
    "version": 3
   },
   "file_extension": ".py",
   "mimetype": "text/x-python",
   "name": "python",
   "nbconvert_exporter": "python",
   "pygments_lexer": "ipython3",
   "version": "3.7.3"
  }
 },
 "nbformat": 4,
 "nbformat_minor": 2
}
