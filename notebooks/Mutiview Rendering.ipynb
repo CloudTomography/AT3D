{
 "cells": [
  {
   "cell_type": "markdown",
   "metadata": {
    "ExecuteTime": {
     "end_time": "2019-04-24T11:17:12.065176Z",
     "start_time": "2019-04-24T11:17:12.053289Z"
    }
   },
   "source": [
    "# Multiview Rendering\n",
    "\n",
    "This notebook demonstrates how to solve the Radiative Transfer using SHDOM and render multiview images. \n",
    "\n",
    "The images rendered are monochromatic- a single wavelength for which a mie table was previously calculated.\n",
    "\n",
    "---\n",
    "\n",
    "Related tutorials: \n",
    " - Make Mie Table.ipynb - how to create mie tables\n",
    " - Single Image Rendering.ipynb - how to create a single monochromatic image\n",
    " - Multispectral Rendering.ipynb - how to create RGB (multispectral) images\n",
    "\n",
    "---\n",
    "\n",
    "The source Fortran code was created by Frank Evans and it is part of the SHDOM package: http://nit.colorado.edu/shdom.html\n",
    "\n",
    "The python wrapper was created by Aviad Levis, Technion Inst. of Technology 2019: https://github.com/aviadlevis/pyshdom"
   ]
  },
  {
   "cell_type": "code",
   "execution_count": 1,
   "metadata": {
    "ExecuteTime": {
     "end_time": "2019-05-22T11:33:09.498882Z",
     "start_time": "2019-05-22T11:33:08.609451Z"
    },
    "collapsed": true,
    "init_cell": true
   },
   "outputs": [],
   "source": [
    "\"\"\"\n",
    "Imports necessary for this notebook\n",
    "\"\"\"\n",
    "import os \n",
    "import matplotlib.pyplot as plt\n",
    "import numpy as np\n",
    "\n",
    "import shdom"
   ]
  },
  {
   "cell_type": "code",
   "execution_count": 2,
   "metadata": {
    "ExecuteTime": {
     "end_time": "2019-05-21T08:44:58.773611Z",
     "start_time": "2019-05-21T08:44:57.287264Z"
    }
   },
   "outputs": [
    {
     "name": "stdout",
     "output_type": "stream",
     "text": [
      "Reading mie table from file: ../mie_tables/polydisperse/Water_672nm.scat\n"
     ]
    }
   ],
   "source": [
    "\"\"\" \n",
    "MiePolydisperse object loads a previously saved mie table.\n",
    "\n",
    "Rayleigh object initilizes Rayleigh scattering according to a temperature profile.\n",
    "Temperature profile here is of summer mid-latitude for 0-20km taken from AFGL.\n",
    "\n",
    "Load a Large-Eddy-Simulated cloud michrophysical properties from a csv file.\n",
    "\"\"\"\n",
    "# Mie scattering for water droplets\n",
    "mie = shdom.MiePolydisperse()\n",
    "mie.read_table(file_path='../mie_tables/polydisperse/Water_672nm.scat')\n",
    "\n",
    "# Generate a Microphysical medium\n",
    "droplets = shdom.MicrophysicalScatterer()\n",
    "droplets.load_from_csv('../synthetic_cloud_fields/jpl_les/rico32x36x25.txt', veff=0.1)\n",
    "droplets.add_mie(mie)\n",
    "\n",
    "# Rayleigh scattering for air molecules\n",
    "temperatures = np.array([292.220, 292.040, 291.860, 291.680, 291.500, 291.320, 291.140, 290.960, 290.780, \n",
    "                         290.600, 290.420, 290.240, 290.060, 289.880, 289.700, 289.920, 290.140, 290.360, \n",
    "                         290.580, 290.800, 291.020, 291.240, 291.460, 291.680, 291.900])\n",
    "air_molecules_grid = shdom.Grid(z=np.linspace(0.0, 20.0, len(temperatures)))\n",
    "temperature_profile = shdom.GridData(air_molecules_grid, temperatures)\n",
    "rayleigh = shdom.Rayleigh(wavelength=0.672)\n",
    "rayleigh.set_profile(temperature_profile)\n",
    "air = rayleigh.get_scatterer()"
   ]
  },
  {
   "cell_type": "code",
   "execution_count": 3,
   "metadata": {
    "ExecuteTime": {
     "end_time": "2019-05-21T08:44:58.888758Z",
     "start_time": "2019-05-21T08:44:58.779993Z"
    }
   },
   "outputs": [
    {
     "name": "stdout",
     "output_type": "stream",
     "text": [
      "Scene Parameters: \n",
      "   Wavelength: [0.672 micron]\n",
      "   Surface: [Lambertian, albedo: 0.05]\n",
      "   Source: [Solar, flux: 1.0, azimuth: 65deg, zenith: 135deg]\n",
      "   Boundary Conditions: [x:open, y:open]\n",
      "\n",
      "Numerical Parameters: \n",
      "   acceleration_flag: True\n",
      "   adapt_grid_factor: 5\n",
      "   deltam: True\n",
      "   cell_to_point_ratio: 1.5\n",
      "   num_mu_bins: 8\n",
      "   high_order_radiance: True\n",
      "   max_total_mb: 10000.0\n",
      "   solution_accuracy: 0.0001\n",
      "   spherical_harmonics_accuracy: 0.01\n",
      "   split_accuracy: 0.1\n",
      "   num_phi_bins: 16\n",
      "   num_sh_term_factor: 5\n",
      "\n"
     ]
    }
   ],
   "source": [
    "\"\"\"\n",
    "Generate an Medium with two type of scatterers and initilize an RteSolver object. \n",
    "This will initialize all of shdom internal structures and grids.\n",
    "\n",
    "SceneParameters() contains parameters such as surface albedo and solar radiance\n",
    "NumericalParameters() contains parameters such as number of angular bins and split cell ratio.\n",
    "All parameters have default values which can be viewed using print(params.info).\n",
    "\"\"\"\n",
    "atmospheric_grid = droplets.grid + air.grid\n",
    "atmosphere = shdom.Medium(atmospheric_grid)\n",
    "atmosphere.add_scatterer(droplets, name='cloud')\n",
    "atmosphere.add_scatterer(air, name='air')\n",
    "\n",
    "numerical_params = shdom.NumericalParameters()\n",
    "scene_params = shdom.SceneParameters(\n",
    "    wavelength=mie.wavelength,\n",
    "    source=shdom.SolarSource(azimuth=65, zenith=135)\n",
    ")\n",
    "\n",
    "rte_solver = shdom.RteSolver(scene_params, numerical_params)\n",
    "rte_solver.init_medium(atmosphere)\n",
    "\n",
    "print(rte_solver.info)"
   ]
  },
  {
   "cell_type": "code",
   "execution_count": 4,
   "metadata": {
    "ExecuteTime": {
     "end_time": "2019-05-21T08:45:12.640705Z",
     "start_time": "2019-05-21T08:44:58.890770Z"
    },
    "collapsed": true
   },
   "outputs": [],
   "source": [
    "\"\"\"\n",
    "Solve the Radiative Transfer for the domain using SHDOM: SOLVE_RTE procedure (shdomsub1.f).\n",
    "The outputs are the source function (J) and radiance field (I) which are stored in \n",
    "the shdom.RteSolver object. These are subsequently used for the rendering of an image.\n",
    "\"\"\"\n",
    "rte_solver.solve(maxiter=100)"
   ]
  },
  {
   "cell_type": "code",
   "execution_count": 5,
   "metadata": {
    "ExecuteTime": {
     "end_time": "2019-05-21T07:52:30.896566Z",
     "start_time": "2019-05-21T07:52:28.374751Z"
    }
   },
   "outputs": [
    {
     "data": {
      "image/png": "[encoded data removed]",
      "text/plain": [
       "<matplotlib.figure.Figure at 0x7f7660415910>"
      ]
     },
     "metadata": {},
     "output_type": "display_data"
    }
   ],
   "source": [
    "\"\"\"\n",
    "Define a sensor array and render an multi-view images of the domain. \n",
    "Rendering can be done with the render() and par_render() methods.\n",
    "Note that in some cases of small atmospheric domain, parallel rendering is slower due to comunication overhead.\n",
    "\n",
    "Plot the synthetic images.\n",
    "\"\"\"\n",
    "# A fly over from East to West (negative y-axis direction)\n",
    "zenith_list = [70.5, 60, 45.6, 26.1, 0, 26.1, 45.6, 60, 70.5]\n",
    "azimuth_list = [90, 90, 90, 90, 0, -90, -90, -90, -90]\n",
    "\n",
    "projection = shdom.MultiViewProjection()\n",
    "\n",
    "for zenith, azimuth in zip(zenith_list, azimuth_list):\n",
    "    projection.add_projection(\n",
    "        shdom.OrthographicProjection(\n",
    "            bounding_box=droplets.grid.bounding_box, \n",
    "            x_resolution=0.01, \n",
    "            y_resolution=0.01, \n",
    "            azimuth=azimuth, \n",
    "            zenith=zenith,\n",
    "            altitude='TOA'\n",
    "        )\n",
    "    )\n",
    "    \n",
    "camera = shdom.Camera(shdom.RadianceSensor(), projection)\n",
    "images = camera.render(rte_solver, n_jobs=60)\n",
    "\n",
    "%matplotlib inline\n",
    "f, axarr = plt.subplots(1, len(images), figsize=(20, 20))\n",
    "for ax, image in zip(axarr, images):\n",
    "    ax.imshow(image)\n",
    "    ax.invert_xaxis() \n",
    "    ax.invert_yaxis() \n",
    "    ax.axis('off')"
   ]
  }
 ],
 "metadata": {
  "celltoolbar": "Initialization Cell",
  "kernelspec": {
   "display_name": "Python 2",
   "language": "python",
   "name": "python2"
  },
  "language_info": {
   "codemirror_mode": {
    "name": "ipython",
    "version": 2
   },
   "file_extension": ".py",
   "mimetype": "text/x-python",
   "name": "python",
   "nbconvert_exporter": "python",
   "pygments_lexer": "ipython2",
   "version": "2.7.13"
  },
  "varInspector": {
   "cols": {
    "lenName": 16,
    "lenType": 16,
    "lenVar": 40
   },
   "kernels_config": {
    "python": {
     "delete_cmd_postfix": "",
     "delete_cmd_prefix": "del ",
     "library": "var_list.py",
     "varRefreshCmd": "print(var_dic_list())"
    },
    "r": {
     "delete_cmd_postfix": ") ",
     "delete_cmd_prefix": "rm(",
     "library": "var_list.r",
     "varRefreshCmd": "cat(var_dic_list()) "
    }
   },
   "types_to_exclude": [
    "module",
    "function",
    "builtin_function_or_method",
    "instance",
    "_Feature"
   ],
   "window_display": false
  }
 },
 "nbformat": 4,
 "nbformat_minor": 2
}
