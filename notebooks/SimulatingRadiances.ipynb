{
 "cells": [
  {
   "cell_type": "markdown",
   "metadata": {},
   "source": [
    "## Simulating Radiances\n",
    "\n",
    "This example covers the simualation of synthetic measurements using pyshdom. This is a simple and streamlined example."
   ]
  },
  {
   "cell_type": "code",
   "execution_count": 1,
   "metadata": {},
   "outputs": [],
   "source": [
    "#imports\n",
    "\n",
    "import pyshdom\n",
    "import numpy as np\n",
    "import xarray as xr\n",
    "from collections import OrderedDict\n",
    "import pylab as py"
   ]
  },
  {
   "cell_type": "markdown",
   "metadata": {},
   "source": [
    "### Make the RTE grid and medium microphysics.\n",
    "\n",
    "This time we are going to include both cloud and rayleigh scatter. \n",
    "The fundamental thing that must be defined first is the `rte_grid`, which sets the domain size. We have an easy choice here from the medium but in the inverse problem this must be selected as the initial step."
   ]
  },
  {
   "cell_type": "code",
   "execution_count": 2,
   "metadata": {},
   "outputs": [],
   "source": [
    "cloud_scatterer = pyshdom.util.load_from_csv('../data/synthetic_cloud_fields/jpl_les/rico32x37x26.txt',\n",
    "                                           density='lwc',origin=(0.0,0.0))\n",
    "\n",
    "#load atmosphere\n",
    "atmosphere = xr.open_dataset('../data/ancillary/AFGL_summer_mid_lat.nc')\n",
    "#subset the atmosphere, choose only the bottom four km.\n",
    "reduced_atmosphere = atmosphere.sel({'z': atmosphere.coords['z'].data[atmosphere.coords['z'].data <= 4.0]})\n",
    "#merge the atmosphere and cloud z coordinates\n",
    "merged_z_coordinate = pyshdom.grid.combine_z_coordinates([reduced_atmosphere,cloud_scatterer])\n",
    "\n",
    "# define the property grid - which is equivalent to the base RTE grid\n",
    "rte_grid = pyshdom.grid.make_grid(cloud_scatterer.x.diff('x')[0],cloud_scatterer.x.data.size,\n",
    "                          cloud_scatterer.y.diff('y')[0],cloud_scatterer.y.data.size,\n",
    "                          cloud_scatterer.z.data)\n"
   ]
  },
  {
   "cell_type": "code",
   "execution_count": 3,
   "metadata": {},
   "outputs": [],
   "source": [
    "#finish defining microphysics because we can.\n",
    "\n",
    "cloud_scatterer_on_rte_grid = pyshdom.grid.resample_onto_grid(rte_grid, cloud_scatterer)\n",
    "\n",
    "#We choose a gamma size distribution and therefore need to define a 'veff' variable.\n",
    "size_distribution_function = pyshdom.size_distribution.gamma\n",
    "\n",
    "cloud_scatterer_on_rte_grid['veff'] = (cloud_scatterer_on_rte_grid.reff.dims,\n",
    "                                       np.full_like(cloud_scatterer_on_rte_grid.reff.data, fill_value=0.1))"
   ]
  },
  {
   "cell_type": "markdown",
   "metadata": {},
   "source": [
    "### Define Sensors\n",
    "\n",
    "This is based on AirMSPI - like measurements. 9 observations in an arc.\n",
    "\n",
    "and eMAS observations - nadir multi-spectral measurements."
   ]
  },
  {
   "cell_type": "code",
   "execution_count": 4,
   "metadata": {},
   "outputs": [],
   "source": [
    "sensor_dict = pyshdom.containers.SensorsDict()"
   ]
  },
  {
   "cell_type": "code",
   "execution_count": 5,
   "metadata": {},
   "outputs": [],
   "source": [
    "sensor_zenith_list = [75.0,60.0,45.6,26.1]*2 + [0.0]\n",
    "sensor_azimuth_list = [90]*4 + [-90]*4 +[0.0]\n",
    "for zenith,azimuth in zip(sensor_zenith_list,sensor_azimuth_list):\n",
    "    sensor_dict.add_sensor('MSPI', \n",
    "            pyshdom.sensor.orthographic_projection(0.86, cloud_scatterer,0.02,0.02, azimuth, zenith,\n",
    "                                     altitude='TOA', stokes='I')\n",
    "                          )"
   ]
  },
  {
   "cell_type": "code",
   "execution_count": 6,
   "metadata": {},
   "outputs": [],
   "source": [
    "# for wavelength in [1.65, 2.2, 3.7]:\n",
    "#     sensor_dict.add_sensor('eMAS', \n",
    "#             pyshdom.sensor.orthographic_projection(wavelength, cloud_scatterer,0.02,0.02, azimuth, zenith,\n",
    "#                                      altitude='TOA', stokes='I')\n",
    "#                           )"
   ]
  },
  {
   "cell_type": "code",
   "execution_count": 7,
   "metadata": {},
   "outputs": [],
   "source": [
    "wavelengths = sensor_dict.get_unique_solvers()"
   ]
  },
  {
   "cell_type": "markdown",
   "metadata": {},
   "source": [
    "### get optical property generators\n",
    "\n",
    "Note that we assume a monochromatic model here."
   ]
  },
  {
   "cell_type": "code",
   "execution_count": 8,
   "metadata": {},
   "outputs": [],
   "source": [
    "mie_mono_tables = OrderedDict()\n",
    "for wavelength in wavelengths:\n",
    "    mie_mono_tables[wavelength] = pyshdom.mie.get_mono_table(\n",
    "        'Water',(wavelength,wavelength),\n",
    "        max_integration_radius=65.0,\n",
    "        minimum_effective_radius=0.1,\n",
    "        relative_dir='../mie_tables',\n",
    "        verbose=False\n",
    "    )"
   ]
  },
  {
   "cell_type": "code",
   "execution_count": 9,
   "metadata": {},
   "outputs": [],
   "source": [
    "optical_property_generator = pyshdom.medium.OpticalPropertyGenerator(\n",
    "    'cloud', \n",
    "    mie_mono_tables,\n",
    "    size_distribution_function,\n",
    "    reff=np.linspace(5.0,30.0,30),\n",
    "    veff=np.linspace(0.03,0.2,9),\n",
    ")\n",
    "optical_properties = optical_property_generator(cloud_scatterer_on_rte_grid)"
   ]
  },
  {
   "cell_type": "code",
   "execution_count": 10,
   "metadata": {},
   "outputs": [],
   "source": [
    "# one function to generate rayleigh scattering.\n",
    "rayleigh_scattering = pyshdom.rayleigh.to_grid(wavelengths,atmosphere,rte_grid)"
   ]
  },
  {
   "cell_type": "markdown",
   "metadata": {},
   "source": [
    "## Define Solvers\n",
    "\n",
    "Define solvers last based on the sensor's spectral information."
   ]
  },
  {
   "cell_type": "code",
   "execution_count": 11,
   "metadata": {},
   "outputs": [],
   "source": [
    "solvers_dict = pyshdom.containers.SolversDict()\n",
    "# note we could set solver dependent surfaces / sources / numerical_config here\n",
    "# just as we have got solver dependent optical properties.\n",
    "\n",
    "for wavelength in sensor_dict.get_unique_solvers():\n",
    "    medium = {\n",
    "        'cloud': optical_properties[wavelength],\n",
    "        #'rayleigh':rayleigh_scattering[wavelength]\n",
    "     }\n",
    "    config = pyshdom.configuration.get_config('../default_config.json')\n",
    "    #config['num_mu_bins'] = 2\n",
    "    #config['num_phi_bins'] = 4\n",
    "    solvers_dict.add_solver(\n",
    "        wavelength,\n",
    "        pyshdom.solver.RTE(\n",
    "            numerical_params=config,\n",
    "            surface=pyshdom.surface.lambertian(0.0),\n",
    "            source=pyshdom.source.solar(wavelength, 0.5,0.0),\n",
    "            medium=medium,\n",
    "            num_stokes=1#sensor_dict.get_minimum_stokes()[wavelength],\n",
    "        )                   \n",
    "   )"
   ]
  },
  {
   "cell_type": "code",
   "execution_count": 12,
   "metadata": {},
   "outputs": [
    {
     "name": "stdout",
     "output_type": "stream",
     "text": [
      "CPU times: user 51.7 s, sys: 259 ms, total: 52 s\n",
      "Wall time: 52.2 s\n",
      "CPU times: user 51.7 s, sys: 259 ms, total: 52 s\n",
      "Wall time: 52.2 s\n"
     ]
    }
   ],
   "source": [
    "%%time\n",
    "# solve the 4 RTEs in parallel AND get the measurements.\n",
    "sensor_dict.get_measurements(solvers_dict, n_jobs=1)"
   ]
  },
  {
   "cell_type": "markdown",
   "metadata": {},
   "source": [
    "### Visualize the observations\n"
   ]
  },
  {
   "cell_type": "code",
   "execution_count": null,
   "metadata": {},
   "outputs": [],
   "source": [
    "for image in sensor_dict.get_images('MSPI'):\n",
    "    py.figure()\n",
    "    image.I.plot()"
   ]
  },
  {
   "cell_type": "code",
   "execution_count": 13,
   "metadata": {},
   "outputs": [],
   "source": [
    "pyshdom.util.save_forward_model('SimulateRadiances.nc', sensor_dict, solvers_dict)"
   ]
  },
  {
   "cell_type": "code",
   "execution_count": null,
   "metadata": {},
   "outputs": [],
   "source": []
  }
 ],
 "metadata": {
  "kernelspec": {
   "display_name": "Python 3",
   "language": "python",
   "name": "python3"
  },
  "language_info": {
   "codemirror_mode": {
    "name": "ipython",
    "version": 3
   },
   "file_extension": ".py",
   "mimetype": "text/x-python",
   "name": "python",
   "nbconvert_exporter": "python",
   "pygments_lexer": "ipython3",
   "version": "3.9.1"
  }
 },
 "nbformat": 4,
 "nbformat_minor": 4
}
