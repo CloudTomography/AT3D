{
 "cells": [
  {
   "cell_type": "markdown",
   "metadata": {},
   "source": [
    "# Forward Rendering\n",
    "\n",
    "This notebook demonstrates how to solve the radiative transfer using SHDOM and render an image.\n",
    "\n",
    "The source Fortran code was created by Frank Evans and it is part of the SHDOM package: http://nit.colorado.edu/shdom.html\n",
    "\n",
    "The python wrapper was created by Aviad Levis and Amit Aides, Technion Inst. of Technology 2019: https://github.com/aviadlevis/pyshdom"
   ]
  },
  {
   "cell_type": "code",
   "execution_count": 1,
   "metadata": {
    "ExecuteTime": {
     "end_time": "2019-02-21T17:35:49.965029Z",
     "start_time": "2019-02-21T17:35:49.634094Z"
    },
    "collapsed": false,
    "init_cell": true
   },
   "outputs": [],
   "source": [
    "\"\"\"\n",
    "Imports necessary for this notebook\n",
    "\"\"\"\n",
    "import os \n",
    "import matplotlib.pyplot as plt\n",
    "import numpy as np\n",
    "\n",
    "import shdom"
   ]
  },
  {
   "cell_type": "code",
   "execution_count": 2,
   "metadata": {
    "ExecuteTime": {
     "end_time": "2019-02-21T17:35:52.658532Z",
     "start_time": "2019-02-21T17:35:52.633724Z"
    },
    "collapsed": false
   },
   "outputs": [
    {
     "name": "stdout",
     "output_type": "stream",
     "text": [
      "Reading mie table from file: ../mie_tables/Water_672nm.scat\n",
      "Done.\n"
     ]
    }
   ],
   "source": [
    "\"\"\" \n",
    "Mie object loads a previously saved mie table.\n",
    "\n",
    "Rayleigh object initilizes Rayleigh scattering according to a temperature profile.\n",
    "Temperature profile here is of summer mid-latitude for 0-20km taken from AFGL  \n",
    "\"\"\"\n",
    "\n",
    "# Mie scattering for water droplets\n",
    "mie = shdom.Mie()\n",
    "mie.read_table(file_path='../mie_tables/Water_672nm.scat')\n",
    "\n",
    "# Rayleigh scattering for air molecules\n",
    "temperatures = np.array([292.220, 292.040, 291.860, 291.680, 291.500, 291.320, 291.140, 290.960, 290.780, \n",
    "                         290.600, 290.420, 290.240, 290.060, 289.880, 289.700, 289.920, 290.140, 290.360, \n",
    "                         290.580, 290.800, 291.020, 291.240, 291.460, 291.680, 291.900])\n",
    "temp_grid = shdom.Grid(z=np.linspace(0.0, 20.0, len(temperatures)))\n",
    "temperature_profile = shdom.GridData(temp_grid, temperatures)\n",
    "rayleigh = shdom.Rayleigh(wavelength=0.672, temperature_profile=temperature_profile)"
   ]
  },
  {
   "cell_type": "code",
   "execution_count": 3,
   "metadata": {
    "ExecuteTime": {
     "end_time": "2019-02-21T17:35:59.907583Z",
     "start_time": "2019-02-21T17:35:53.377015Z"
    },
    "collapsed": false
   },
   "outputs": [],
   "source": [
    "\"\"\" \n",
    "Load a Large-Eddy-Simulated cloud from a csv file.\n",
    "Using the mie tables (loaded in the previous cell) the liquid water content and \n",
    "effective radii are transformed into the extinction and phase function on a 3D grid.\n",
    "The lwc/phase are used to initilize a Medium object.\n",
    "\"\"\"\n",
    "csv_path = '../synthetic_cloud_fields/jpl_les/32x36x25.txt'\n",
    "lwc, reff = shdom.load_les_from_csv(csv_path)\n",
    "\n",
    "phase_type = 'Grid'\n",
    "\n",
    "extinction_c, albedo_c, phase_c = mie.interpolate_scattering_field(lwc, reff, phase_type)\n",
    "cloud = shdom.Medium(extinction_c, albedo_c, phase_c)\n",
    "\n",
    "extinction_a, albedo_a, phase_a = rayleigh.get_scattering_field(temp_grid, phase_type)\n",
    "air = shdom.Medium(extinction_a, albedo_a, phase_a)\n",
    "\n",
    "atmosphere = cloud + air"
   ]
  },
  {
   "cell_type": "code",
   "execution_count": 4,
   "metadata": {
    "ExecuteTime": {
     "end_time": "2019-02-21T16:16:31.783904Z",
     "start_time": "2019-02-21T16:16:31.702316Z"
    },
    "collapsed": false
   },
   "outputs": [],
   "source": [
    "\"\"\" \n",
    "Load a Large-Eddy-Simulated cloud from a csv file.\n",
    "Using the mie tables (loaded in the previous cell) the liquid water content and \n",
    "effective radii are transformed into the extinction and phase function on a 3D grid.\n",
    "The lwc/phase are used to initilize a Medium object.\n",
    "\"\"\"\n",
    "csv_path = '../synthetic_cloud_fields/jpl_les/32x36x25.txt'\n",
    "lwc, reff = shdom.load_les_from_csv(csv_path)\n",
    "\n",
    "phase_type = 'Tabulated'\n",
    "\n",
    "extinction_c, albedo_c, phase_c = mie.interpolate_scattering_field(lwc, reff, phase_type)\n",
    "cloud = shdom.Medium(extinction_c, albedo_c, phase_c)\n",
    "\n",
    "extinction_a, albedo_a, phase_a = rayleigh.get_scattering_field(temp_grid, phase_type)\n",
    "air = shdom.AmbientMedium(extinction_a, albedo_a, phase_a )\n",
    "\n",
    "atmosphere = cloud + air"
   ]
  },
  {
   "cell_type": "code",
   "execution_count": 4,
   "metadata": {
    "ExecuteTime": {
     "end_time": "2019-02-21T17:36:05.248742Z",
     "start_time": "2019-02-21T17:36:04.802350Z"
    },
    "collapsed": false
   },
   "outputs": [
    {
     "name": "stdout",
     "output_type": "stream",
     "text": [
      "Scene Parameters: \n",
      "   Wavelength: [0.67 micron]\n",
      "   Surface: [Lambertian, albedo: 0.05]\n",
      "   Source: [Solar, flux: 1.0, azimuth: 0.0deg, zenith: 180.0deg]\n",
      "   Boundary Conditions: [x:open, y:open]\n",
      "\n",
      "Numerical Parameters: \n",
      "   acceleration_flag: True\n",
      "   adapt_grid_factor: 10\n",
      "   deltam: True\n",
      "   cell_to_point_ratio: 1.3\n",
      "   num_mu_bins: 8\n",
      "   high_order_radiance: True\n",
      "   max_total_mb: 100000.0\n",
      "   solution_accuracy: 0.0001\n",
      "   spherical_harmonics_accuracy: 0.003\n",
      "   split_accuracy: 0.1\n",
      "   num_phi_bins: 16\n",
      "   num_sh_term_factor: 9\n",
      "\n"
     ]
    }
   ],
   "source": [
    "\"\"\"\n",
    "Initilize an RteSolver object and attach the Medium to it. \n",
    "This will initialize all of shdom internal structures and grids.\n",
    "\n",
    "SceneParameters() contains parameters such as surface albedo and solar radiance\n",
    "NumericalParameters() contains parameters such as number of angular bins and split cell ratio.\n",
    "All parameters have default values.\n",
    "\"\"\"\n",
    "scene_params = shdom.SceneParameters()\n",
    "numerical_params = shdom.NumericalParameters()\n",
    "\n",
    "rte_solver = shdom.RteSolver(scene_params, numerical_params)\n",
    "rte_solver.init_medium(atmosphere)\n",
    "print(rte_solver.info)"
   ]
  },
  {
   "cell_type": "code",
   "execution_count": 5,
   "metadata": {
    "ExecuteTime": {
     "end_time": "2019-02-21T17:36:31.735922Z",
     "start_time": "2019-02-21T17:36:06.759353Z"
    },
    "collapsed": false
   },
   "outputs": [],
   "source": [
    "\"\"\"\n",
    "Solve Radiative Transfer for the atmospheric domain using SHDOM solve_rte procedure. \n",
    "The outputs are the Source function (J) and Radiance field (I) which are stored in \n",
    "the shdom.RteSolver object. These can be subsequently used for rendering of an image.\n",
    "\"\"\"\n",
    "rte_solver.solve(maxiter=100)"
   ]
  },
  {
   "cell_type": "code",
   "execution_count": 7,
   "metadata": {
    "ExecuteTime": {
     "end_time": "2019-02-21T17:38:01.100001Z",
     "start_time": "2019-02-21T17:36:36.989005Z"
    },
    "collapsed": false
   },
   "outputs": [],
   "source": [
    "\"\"\"\n",
    "Define a sensor and render an image of the domain. The Orthographic sensor is essentially\n",
    "parallel rays measuring radiance at a given direction.\n",
    "\"\"\"\n",
    "sensor = shdom.OrthographicSensor(bounding_box=atmosphere.bounding_box, \n",
    "                                  x_resolution=0.02, \n",
    "                                  y_resolution=0.02, \n",
    "                                  azimuth=0.0, \n",
    "                                  zenith=0.0,\n",
    "                                  altitude='TOA')\n",
    "\n",
    "image = sensor.render(rte_solver)"
   ]
  },
  {
   "cell_type": "code",
   "execution_count": 8,
   "metadata": {
    "ExecuteTime": {
     "end_time": "2019-02-21T17:38:04.679741Z",
     "start_time": "2019-02-21T17:38:04.272942Z"
    },
    "collapsed": false
   },
   "outputs": [
    {
     "data": {
      "text/plain": [
       "<matplotlib.colorbar.Colorbar at 0x7f651e19a910>"
      ]
     },
     "execution_count": 8,
     "metadata": {},
     "output_type": "execute_result"
    },
    {
     "data": {
      "image/png": "[encoded data removed]",
      "text/plain": [
       "<matplotlib.figure.Figure at 0x7f652fc515d0>"
      ]
     },
     "metadata": {},
     "output_type": "display_data"
    }
   ],
   "source": [
    "\"\"\"\n",
    "Plot the synthetic image.\n",
    "\"\"\"\n",
    "%matplotlib inline\n",
    "plt.imshow(image)\n",
    "plt.gray()\n",
    "plt.colorbar()"
   ]
  }
 ],
 "metadata": {
  "celltoolbar": "Initialization Cell",
  "kernelspec": {
   "display_name": "Python 2",
   "language": "python",
   "name": "python2"
  },
  "language_info": {
   "codemirror_mode": {
    "name": "ipython",
    "version": 2
   },
   "file_extension": ".py",
   "mimetype": "text/x-python",
   "name": "python",
   "nbconvert_exporter": "python",
   "pygments_lexer": "ipython2",
   "version": "2.7.13"
  },
  "varInspector": {
   "cols": {
    "lenName": 16,
    "lenType": 16,
    "lenVar": 40
   },
   "kernels_config": {
    "python": {
     "delete_cmd_postfix": "",
     "delete_cmd_prefix": "del ",
     "library": "var_list.py",
     "varRefreshCmd": "print(var_dic_list())"
    },
    "r": {
     "delete_cmd_postfix": ") ",
     "delete_cmd_prefix": "rm(",
     "library": "var_list.r",
     "varRefreshCmd": "cat(var_dic_list()) "
    }
   },
   "types_to_exclude": [
    "module",
    "function",
    "builtin_function_or_method",
    "instance",
    "_Feature"
   ],
   "window_display": false
  }
 },
 "nbformat": 4,
 "nbformat_minor": 0
}
