{
 "cells": [
  {
   "cell_type": "markdown",
   "metadata": {},
   "source": [
    "# Forward Rendering\n",
    "\n",
    "This notebook demonstrates how to solve the Radiative Transfer using SHDOM and render an image.\n",
    "\n",
    "The source Fortran code was created by Frank Evans and it is part of the SHDOM package: http://nit.colorado.edu/shdom.html\n",
    "\n",
    "The python wrapper was created by Aviad Levis, Technion Inst. of Technology 2019: https://github.com/aviadlevis/pyshdom"
   ]
  },
  {
   "cell_type": "code",
   "execution_count": 1,
   "metadata": {
    "ExecuteTime": {
     "end_time": "2019-03-08T17:55:56.265858Z",
     "start_time": "2019-03-08T17:55:55.111483Z"
    },
    "init_cell": true
   },
   "outputs": [
    {
     "data": {
      "text/plain": [
       "'\\nImports necessary for this notebook\\n'"
      ]
     },
     "execution_count": 1,
     "metadata": {},
     "output_type": "execute_result"
    }
   ],
   "source": [
    "\"\"\"\n",
    "Imports necessary for this notebook\n",
    "\"\"\"\n",
    "import os \n",
    "import matplotlib.pyplot as plt\n",
    "import numpy as np\n",
    "\n",
    "import shdom"
   ]
  },
  {
   "cell_type": "code",
   "execution_count": 2,
   "metadata": {
    "ExecuteTime": {
     "end_time": "2019-03-08T17:55:56.663587Z",
     "start_time": "2019-03-08T17:55:56.430614Z"
    }
   },
   "outputs": [
    {
     "data": {
      "text/plain": [
       "' \\nMie object loads a previously saved mie table.\\n\\nRayleigh object initilizes Rayleigh scattering according to a temperature profile.\\nTemperature profile here is of summer mid-latitude for 0-20km taken from AFGL.\\n\\nLoad a Large-Eddy-Simulated cloud from a csv file using a utility function: shdom.load_les_from_csv(path).\\nUsing the loaded mie tables the liquid water content and effective radii will be transformed \\ninto the extinction and phase-function on a 3D grid (next cell). \\n'"
      ]
     },
     "execution_count": 2,
     "metadata": {},
     "output_type": "execute_result"
    },
    {
     "name": "stdout",
     "output_type": "stream",
     "text": [
      "Reading mie table from file: ../mie_tables/Water_672nm.scat\n",
      "Done.\n"
     ]
    }
   ],
   "source": [
    "\"\"\" \n",
    "Mie object loads a previously saved mie table.\n",
    "\n",
    "Rayleigh object initilizes Rayleigh scattering according to a temperature profile.\n",
    "Temperature profile here is of summer mid-latitude for 0-20km taken from AFGL.\n",
    "\n",
    "Load a Large-Eddy-Simulated cloud from a csv file using a utility function: shdom.load_les_from_csv(path).\n",
    "Using the loaded mie tables the liquid water content and effective radii will be transformed \n",
    "into the extinction and phase-function on a 3D grid (next cell). \n",
    "\"\"\"\n",
    "\n",
    "# Mie scattering for water droplets\n",
    "mie = shdom.Mie()\n",
    "mie.read_table(file_path='../mie_tables/Water_672nm.scat')\n",
    "\n",
    "# Rayleigh scattering for air molecules\n",
    "temperatures = np.array([292.220, 292.040, 291.860, 291.680, 291.500, 291.320, 291.140, 290.960, 290.780, \n",
    "                         290.600, 290.420, 290.240, 290.060, 289.880, 289.700, 289.920, 290.140, 290.360, \n",
    "                         290.580, 290.800, 291.020, 291.240, 291.460, 291.680, 291.900])\n",
    "temp_grid = shdom.Grid(z=np.linspace(0.0, 20.0, len(temperatures)))\n",
    "temperature_profile = shdom.GridData(temp_grid, temperatures)\n",
    "rayleigh = shdom.Rayleigh(wavelength=0.672, temperature_profile=temperature_profile)\n",
    "\n",
    "csv_path = '../synthetic_cloud_fields/jpl_les/32x36x25.txt'\n",
    "lwc, reff = shdom.load_les_from_csv(csv_path)"
   ]
  },
  {
   "cell_type": "code",
   "execution_count": 3,
   "metadata": {
    "ExecuteTime": {
     "end_time": "2019-03-08T17:55:58.688786Z",
     "start_time": "2019-03-08T17:55:58.557472Z"
    }
   },
   "outputs": [
    {
     "data": {
      "text/plain": [
       "\" \\nThere are currently two ways to introduce scattering due to air molecules into the atmosphere:\\n   \\n    1. Define both the cloud and the air as shdom.Medium objects and have both phase functions \\n       on a grid (phase_type='Grid').\\n       This is more accurate as each grid point will have it's own phase function. \\n       However it is slow and memory intensive.\\n\\n    2. Define the air as a shdom.AmbientMedium and have both phase function as tables \\n       (phase_type='tabulated').\\n       This is much faster and not as intensive on memory, however, it is an approximation where air\\n       is only added in the surrounding of the cloud. Inside the cloud grid there will be no scattering\\n       due to air molecules.\\n\""
      ]
     },
     "execution_count": 3,
     "metadata": {},
     "output_type": "execute_result"
    }
   ],
   "source": [
    "\"\"\" \n",
    "There are currently two ways to introduce scattering due to air molecules into the atmosphere:\n",
    "   \n",
    "    1. Define both the cloud and the air as shdom.Medium objects and have both phase functions \n",
    "       on a grid (phase_type='Grid').\n",
    "       This is more accurate as each grid point will have it's own phase function. \n",
    "       However it is slow and memory intensive.\n",
    "\n",
    "    2. Define the air as a shdom.AmbientMedium and have both phase function as tables \n",
    "       (phase_type='tabulated').\n",
    "       This is much faster and not as intensive on memory, however, it is an approximation where air\n",
    "       is only added in the surrounding of the cloud. Inside the cloud grid there will be no scattering\n",
    "       due to air molecules.\n",
    "\"\"\"\n",
    "\n",
    "phase_type = 'Tabulated'\n",
    "\n",
    "cloud = shdom.Medium()\n",
    "\n",
    "if phase_type == 'Grid':\n",
    "    air = shdom.Medium()\n",
    "elif phase_type == 'Tabulated':\n",
    "    air = shdom.AmbientMedium()\n",
    "    \n",
    "extinction_c, albedo_c, phase_c = mie.interpolate_scattering_field(lwc, reff, phase_type)\n",
    "extinction_a, albedo_a, phase_a = rayleigh.get_scattering_field(temp_grid, phase_type)\n",
    "\n",
    "cloud.set_optical_properties(extinction_c, albedo_c, phase_c)\n",
    "air.set_optical_properties(extinction_a, albedo_a, phase_a)\n",
    "    \n",
    "atmosphere = cloud + air"
   ]
  },
  {
   "cell_type": "code",
   "execution_count": 4,
   "metadata": {
    "ExecuteTime": {
     "end_time": "2019-03-08T17:56:01.269704Z",
     "start_time": "2019-03-08T17:56:01.252845Z"
    }
   },
   "outputs": [
    {
     "data": {
      "text/plain": [
       "'\\nInitilize an RteSolver object and attach the Medium to it. \\nThis will initialize all of shdom internal structures and grids.\\n\\nSceneParameters() contains parameters such as surface albedo and solar radiance\\nNumericalParameters() contains parameters such as number of angular bins and split cell ratio.\\nAll parameters have default values which can be viewed using print(params.info).\\n'"
      ]
     },
     "execution_count": 4,
     "metadata": {},
     "output_type": "execute_result"
    },
    {
     "name": "stdout",
     "output_type": "stream",
     "text": [
      "Scene Parameters: \n",
      "   Wavelength: [0.672 micron]\n",
      "   Surface: [Lambertian, albedo: 0.05]\n",
      "   Source: [Solar, flux: 1.0, azimuth: 0.0deg, zenith: 180.0deg]\n",
      "   Boundary Conditions: [x:open, y:open]\n",
      "\n",
      "Numerical Parameters: \n",
      "   acceleration_flag: True\n",
      "   adapt_grid_factor: 10\n",
      "   deltam: True\n",
      "   cell_to_point_ratio: 1.5\n",
      "   num_mu_bins: 8\n",
      "   high_order_radiance: True\n",
      "   max_total_mb: 100000.0\n",
      "   solution_accuracy: 0.0001\n",
      "   spherical_harmonics_accuracy: 0.003\n",
      "   split_accuracy: 0.1\n",
      "   num_phi_bins: 16\n",
      "   num_sh_term_factor: 9\n",
      "\n"
     ]
    }
   ],
   "source": [
    "\"\"\"\n",
    "Initilize an RteSolver object and attach the Medium to it. \n",
    "This will initialize all of shdom internal structures and grids.\n",
    "\n",
    "SceneParameters() contains parameters such as surface albedo and solar radiance\n",
    "NumericalParameters() contains parameters such as number of angular bins and split cell ratio.\n",
    "All parameters have default values which can be viewed using print(params.info).\n",
    "\"\"\"\n",
    "scene_params = shdom.SceneParameters()\n",
    "numerical_params = shdom.NumericalParameters()\n",
    "\n",
    "rte_solver = shdom.RteSolver(scene_params, numerical_params)\n",
    "rte_solver.init_medium(atmosphere)\n",
    "\n",
    "print(rte_solver.info)"
   ]
  },
  {
   "cell_type": "code",
   "execution_count": 5,
   "metadata": {
    "ExecuteTime": {
     "end_time": "2019-03-08T17:56:25.656966Z",
     "start_time": "2019-03-08T17:56:05.125512Z"
    }
   },
   "outputs": [
    {
     "data": {
      "text/plain": [
       "'\\nSolve the Radiative Transfer for the domain using SHDOM: SOLVE_RTE procedure (shdomsub1.f).\\nThe outputs are the source function (J) and radiance field (I) which are stored in \\nthe shdom.RteSolver object. These are subsequently used for the rendering of an image.\\n'"
      ]
     },
     "execution_count": 5,
     "metadata": {},
     "output_type": "execute_result"
    }
   ],
   "source": [
    "\"\"\"\n",
    "Solve the Radiative Transfer for the domain using SHDOM: SOLVE_RTE procedure (shdomsub1.f).\n",
    "The outputs are the source function (J) and radiance field (I) which are stored in \n",
    "the shdom.RteSolver object. These are subsequently used for the rendering of an image.\n",
    "\"\"\"\n",
    "rte_solver.solve(maxiter=100)"
   ]
  },
  {
   "cell_type": "code",
   "execution_count": 7,
   "metadata": {
    "ExecuteTime": {
     "end_time": "2019-02-28T17:51:50.617786Z",
     "start_time": "2019-02-28T17:51:50.447934Z"
    },
    "collapsed": true
   },
   "outputs": [],
   "source": [
    "\"\"\"\n",
    "Define a sensor and render an image of the domain. The Orthographic sensor is essentially\n",
    "parallel rays measuring radiance at a given direction.\n",
    "\"\"\"\n",
    "sensor = shdom.OrthographicSensor(bounding_box=cloud.bounding_box, \n",
    "                                  x_resolution=0.02, \n",
    "                                  y_resolution=0.02, \n",
    "                                  azimuth=0.0, \n",
    "                                  zenith=0.0,\n",
    "                                  altitude='TOA')\n",
    "\n",
    "image = sensor.render(rte_solver)"
   ]
  },
  {
   "cell_type": "code",
   "execution_count": 8,
   "metadata": {
    "ExecuteTime": {
     "end_time": "2019-02-28T17:51:51.005990Z",
     "start_time": "2019-02-28T17:51:50.620134Z"
    }
   },
   "outputs": [
    {
     "data": {
      "text/plain": [
       "<matplotlib.colorbar.Colorbar at 0x7faaf3556590>"
      ]
     },
     "execution_count": 8,
     "metadata": {},
     "output_type": "execute_result"
    },
    {
     "data": {
      "image/png": "[encoded data removed]",
      "text/plain": [
       "<matplotlib.figure.Figure at 0x7faaf3f78b50>"
      ]
     },
     "metadata": {},
     "output_type": "display_data"
    }
   ],
   "source": [
    "\"\"\"\n",
    "Plot the synthetic image. \n",
    "axis are inverted so that image up would be pointing north and \n",
    "image left would be pointing East.\n",
    "\"\"\"\n",
    "%matplotlib inline\n",
    "plt.imshow(image)\n",
    "plt.gca().invert_yaxis() \n",
    "plt.gca().invert_xaxis() \n",
    "plt.gray()\n",
    "plt.colorbar()"
   ]
  },
  {
   "cell_type": "code",
   "execution_count": 9,
   "metadata": {
    "ExecuteTime": {
     "end_time": "2019-02-28T17:51:54.147527Z",
     "start_time": "2019-02-28T17:51:51.007236Z"
    }
   },
   "outputs": [
    {
     "data": {
      "image/png": "[encoded data removed]",
      "text/plain": [
       "<matplotlib.figure.Figure at 0x7faaf3abaad0>"
      ]
     },
     "metadata": {},
     "output_type": "display_data"
    }
   ],
   "source": [
    "\"\"\"\n",
    "Define a sensor array and render an multi-view images of the domain. \n",
    "Rendering can be done with the render() and par_render() methods.\n",
    "Note that in some cases of small atmospheric domain, parallel rendering is slower due to comunication overhead.\n",
    "\n",
    "Plot the synthetic images.\n",
    "\"\"\"\n",
    "\n",
    "# A fly over from East to West (negative y-axis direction)\n",
    "zenith_list = [60, 45, 30, 15, 0, 15, 30, 45, 60]\n",
    "azimuth_list = [90, 90, 90, 90, 0, -90, -90, -90, -90]\n",
    "\n",
    "sensors = shdom.SensorArray()\n",
    "for zenith, azimuth in zip(zenith_list, azimuth_list):\n",
    "    sensors.add_sensor(shdom.OrthographicSensor(\n",
    "            bounding_box=cloud.bounding_box, \n",
    "            x_resolution=0.02, \n",
    "            y_resolution=0.02, \n",
    "            azimuth=azimuth, \n",
    "            zenith=zenith,\n",
    "            altitude='TOA'))\n",
    "\n",
    "images = sensors.par_render(rte_solver, n_jobs=15)\n",
    "\n",
    "\n",
    "%matplotlib inline\n",
    "f, axarr = plt.subplots(1, len(images), figsize=(20, 15))\n",
    "for ax, image in zip(axarr, images):\n",
    "    ax.imshow(image)\n",
    "    ax.invert_xaxis() \n",
    "    ax.invert_yaxis() \n",
    "    ax.axis('off')\n",
    "plt.gray()"
   ]
  },
  {
   "cell_type": "markdown",
   "metadata": {},
   "source": [
    "## Save measurements and scene for optimization\n",
    "---\n",
    "\n"
   ]
  },
  {
   "cell_type": "code",
   "execution_count": 10,
   "metadata": {
    "ExecuteTime": {
     "end_time": "2019-02-28T17:51:54.181560Z",
     "start_time": "2019-02-28T17:51:54.148772Z"
    },
    "collapsed": true
   },
   "outputs": [],
   "source": [
    "\"\"\"\n",
    "Define a Measurements object which contains the sensor geometry and the radiances.\n",
    "The measurements object as an add_noise method which is useful to model sensor noise.\n",
    "\n",
    "Save the forward model for inverse analysis.\n",
    "\"\"\"\n",
    "\n",
    "measurements = shdom.Measurements(sensor, image)\n",
    "shdom.save_forward_model(\n",
    "    directory='../experiments/jpl_les_32x36x25',\n",
    "    medium=atmosphere,\n",
    "    solver=rte_solver,\n",
    "    measurements=measurements\n",
    ")"
   ]
  }
 ],
 "metadata": {
  "celltoolbar": "Initialization Cell",
  "kernelspec": {
   "display_name": "Python 2",
   "language": "python",
   "name": "python2"
  },
  "language_info": {
   "codemirror_mode": {
    "name": "ipython",
    "version": 2
   },
   "file_extension": ".py",
   "mimetype": "text/x-python",
   "name": "python",
   "nbconvert_exporter": "python",
   "pygments_lexer": "ipython2",
   "version": "2.7.12"
  },
  "varInspector": {
   "cols": {
    "lenName": 16,
    "lenType": 16,
    "lenVar": 40
   },
   "kernels_config": {
    "python": {
     "delete_cmd_postfix": "",
     "delete_cmd_prefix": "del ",
     "library": "var_list.py",
     "varRefreshCmd": "print(var_dic_list())"
    },
    "r": {
     "delete_cmd_postfix": ") ",
     "delete_cmd_prefix": "rm(",
     "library": "var_list.r",
     "varRefreshCmd": "cat(var_dic_list()) "
    }
   },
   "types_to_exclude": [
    "module",
    "function",
    "builtin_function_or_method",
    "instance",
    "_Feature"
   ],
   "window_display": false
  }
 },
 "nbformat": 4,
 "nbformat_minor": 1
}
