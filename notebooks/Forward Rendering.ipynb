{
 "cells": [
  {
   "cell_type": "markdown",
   "metadata": {},
   "source": [
    "# Forward Rendering\n",
    "\n",
    "This notebook shows how solve the radiative transfer using SHDOM and render a simulated image.\n",
    "\n",
    "The source Fortran code was created by Frank Evans and it is part of the SHDOM package: http://nit.colorado.edu/shdom.html\n",
    "\n",
    "The python wrapper was created by Amit Aides and Aviad Levis, Technion inst. of Technology 2019: https://github.com/aviadlevis/pyshdom"
   ]
  },
  {
   "cell_type": "code",
   "execution_count": 1,
   "metadata": {
    "ExecuteTime": {
     "end_time": "2019-02-05T18:33:14.574536Z",
     "start_time": "2019-02-05T18:33:14.443382Z"
    },
    "collapsed": false
   },
   "outputs": [],
   "source": [
    "\"\"\" Description \"\"\"\n",
    "\n",
    "import shdom\n",
    "import numpy as np\n",
    "\n",
    "scene_params = shdom.SceneParameters()\n",
    "numerical_params = shdom.NumericalParameters()\n",
    "\n",
    "rte_solver = shdom.RteSolver(scene_params=scene_params,\n",
    "                             numerical_params=numerical_params)"
   ]
  },
  {
   "cell_type": "code",
   "execution_count": 3,
   "metadata": {
    "ExecuteTime": {
     "end_time": "2019-02-06T14:01:50.567090Z",
     "start_time": "2019-02-06T14:01:50.562256Z"
    },
    "collapsed": false
   },
   "outputs": [],
   "source": [
    "from shdom import Mie\n",
    "\n",
    "wavelength_band = (0.672, 0.672)\n",
    "particle_type='Water' \n",
    "distribution='Gamma'\n",
    "alpha=7.0\n",
    "num_effective_radii=100\n",
    "start_effective_radius=1.0\n",
    "end_effective_radius=25.0\n",
    "max_integration_radius=75.0\n",
    "\n",
    "\n",
    "mie = Mie(wavelength_band=wavelength_band,\n",
    "          particle_type=particle_type,\n",
    "          distribution=distribution,\n",
    "          alpha=alpha)\n",
    "\n",
    "mie.compute_table(\n",
    "    num_effective_radii=num_effective_radii,\n",
    "    start_effective_radius=start_effective_radius,\n",
    "    end_effective_radius=end_effective_radius,\n",
    "    max_integration_radius=max_integration_radius)"
   ]
  },
  {
   "cell_type": "code",
   "execution_count": 4,
   "metadata": {
    "ExecuteTime": {
     "end_time": "2019-02-06T14:03:06.107150Z",
     "start_time": "2019-02-06T14:03:06.081797Z"
    },
    "collapsed": false
   },
   "outputs": [
    {
     "data": {
      "text/plain": [
       "(3,)"
      ]
     },
     "execution_count": 4,
     "metadata": {},
     "output_type": "execute_result"
    }
   ],
   "source": [
    "np.ones(shape=[3]).shape\n"
   ]
  }
 ],
 "metadata": {
  "kernelspec": {
   "display_name": "Python 2",
   "language": "python",
   "name": "python2"
  },
  "language_info": {
   "codemirror_mode": {
    "name": "ipython",
    "version": 2
   },
   "file_extension": ".py",
   "mimetype": "text/x-python",
   "name": "python",
   "nbconvert_exporter": "python",
   "pygments_lexer": "ipython2",
   "version": "2.7.13"
  },
  "varInspector": {
   "cols": {
    "lenName": 16,
    "lenType": 16,
    "lenVar": 40
   },
   "kernels_config": {
    "python": {
     "delete_cmd_postfix": "",
     "delete_cmd_prefix": "del ",
     "library": "var_list.py",
     "varRefreshCmd": "print(var_dic_list())"
    },
    "r": {
     "delete_cmd_postfix": ") ",
     "delete_cmd_prefix": "rm(",
     "library": "var_list.r",
     "varRefreshCmd": "cat(var_dic_list()) "
    }
   },
   "types_to_exclude": [
    "module",
    "function",
    "builtin_function_or_method",
    "instance",
    "_Feature"
   ],
   "window_display": false
  }
 },
 "nbformat": 4,
 "nbformat_minor": 0
}
