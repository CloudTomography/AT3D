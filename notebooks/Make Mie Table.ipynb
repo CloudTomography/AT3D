{
 "cells": [
  {
   "cell_type": "markdown",
   "metadata": {},
   "source": [
    "# Creating a Mie scattering table\n",
    "\n",
    "This notebook demonstrates how to create a Mie scattering table using src/make_mie_table.f90. \n",
    "\n",
    "The source Fortran code was created by Frank Evans and it is part of the SHDOM package: http://nit.colorado.edu/shdom.html\n",
    "\n",
    "The python wrapper was created by Aviad Levis, Technion inst. of Technology 2019: https://github.com/aviadlevis/pyshdom"
   ]
  },
  {
   "cell_type": "markdown",
   "metadata": {
    "heading_collapsed": true
   },
   "source": [
    "## Source code documentation"
   ]
  },
  {
   "cell_type": "code",
   "execution_count": 1,
   "metadata": {
    "ExecuteTime": {
     "end_time": "2019-02-05T07:17:52.367350Z",
     "start_time": "2019-02-05T07:17:52.337590Z"
    },
    "code_folding": [],
    "collapsed": false,
    "hidden": true
   },
   "outputs": [
    {
     "data": {
      "text/html": [
       "<iframe width=\"100%\" height=\"1000\" src=\"http://nit.colorado.edu/shdom/shdomdoc/makemietable.html\"></iframe>"
      ],
      "text/plain": [
       "<IPython.core.display.HTML object>"
      ]
     },
     "metadata": {},
     "output_type": "display_data"
    }
   ],
   "source": [
    "%%HTML\n",
    "<iframe width=\"100%\" height=\"1000\" src=\"http://nit.colorado.edu/shdom/shdomdoc/makemietable.html\"></iframe>"
   ]
  },
  {
   "cell_type": "markdown",
   "metadata": {},
   "source": [
    "## Python wrapper"
   ]
  },
  {
   "cell_type": "code",
   "execution_count": 1,
   "metadata": {
    "ExecuteTime": {
     "end_time": "2019-02-05T10:26:08.226141Z",
     "start_time": "2019-02-05T10:25:54.051434Z"
    },
    "collapsed": false
   },
   "outputs": [],
   "source": [
    "\"\"\" Create Mie table python object \"\"\"\n",
    "\n",
    "from shdom import Mie\n",
    "\n",
    "wavelength_band = (0.672, 0.672)\n",
    "particle_type='Water' \n",
    "distribution='Gamma'\n",
    "alpha=7.0\n",
    "num_effective_radii=100\n",
    "start_effective_radius=1.0\n",
    "end_effective_radius=25.0\n",
    "max_integration_radius=75.0\n",
    "\n",
    "\n",
    "mie = Mie(wavelength_band=wavelength_band,\n",
    "          particle_type=particle_type,\n",
    "          distribution=distribution,\n",
    "          alpha=alpha)\n",
    "\n",
    "mie.compute_table(\n",
    "    num_effective_radii=num_effective_radii,\n",
    "    start_effective_radius=start_effective_radius,\n",
    "    end_effective_radius=end_effective_radius,\n",
    "    max_integration_radius=max_integration_radius)"
   ]
  },
  {
   "cell_type": "code",
   "execution_count": 3,
   "metadata": {
    "ExecuteTime": {
     "end_time": "2019-02-05T10:27:59.775112Z",
     "start_time": "2019-02-05T10:27:59.654208Z"
    },
    "collapsed": false
   },
   "outputs": [],
   "source": [
    "\"\"\" Write Mie table to file for later use  \"\"\"\n",
    "\n",
    "import os \n",
    "\n",
    "ouput_file_name = 'Mie_Water_672nm.scat'\n",
    "directory = '../mie_tables'\n",
    "\n",
    "# safe creation of the directory\n",
    "if not os.path.exists(directory):\n",
    "    os.makedirs(directory)\n",
    "output_path = os.path.join(directory, 'Water_672nm.scat')\n",
    "\n",
    "mie.write_table(output_path)"
   ]
  }
 ],
 "metadata": {
  "kernelspec": {
   "display_name": "Python 2",
   "language": "python",
   "name": "python2"
  },
  "language_info": {
   "codemirror_mode": {
    "name": "ipython",
    "version": 2
   },
   "file_extension": ".py",
   "mimetype": "text/x-python",
   "name": "python",
   "nbconvert_exporter": "python",
   "pygments_lexer": "ipython2",
   "version": "2.7.13"
  },
  "varInspector": {
   "cols": {
    "lenName": 16,
    "lenType": 16,
    "lenVar": 40
   },
   "kernels_config": {
    "python": {
     "delete_cmd_postfix": "",
     "delete_cmd_prefix": "del ",
     "library": "var_list.py",
     "varRefreshCmd": "print(var_dic_list())"
    },
    "r": {
     "delete_cmd_postfix": ") ",
     "delete_cmd_prefix": "rm(",
     "library": "var_list.r",
     "varRefreshCmd": "cat(var_dic_list()) "
    }
   },
   "types_to_exclude": [
    "module",
    "function",
    "builtin_function_or_method",
    "instance",
    "_Feature"
   ],
   "window_display": false
  }
 },
 "nbformat": 4,
 "nbformat_minor": 0
}
