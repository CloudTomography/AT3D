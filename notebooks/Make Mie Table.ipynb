{
 "cells": [
  {
   "cell_type": "markdown",
   "metadata": {},
   "source": [
    "# Creating a Mie scattering table\n",
    "\n",
    "This notebook demonstrates how to create a Mie scattering table using src/make_mie_table.f90. \n",
    "\n",
    "The source Fortran code was created by Frank Evans and it is part of the SHDOM package: http://nit.colorado.edu/shdom.html\n",
    "\n",
    "The python wrapper was created by Aviad Levis, Technion inst. of Technology 2019: https://github.com/aviadlevis/pyshdom"
   ]
  },
  {
   "cell_type": "code",
   "execution_count": 9,
   "metadata": {
    "ExecuteTime": {
     "end_time": "2019-04-24T11:41:34.660412Z",
     "start_time": "2019-04-24T11:41:34.656032Z"
    },
    "collapsed": true,
    "init_cell": true
   },
   "outputs": [],
   "source": [
    "\"\"\"\n",
    "Imports necessary for this notebook\n",
    "\"\"\"\n",
    "import os \n",
    "import matplotlib.pyplot as plt\n",
    "from shdom import Mie"
   ]
  },
  {
   "cell_type": "code",
   "execution_count": 10,
   "metadata": {
    "ExecuteTime": {
     "end_time": "2019-04-24T11:41:50.812008Z",
     "start_time": "2019-04-24T11:41:35.718744Z"
    }
   },
   "outputs": [
    {
     "name": "stdout",
     "output_type": "stream",
     "text": [
      "Computing mie table...\n",
      "Done.\n"
     ]
    },
    {
     "data": {
      "text/plain": [
       "<matplotlib.text.Text at 0x7f12f417c790>"
      ]
     },
     "execution_count": 10,
     "metadata": {},
     "output_type": "execute_result"
    },
    {
     "data": {
      "image/png": "[encoded data removed]",
      "text/plain": [
       "<matplotlib.figure.Figure at 0x7f12f42639d0>"
      ]
     },
     "metadata": {},
     "output_type": "display_data"
    }
   ],
   "source": [
    "\"\"\" \n",
    "Create Mie table python object and compute a scattering table.\n",
    "Note that this may take some time depending on the parameters set (mie computations are intensive).\n",
    "\"\"\"\n",
    "\n",
    "mie = Mie()\n",
    "\n",
    "wavelength_band = (0.672, 0.672)\n",
    "particle_type='Water' \n",
    "distribution='gamma'\n",
    "alpha=7.0\n",
    "\n",
    "mie.set_parameters(wavelength_band=wavelength_band,\n",
    "                   particle_type=particle_type,\n",
    "                   distribution=distribution,\n",
    "                   alpha=alpha)\n",
    "\n",
    "num_effective_radii=50\n",
    "start_effective_radius=5.0\n",
    "end_effective_radius=20.0\n",
    "max_integration_radius=75.0\n",
    "log_space_reff=False\n",
    "\n",
    "mie.compute_table(num_effective_radii=num_effective_radii,\n",
    "                  start_effective_radius=start_effective_radius,\n",
    "                  end_effective_radius=end_effective_radius,\n",
    "                  max_integration_radius=max_integration_radius,\n",
    "                  log_space_reff=log_space_reff)\n",
    "\n",
    "\n",
    "# Plot the Legendre series coefficients for some effective radius in the table\n",
    "%matplotlib inline\n",
    "plot_index = 25\n",
    "plot_re = mie.reff[plot_index]\n",
    "plot_legendre = mie.legcoef[:, plot_index]\n",
    "plt.figure(figsize=(10,3))\n",
    "plt.plot(plot_legendre)\n",
    "plt.title('Legendre coefficients for reff={}'.format(plot_re))"
   ]
  },
  {
   "cell_type": "code",
   "execution_count": 11,
   "metadata": {
    "ExecuteTime": {
     "end_time": "2019-04-24T11:41:50.893386Z",
     "start_time": "2019-04-24T11:41:50.856162Z"
    }
   },
   "outputs": [
    {
     "name": "stdout",
     "output_type": "stream",
     "text": [
      "Writing mie table to file: ../mie_tables/Water_672nm.scat\n",
      "Done.\n"
     ]
    }
   ],
   "source": [
    "\"\"\" \n",
    "Create a directory (if doesnt exist) and write the Mie table, that was created \n",
    "in the previous cell, for for later use.\n",
    "\"\"\"\n",
    "directory = '../mie_tables'\n",
    "\n",
    "# safe creation of the directory\n",
    "if not os.path.exists(directory):\n",
    "    os.makedirs(directory)\n",
    "output_path = os.path.join(directory, 'Water_672nm.scat')\n",
    "\n",
    "mie.write_table(output_path)"
   ]
  },
  {
   "cell_type": "code",
   "execution_count": 12,
   "metadata": {
    "ExecuteTime": {
     "end_time": "2019-04-24T11:42:41.360209Z",
     "start_time": "2019-04-24T11:42:40.865620Z"
    },
    "scrolled": true
   },
   "outputs": [
    {
     "name": "stdout",
     "output_type": "stream",
     "text": [
      "Reading mie table from file: ../mie_tables/Water_672nm.scat\n",
      "Done.\n"
     ]
    },
    {
     "data": {
      "text/plain": [
       "<matplotlib.text.Text at 0x7f12f40be3d0>"
      ]
     },
     "execution_count": 12,
     "metadata": {},
     "output_type": "execute_result"
    },
    {
     "data": {
      "image/png": "[encoded data removed]",
      "text/plain": [
       "<matplotlib.figure.Figure at 0x7f12f64afd10>"
      ]
     },
     "metadata": {},
     "output_type": "display_data"
    }
   ],
   "source": [
    "\"\"\" \n",
    "Load a previously saved mie table to a new mie object and plot the legendre coeffiecients.\n",
    "\"\"\"\n",
    "\n",
    "input_path = '../mie_tables/Water_672nm.scat'\n",
    "\n",
    "mie = Mie()\n",
    "\n",
    "mie.read_table(input_path)\n",
    "\n",
    "\n",
    "# Plot the Legendre series coefficients for some effective radius in the table\n",
    "plot_index = 25\n",
    "plot_re = mie.reff[plot_index]\n",
    "plot_legendre = mie.legcoef[:, plot_index]\n",
    "plt.figure(figsize=(10,3))\n",
    "plt.plot(plot_legendre)\n",
    "plt.title('Legendre coefficients for reff={}'.format(plot_re))"
   ]
  }
 ],
 "metadata": {
  "celltoolbar": "Initialization Cell",
  "kernelspec": {
   "display_name": "Python 2",
   "language": "python",
   "name": "python2"
  },
  "language_info": {
   "codemirror_mode": {
    "name": "ipython",
    "version": 2
   },
   "file_extension": ".py",
   "mimetype": "text/x-python",
   "name": "python",
   "nbconvert_exporter": "python",
   "pygments_lexer": "ipython2",
   "version": "2.7.13"
  },
  "varInspector": {
   "cols": {
    "lenName": 16,
    "lenType": 16,
    "lenVar": 40
   },
   "kernels_config": {
    "python": {
     "delete_cmd_postfix": "",
     "delete_cmd_prefix": "del ",
     "library": "var_list.py",
     "varRefreshCmd": "print(var_dic_list())"
    },
    "r": {
     "delete_cmd_postfix": ") ",
     "delete_cmd_prefix": "rm(",
     "library": "var_list.r",
     "varRefreshCmd": "cat(var_dic_list()) "
    }
   },
   "types_to_exclude": [
    "module",
    "function",
    "builtin_function_or_method",
    "instance",
    "_Feature"
   ],
   "window_display": false
  }
 },
 "nbformat": 4,
 "nbformat_minor": 1
}
